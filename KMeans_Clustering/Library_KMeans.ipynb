{
 "cells": [
  {
   "cell_type": "code",
   "execution_count": 1,
   "metadata": {},
   "outputs": [],
   "source": [
    "import numpy as np\n",
    "import pandas as pd\n",
    "from sklearn.cluster import KMeans"
   ]
  },
  {
   "cell_type": "code",
   "execution_count": 4,
   "metadata": {},
   "outputs": [
    {
     "name": "stdout",
     "output_type": "stream",
     "text": [
      "Classes:\n",
      "\n",
      "[('Iris-setosa', 1), ('Iris-setosa', 5), ('Iris-setosa', 5), ('Iris-setosa', 5), ('Iris-setosa', 1), ('Iris-setosa', 1), ('Iris-setosa', 5), ('Iris-setosa', 1), ('Iris-setosa', 5), ('Iris-setosa', 5), ('Iris-setosa', 1), ('Iris-setosa', 5), ('Iris-setosa', 5), ('Iris-setosa', 1), ('Iris-setosa', 1), ('Iris-setosa', 1), ('Iris-setosa', 1), ('Iris-setosa', 5), ('Iris-setosa', 1), ('Iris-setosa', 5), ('Iris-setosa', 5), ('Iris-setosa', 1), ('Iris-setosa', 1), ('Iris-setosa', 1), ('Iris-setosa', 5), ('Iris-setosa', 5), ('Iris-setosa', 1), ('Iris-setosa', 1), ('Iris-setosa', 1), ('Iris-setosa', 5), ('Iris-setosa', 5), ('Iris-setosa', 1), ('Iris-setosa', 5), ('Iris-setosa', 5), ('Iris-setosa', 1), ('Iris-setosa', 1), ('Iris-setosa', 5), ('Iris-setosa', 5), ('Iris-setosa', 1), ('Iris-setosa', 1), ('Iris-setosa', 5), ('Iris-setosa', 1), ('Iris-setosa', 5), ('Iris-setosa', 1), ('Iris-setosa', 5), ('Iris-versicolor', 0), ('Iris-versicolor', 0), ('Iris-versicolor', 0), ('Iris-versicolor', 4), ('Iris-versicolor', 0), ('Iris-versicolor', 7), ('Iris-versicolor', 0), ('Iris-versicolor', 4), ('Iris-versicolor', 0), ('Iris-versicolor', 4), ('Iris-versicolor', 0), ('Iris-versicolor', 7), ('Iris-versicolor', 7), ('Iris-versicolor', 0), ('Iris-versicolor', 4), ('Iris-versicolor', 2), ('Iris-versicolor', 7), ('Iris-versicolor', 0), ('Iris-versicolor', 0), ('Iris-versicolor', 0), ('Iris-versicolor', 0), ('Iris-versicolor', 0), ('Iris-versicolor', 0), ('Iris-versicolor', 0), ('Iris-versicolor', 4), ('Iris-versicolor', 4), ('Iris-versicolor', 4), ('Iris-versicolor', 7), ('Iris-versicolor', 2), ('Iris-versicolor', 7), ('Iris-versicolor', 0), ('Iris-versicolor', 0), ('Iris-versicolor', 0), ('Iris-versicolor', 7), ('Iris-versicolor', 7), ('Iris-versicolor', 7), ('Iris-versicolor', 0), ('Iris-versicolor', 7), ('Iris-versicolor', 4), ('Iris-versicolor', 7), ('Iris-versicolor', 7), ('Iris-versicolor', 7), ('Iris-versicolor', 0), ('Iris-versicolor', 4), ('Iris-versicolor', 7), ('Iris-virginica', 6), ('Iris-virginica', 2), ('Iris-virginica', 6), ('Iris-virginica', 6), ('Iris-virginica', 6), ('Iris-virginica', 3), ('Iris-virginica', 7), ('Iris-virginica', 3), ('Iris-virginica', 6), ('Iris-virginica', 3), ('Iris-virginica', 6), ('Iris-virginica', 2), ('Iris-virginica', 6), ('Iris-virginica', 2), ('Iris-virginica', 2), ('Iris-virginica', 6), ('Iris-virginica', 6), ('Iris-virginica', 3), ('Iris-virginica', 3), ('Iris-virginica', 2), ('Iris-virginica', 6), ('Iris-virginica', 2), ('Iris-virginica', 2), ('Iris-virginica', 6), ('Iris-virginica', 6), ('Iris-virginica', 3), ('Iris-virginica', 3), ('Iris-virginica', 6), ('Iris-virginica', 2), ('Iris-virginica', 2), ('Iris-virginica', 3), ('Iris-virginica', 6), ('Iris-virginica', 6), ('Iris-virginica', 2), ('Iris-virginica', 6), ('Iris-virginica', 6), ('Iris-virginica', 6), ('Iris-virginica', 2), ('Iris-virginica', 6), ('Iris-virginica', 6), ('Iris-virginica', 6), ('Iris-virginica', 2), ('Iris-virginica', 6), ('Iris-virginica', 6), ('Iris-virginica', 2)]\n",
      "\n",
      "Centroids:\n",
      "\n",
      "[[6.415      2.92       4.605      1.445     ]\n",
      " [5.21304348 3.62173913 1.53043478 0.2826087 ]\n",
      " [5.98       2.74666667 5.06       1.81333333]\n",
      " [7.5625     3.1875     6.4        2.1375    ]\n",
      " [5.37777778 2.47777778 3.56666667 1.1       ]\n",
      " [4.73181818 3.12727273 1.43181818 0.19545455]\n",
      " [6.61304348 3.06956522 5.55652174 2.13913043]\n",
      " [5.62666667 2.77333333 4.21333333 1.30666667]]\n",
      "\n",
      "Inertia: 26.095541\n",
      "\n",
      "\n",
      "Testing data:\n",
      "\n",
      "[[4.30971867 1.19951156 4.63720701 6.55137152 2.91869242 0.56734484\n",
      "  5.41974616 3.60004321]\n",
      " [3.83258072 0.7769238  4.37100548 5.87881525 2.98438322 1.39872285\n",
      "  4.92607928 3.44087844]\n",
      " [3.66533423 0.92602572 4.18127041 5.65402235 2.92572667 1.61359795\n",
      "  4.69932425 3.29175401]\n",
      " [3.74241566 0.42339433 4.21920477 5.84918531 2.76604188 1.05013773\n",
      "  4.82738525 3.26041579]\n",
      " [3.69441132 0.21193144 4.12646203 5.87690129 2.54097289 0.53518746\n",
      "  4.80974515 3.11987892]\n",
      " [0.2359555  3.59191752 0.93969262 2.22496489 1.66729618 3.84696671\n",
      "  1.28374305 1.05497762]\n",
      " [1.42255931 2.77726049 1.45843143 3.55147417 0.53112971 2.818618\n",
      "  2.32887277 0.54250448]\n",
      " [2.06583518 2.65880852 2.14779473 4.20481495 0.62083178 2.50346454\n",
      "  3.04512378 1.26239631]\n",
      " [0.66232545 3.07686348 0.95307689 2.83645355 1.05192358 3.27803547\n",
      "  1.66189929 0.40452991]\n",
      " [1.12012276 3.04204625 1.44372974 3.23581037 0.81369452 3.1162431\n",
      "  2.20280368 0.77951552]\n",
      " [2.52243434 6.04433994 2.38446826 0.52722742 4.01551005 6.31880801\n",
      "  1.60656145 3.31113945]\n",
      " [0.52409446 3.96074786 0.36104786 2.04828434 1.77979053 4.15266269\n",
      "  0.88351849 1.08334872]\n",
      " [1.36149734 4.79611729 1.14732539 1.11712522 2.82408075 5.07427274\n",
      "  0.2877131  2.06615047]\n",
      " [1.6633325  5.1386136  1.60551826 0.63676428 3.20206338 5.435077\n",
      "  0.82049595 2.46839579]\n",
      " [0.47399895 3.82646984 0.34499597 2.1634391  1.67062493 4.02267078\n",
      "  0.96467866 0.95758957]]\n",
      "\n",
      "Predictions:\n",
      "[5 1 1 1 1 0 4 4 7 7 3 2 6 3 2]\n",
      "\n"
     ]
    }
   ],
   "source": [
    "\n",
    "#  Load training data\n",
    "data_train = pd.read_csv(\"../data/Iris_train.csv\")\n",
    "# Separate independent variables and dependent variables\n",
    "independent = [\"SepalLengthCm\",\t\"SepalWidthCm\",\t\"PetalLengthCm\",\t\"PetalWidthCm\"]\n",
    "X = data_train[independent]\n",
    "y = data_train[\"Species\"]\n",
    "# Train model\n",
    "clf = KMeans(n_clusters=8, init=\"k-means++\", n_init=10, max_iter=300, tol=1e-4)\n",
    "#clf = KMeans(n_clusters=3, init=\"random\")\n",
    "y_p = clf.fit_predict(X)\n",
    "#Show training results\n",
    "print(\"Classes:\")\n",
    "print()\n",
    "print([(y[i], y_p[i]) for i in range(len(y))])\n",
    "print()\n",
    "print(\"Centroids:\")\n",
    "print()\n",
    "print(clf.cluster_centers_)\n",
    "print()\n",
    "print(\"Inertia: %f\" %clf.inertia_)\n",
    "print()\n",
    "\n",
    "# Load testing data\n",
    "data_test = pd.read_csv(\"../data/Iris_test.csv\")\n",
    "X_test = data_test[independent]\n",
    "# Transform test data to cluster-distance space\n",
    "dists = clf.transform(X_test)\n",
    "print()\n",
    "print(\"Testing data:\")\n",
    "print()\n",
    "print(dists)\n",
    "print()\n",
    "print(\"Predictions:\")\n",
    "print(clf.predict(X_test))\n",
    "print()\n"
   ]
  },
  {
   "cell_type": "code",
   "execution_count": null,
   "metadata": {},
   "outputs": [],
   "source": []
  }
 ],
 "metadata": {
  "kernelspec": {
   "display_name": "Python 3",
   "language": "python",
   "name": "python3"
  },
  "language_info": {
   "codemirror_mode": {
    "name": "ipython",
    "version": 3
   },
   "file_extension": ".py",
   "mimetype": "text/x-python",
   "name": "python",
   "nbconvert_exporter": "python",
   "pygments_lexer": "ipython3",
   "version": "3.8.2"
  }
 },
 "nbformat": 4,
 "nbformat_minor": 4
}
