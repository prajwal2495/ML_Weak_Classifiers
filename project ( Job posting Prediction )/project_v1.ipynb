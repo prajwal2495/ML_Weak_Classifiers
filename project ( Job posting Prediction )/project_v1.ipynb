{
 "cells": [
  {
   "cell_type": "code",
   "execution_count": 10,
   "metadata": {},
   "outputs": [],
   "source": [
    "import numpy as np\n",
    "import pandas as pd\n",
    "from gensim.parsing.preprocessing import STOPWORDS\n",
    "from sklearn.feature_extraction.text import TfidfVectorizer, CountVectorizer\n",
    "from sklearn.model_selection import train_test_split\n",
    "from sklearn.pipeline import Pipeline\n",
    "from sklearn.base import TransformerMixin\n",
    "from sklearn.metrics import accuracy_score, plot_confusion_matrix, classification_report, confusion_matrix"
   ]
  },
  {
   "cell_type": "code",
   "execution_count": 11,
   "metadata": {},
   "outputs": [
    {
     "data": {
      "text/html": [
       "<div>\n",
       "<style scoped>\n",
       "    .dataframe tbody tr th:only-of-type {\n",
       "        vertical-align: middle;\n",
       "    }\n",
       "\n",
       "    .dataframe tbody tr th {\n",
       "        vertical-align: top;\n",
       "    }\n",
       "\n",
       "    .dataframe thead th {\n",
       "        text-align: right;\n",
       "    }\n",
       "</style>\n",
       "<table border=\"1\" class=\"dataframe\">\n",
       "  <thead>\n",
       "    <tr style=\"text-align: right;\">\n",
       "      <th></th>\n",
       "      <th>title</th>\n",
       "      <th>location</th>\n",
       "      <th>description</th>\n",
       "      <th>requirements</th>\n",
       "      <th>telecommuting</th>\n",
       "      <th>has_company_logo</th>\n",
       "      <th>has_questions</th>\n",
       "      <th>fraudulent</th>\n",
       "    </tr>\n",
       "  </thead>\n",
       "  <tbody>\n",
       "    <tr>\n",
       "      <th>0</th>\n",
       "      <td>Architect (Middleware - MQ) - Kuwait</td>\n",
       "      <td>KW, KU,</td>\n",
       "      <td>On behalf of our client, a well known multinat...</td>\n",
       "      <td>-Working technical knowledge of IT systems and...</td>\n",
       "      <td>0</td>\n",
       "      <td>1</td>\n",
       "      <td>0</td>\n",
       "      <td>0</td>\n",
       "    </tr>\n",
       "    <tr>\n",
       "      <th>1</th>\n",
       "      <td>Interviewing Now for Sales Rep Positions -- wi...</td>\n",
       "      <td>US, TX, Corpus Christi</td>\n",
       "      <td>We are Argenta Field Solutions, a rapidly expa...</td>\n",
       "      <td>#NAME?</td>\n",
       "      <td>0</td>\n",
       "      <td>1</td>\n",
       "      <td>0</td>\n",
       "      <td>0</td>\n",
       "    </tr>\n",
       "    <tr>\n",
       "      <th>2</th>\n",
       "      <td>Process Controls Staff Engineer - Foxboro I/A ...</td>\n",
       "      <td>US, TX, USA Southwest</td>\n",
       "      <td>Experienced Process Controls Staff Engineer is...</td>\n",
       "      <td>At least 10 years of degreed professional expe...</td>\n",
       "      <td>0</td>\n",
       "      <td>0</td>\n",
       "      <td>0</td>\n",
       "      <td>0</td>\n",
       "    </tr>\n",
       "    <tr>\n",
       "      <th>3</th>\n",
       "      <td>Experienced Telemarketer Wanted - Digital Solu...</td>\n",
       "      <td>AU, NSW,</td>\n",
       "      <td>If you have a passion for people and love to s...</td>\n",
       "      <td>Responsibilities - Prospecting, following up a...</td>\n",
       "      <td>0</td>\n",
       "      <td>1</td>\n",
       "      <td>0</td>\n",
       "      <td>0</td>\n",
       "    </tr>\n",
       "    <tr>\n",
       "      <th>4</th>\n",
       "      <td>Senior Network Engineer</td>\n",
       "      <td>GB, ENG, London</td>\n",
       "      <td>As the successful Senior Network Engineer you ...</td>\n",
       "      <td>Essential skills:•Juniper switching/routing/se...</td>\n",
       "      <td>0</td>\n",
       "      <td>1</td>\n",
       "      <td>0</td>\n",
       "      <td>0</td>\n",
       "    </tr>\n",
       "  </tbody>\n",
       "</table>\n",
       "</div>"
      ],
      "text/plain": [
       "                                               title                location  \\\n",
       "0               Architect (Middleware - MQ) - Kuwait                KW, KU,    \n",
       "1  Interviewing Now for Sales Rep Positions -- wi...  US, TX, Corpus Christi   \n",
       "2  Process Controls Staff Engineer - Foxboro I/A ...   US, TX, USA Southwest   \n",
       "3  Experienced Telemarketer Wanted - Digital Solu...               AU, NSW,    \n",
       "4                            Senior Network Engineer         GB, ENG, London   \n",
       "\n",
       "                                         description  \\\n",
       "0  On behalf of our client, a well known multinat...   \n",
       "1  We are Argenta Field Solutions, a rapidly expa...   \n",
       "2  Experienced Process Controls Staff Engineer is...   \n",
       "3  If you have a passion for people and love to s...   \n",
       "4  As the successful Senior Network Engineer you ...   \n",
       "\n",
       "                                        requirements  telecommuting  \\\n",
       "0  -Working technical knowledge of IT systems and...              0   \n",
       "1                                             #NAME?              0   \n",
       "2  At least 10 years of degreed professional expe...              0   \n",
       "3  Responsibilities - Prospecting, following up a...              0   \n",
       "4  Essential skills:•Juniper switching/routing/se...              0   \n",
       "\n",
       "   has_company_logo  has_questions  fraudulent  \n",
       "0                 1              0           0  \n",
       "1                 1              0           0  \n",
       "2                 0              0           0  \n",
       "3                 1              0           0  \n",
       "4                 1              0           0  "
      ]
     },
     "execution_count": 11,
     "metadata": {},
     "output_type": "execute_result"
    }
   ],
   "source": [
    "data = pd.read_csv('../data/job_train.csv')\n",
    "data.head()"
   ]
  },
  {
   "cell_type": "code",
   "execution_count": 12,
   "metadata": {},
   "outputs": [
    {
     "data": {
      "text/plain": [
       "<bound method PlotAccessor.bar of <pandas.plotting._core.PlotAccessor object at 0x7f231032ed90>>"
      ]
     },
     "execution_count": 12,
     "metadata": {},
     "output_type": "execute_result"
    },
    {
     "data": {
      "image/png": "[encoded data removed]",
      "text/plain": [
       "<Figure size 432x288 with 1 Axes>"
      ]
     },
     "metadata": {
      "needs_background": "light"
     },
     "output_type": "display_data"
    }
   ],
   "source": [
    "import matplotlib.pyplot as plt\n",
    "plt.xlabel(\"Fraudulent\")\n",
    "plt.ylabel(\"value counts\")\n",
    "data.fraudulent.value_counts().plot.bar"
   ]
  },
  {
   "cell_type": "code",
   "execution_count": 3,
   "metadata": {},
   "outputs": [
    {
     "data": {
      "text/html": [
       "<div>\n",
       "<style scoped>\n",
       "    .dataframe tbody tr th:only-of-type {\n",
       "        vertical-align: middle;\n",
       "    }\n",
       "\n",
       "    .dataframe tbody tr th {\n",
       "        vertical-align: top;\n",
       "    }\n",
       "\n",
       "    .dataframe thead th {\n",
       "        text-align: right;\n",
       "    }\n",
       "</style>\n",
       "<table border=\"1\" class=\"dataframe\">\n",
       "  <thead>\n",
       "    <tr style=\"text-align: right;\">\n",
       "      <th></th>\n",
       "      <th>title</th>\n",
       "      <th>location</th>\n",
       "      <th>description</th>\n",
       "      <th>requirements</th>\n",
       "      <th>fraudulent</th>\n",
       "    </tr>\n",
       "  </thead>\n",
       "  <tbody>\n",
       "    <tr>\n",
       "      <th>0</th>\n",
       "      <td>Architect (Middleware - MQ) - Kuwait</td>\n",
       "      <td>KW, KU,</td>\n",
       "      <td>On behalf of our client, a well known multinat...</td>\n",
       "      <td>-Working technical knowledge of IT systems and...</td>\n",
       "      <td>0</td>\n",
       "    </tr>\n",
       "    <tr>\n",
       "      <th>1</th>\n",
       "      <td>Interviewing Now for Sales Rep Positions -- wi...</td>\n",
       "      <td>US, TX, Corpus Christi</td>\n",
       "      <td>We are Argenta Field Solutions, a rapidly expa...</td>\n",
       "      <td>#NAME?</td>\n",
       "      <td>0</td>\n",
       "    </tr>\n",
       "    <tr>\n",
       "      <th>2</th>\n",
       "      <td>Process Controls Staff Engineer - Foxboro I/A ...</td>\n",
       "      <td>US, TX, USA Southwest</td>\n",
       "      <td>Experienced Process Controls Staff Engineer is...</td>\n",
       "      <td>At least 10 years of degreed professional expe...</td>\n",
       "      <td>0</td>\n",
       "    </tr>\n",
       "    <tr>\n",
       "      <th>3</th>\n",
       "      <td>Experienced Telemarketer Wanted - Digital Solu...</td>\n",
       "      <td>AU, NSW,</td>\n",
       "      <td>If you have a passion for people and love to s...</td>\n",
       "      <td>Responsibilities - Prospecting, following up a...</td>\n",
       "      <td>0</td>\n",
       "    </tr>\n",
       "    <tr>\n",
       "      <th>4</th>\n",
       "      <td>Senior Network Engineer</td>\n",
       "      <td>GB, ENG, London</td>\n",
       "      <td>As the successful Senior Network Engineer you ...</td>\n",
       "      <td>Essential skills:•Juniper switching/routing/se...</td>\n",
       "      <td>0</td>\n",
       "    </tr>\n",
       "  </tbody>\n",
       "</table>\n",
       "</div>"
      ],
      "text/plain": [
       "                                               title                location  \\\n",
       "0               Architect (Middleware - MQ) - Kuwait                KW, KU,    \n",
       "1  Interviewing Now for Sales Rep Positions -- wi...  US, TX, Corpus Christi   \n",
       "2  Process Controls Staff Engineer - Foxboro I/A ...   US, TX, USA Southwest   \n",
       "3  Experienced Telemarketer Wanted - Digital Solu...               AU, NSW,    \n",
       "4                            Senior Network Engineer         GB, ENG, London   \n",
       "\n",
       "                                         description  \\\n",
       "0  On behalf of our client, a well known multinat...   \n",
       "1  We are Argenta Field Solutions, a rapidly expa...   \n",
       "2  Experienced Process Controls Staff Engineer is...   \n",
       "3  If you have a passion for people and love to s...   \n",
       "4  As the successful Senior Network Engineer you ...   \n",
       "\n",
       "                                        requirements  fraudulent  \n",
       "0  -Working technical knowledge of IT systems and...           0  \n",
       "1                                             #NAME?           0  \n",
       "2  At least 10 years of degreed professional expe...           0  \n",
       "3  Responsibilities - Prospecting, following up a...           0  \n",
       "4  Essential skills:•Juniper switching/routing/se...           0  "
      ]
     },
     "execution_count": 3,
     "metadata": {},
     "output_type": "execute_result"
    }
   ],
   "source": [
    "unnecessary_columns = ['telecommuting','has_company_logo','has_questions']\n",
    "for columns in unnecessary_columns:\n",
    "    del data[columns]\n",
    "\n",
    "data.fillna(' ',inplace=True)\n",
    "data.head()\n"
   ]
  },
  {
   "cell_type": "code",
   "execution_count": 4,
   "metadata": {},
   "outputs": [
    {
     "data": {
      "text/plain": [
       "title           0\n",
       "location        0\n",
       "description     0\n",
       "requirements    0\n",
       "fraudulent      0\n",
       "dtype: int64"
      ]
     },
     "execution_count": 4,
     "metadata": {},
     "output_type": "execute_result"
    }
   ],
   "source": [
    "data.interpolate(inplace=True)\n",
    "data.isnull().sum()\n"
   ]
  },
  {
   "cell_type": "code",
   "execution_count": 5,
   "metadata": {},
   "outputs": [
    {
     "data": {
      "text/html": [
       "<div>\n",
       "<style scoped>\n",
       "    .dataframe tbody tr th:only-of-type {\n",
       "        vertical-align: middle;\n",
       "    }\n",
       "\n",
       "    .dataframe tbody tr th {\n",
       "        vertical-align: top;\n",
       "    }\n",
       "\n",
       "    .dataframe thead th {\n",
       "        text-align: right;\n",
       "    }\n",
       "</style>\n",
       "<table border=\"1\" class=\"dataframe\">\n",
       "  <thead>\n",
       "    <tr style=\"text-align: right;\">\n",
       "      <th></th>\n",
       "      <th>fraudulent</th>\n",
       "      <th>title</th>\n",
       "    </tr>\n",
       "  </thead>\n",
       "  <tbody>\n",
       "    <tr>\n",
       "      <th>0</th>\n",
       "      <td>0</td>\n",
       "      <td>8484</td>\n",
       "    </tr>\n",
       "    <tr>\n",
       "      <th>1</th>\n",
       "      <td>1</td>\n",
       "      <td>456</td>\n",
       "    </tr>\n",
       "  </tbody>\n",
       "</table>\n",
       "</div>"
      ],
      "text/plain": [
       "   fraudulent  title\n",
       "0           0   8484\n",
       "1           1    456"
      ]
     },
     "execution_count": 5,
     "metadata": {},
     "output_type": "execute_result"
    }
   ],
   "source": [
    "data.head()\n",
    "data.groupby('fraudulent').count()['title'].reset_index().sort_values(by='title',ascending=False)"
   ]
  },
  {
   "cell_type": "code",
   "execution_count": 6,
   "metadata": {},
   "outputs": [
    {
     "name": "stdout",
     "output_type": "stream",
     "text": [
      "<class 'pandas.core.frame.DataFrame'>\n",
      "RangeIndex: 8940 entries, 0 to 8939\n",
      "Data columns (total 5 columns):\n",
      " #   Column        Non-Null Count  Dtype \n",
      "---  ------        --------------  ----- \n",
      " 0   title         8940 non-null   object\n",
      " 1   location      8940 non-null   object\n",
      " 2   description   8940 non-null   object\n",
      " 3   requirements  8940 non-null   object\n",
      " 4   fraudulent    8940 non-null   int64 \n",
      "dtypes: int64(1), object(4)\n",
      "memory usage: 349.3+ KB\n"
     ]
    }
   ],
   "source": [
    "data.columns\n",
    "data.info()"
   ]
  },
  {
   "cell_type": "code",
   "execution_count": 9,
   "metadata": {},
   "outputs": [
    {
     "data": {
      "text/plain": [
       "<bound method PlotAccessor.bar of <pandas.plotting._core.PlotAccessor object at 0x7f23111ba4f0>>"
      ]
     },
     "execution_count": 9,
     "metadata": {},
     "output_type": "execute_result"
    },
    {
     "data": {
      "image/png": "[encoded data removed]",
      "text/plain": [
       "<Figure size 432x288 with 1 Axes>"
      ]
     },
     "metadata": {
      "needs_background": "light"
     },
     "output_type": "display_data"
    }
   ],
   "source": [
    "import matplotlib.pyplot as plt\n",
    "plt.xlabel(\"Fraudulent\")\n",
    "plt.ylabel(\"value counts\")\n",
    "data.fraudulent.value_counts().plot.bar"
   ]
  },
  {
   "cell_type": "code",
   "execution_count": null,
   "metadata": {},
   "outputs": [],
   "source": []
  }
 ],
 "metadata": {
  "kernelspec": {
   "display_name": "Python 3",
   "language": "python",
   "name": "python3"
  },
  "language_info": {
   "codemirror_mode": {
    "name": "ipython",
    "version": 3
   },
   "file_extension": ".py",
   "mimetype": "text/x-python",
   "name": "python",
   "nbconvert_exporter": "python",
   "pygments_lexer": "ipython3",
   "version": "3.8.5"
  }
 },
 "nbformat": 4,
 "nbformat_minor": 4
}
