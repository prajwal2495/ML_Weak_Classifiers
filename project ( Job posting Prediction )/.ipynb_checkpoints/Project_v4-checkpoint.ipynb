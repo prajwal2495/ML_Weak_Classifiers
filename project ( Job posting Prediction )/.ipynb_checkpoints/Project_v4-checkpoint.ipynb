{
 "cells": [
  {
   "cell_type": "code",
   "execution_count": 39,
   "metadata": {},
   "outputs": [],
   "source": [
    "import pandas as pd\n",
    "import numpy as np"
   ]
  },
  {
   "cell_type": "code",
   "execution_count": 40,
   "metadata": {},
   "outputs": [
    {
     "name": "stdout",
     "output_type": "stream",
     "text": [
      "shape\n"
     ]
    },
    {
     "data": {
      "text/plain": [
       "(17880, 8)"
      ]
     },
     "execution_count": 40,
     "metadata": {},
     "output_type": "execute_result"
    }
   ],
   "source": [
    "data=pd.read_csv('../data/job_train.csv')\n",
    "print(\"shape\")\n",
    "data.shape\n"
   ]
  },
  {
   "cell_type": "code",
   "execution_count": 41,
   "metadata": {},
   "outputs": [
    {
     "data": {
      "text/html": [
       "<div>\n",
       "<style scoped>\n",
       "    .dataframe tbody tr th:only-of-type {\n",
       "        vertical-align: middle;\n",
       "    }\n",
       "\n",
       "    .dataframe tbody tr th {\n",
       "        vertical-align: top;\n",
       "    }\n",
       "\n",
       "    .dataframe thead th {\n",
       "        text-align: right;\n",
       "    }\n",
       "</style>\n",
       "<table border=\"1\" class=\"dataframe\">\n",
       "  <thead>\n",
       "    <tr style=\"text-align: right;\">\n",
       "      <th></th>\n",
       "      <th>title</th>\n",
       "      <th>location</th>\n",
       "      <th>description</th>\n",
       "      <th>requirements</th>\n",
       "      <th>telecommuting</th>\n",
       "      <th>has_company_logo</th>\n",
       "      <th>has_questions</th>\n",
       "      <th>fraudulent</th>\n",
       "    </tr>\n",
       "  </thead>\n",
       "  <tbody>\n",
       "    <tr>\n",
       "      <th>0</th>\n",
       "      <td>Marketing Intern</td>\n",
       "      <td>US, NY, New York</td>\n",
       "      <td>Food52, a fast-growing, James Beard Award-winn...</td>\n",
       "      <td>Experience with content management systems a m...</td>\n",
       "      <td>0</td>\n",
       "      <td>1</td>\n",
       "      <td>0</td>\n",
       "      <td>0</td>\n",
       "    </tr>\n",
       "    <tr>\n",
       "      <th>1</th>\n",
       "      <td>Customer Service - Cloud Video Production</td>\n",
       "      <td>NZ, , Auckland</td>\n",
       "      <td>Organised - Focused - Vibrant - Awesome!Do you...</td>\n",
       "      <td>What we expect from you:Your key responsibilit...</td>\n",
       "      <td>0</td>\n",
       "      <td>1</td>\n",
       "      <td>0</td>\n",
       "      <td>0</td>\n",
       "    </tr>\n",
       "    <tr>\n",
       "      <th>2</th>\n",
       "      <td>Commissioning Machinery Assistant (CMA)</td>\n",
       "      <td>US, IA, Wever</td>\n",
       "      <td>Our client, located in Houston, is actively se...</td>\n",
       "      <td>Implement pre-commissioning and commissioning ...</td>\n",
       "      <td>0</td>\n",
       "      <td>1</td>\n",
       "      <td>0</td>\n",
       "      <td>0</td>\n",
       "    </tr>\n",
       "  </tbody>\n",
       "</table>\n",
       "</div>"
      ],
      "text/plain": [
       "                                       title          location  \\\n",
       "0                           Marketing Intern  US, NY, New York   \n",
       "1  Customer Service - Cloud Video Production    NZ, , Auckland   \n",
       "2    Commissioning Machinery Assistant (CMA)     US, IA, Wever   \n",
       "\n",
       "                                         description  \\\n",
       "0  Food52, a fast-growing, James Beard Award-winn...   \n",
       "1  Organised - Focused - Vibrant - Awesome!Do you...   \n",
       "2  Our client, located in Houston, is actively se...   \n",
       "\n",
       "                                        requirements  telecommuting  \\\n",
       "0  Experience with content management systems a m...              0   \n",
       "1  What we expect from you:Your key responsibilit...              0   \n",
       "2  Implement pre-commissioning and commissioning ...              0   \n",
       "\n",
       "   has_company_logo  has_questions  fraudulent  \n",
       "0                 1              0           0  \n",
       "1                 1              0           0  \n",
       "2                 1              0           0  "
      ]
     },
     "execution_count": 41,
     "metadata": {},
     "output_type": "execute_result"
    }
   ],
   "source": [
    "data.head(3)"
   ]
  },
  {
   "cell_type": "code",
   "execution_count": 42,
   "metadata": {},
   "outputs": [
    {
     "name": "stdout",
     "output_type": "stream",
     "text": [
      "<class 'pandas.core.frame.DataFrame'>\n",
      "RangeIndex: 17880 entries, 0 to 17879\n",
      "Data columns (total 8 columns):\n",
      " #   Column            Non-Null Count  Dtype \n",
      "---  ------            --------------  ----- \n",
      " 0   title             17880 non-null  object\n",
      " 1   location          17534 non-null  object\n",
      " 2   description       17879 non-null  object\n",
      " 3   requirements      15185 non-null  object\n",
      " 4   telecommuting     17880 non-null  int64 \n",
      " 5   has_company_logo  17880 non-null  int64 \n",
      " 6   has_questions     17880 non-null  int64 \n",
      " 7   fraudulent        17880 non-null  int64 \n",
      "dtypes: int64(4), object(4)\n",
      "memory usage: 1.1+ MB\n"
     ]
    }
   ],
   "source": [
    "data.info()"
   ]
  },
  {
   "cell_type": "code",
   "execution_count": 43,
   "metadata": {},
   "outputs": [
    {
     "data": {
      "text/plain": [
       "title                  0\n",
       "location             346\n",
       "description            1\n",
       "requirements        2695\n",
       "telecommuting          0\n",
       "has_company_logo       0\n",
       "has_questions          0\n",
       "fraudulent             0\n",
       "dtype: int64"
      ]
     },
     "execution_count": 43,
     "metadata": {},
     "output_type": "execute_result"
    }
   ],
   "source": [
    "data.isnull().sum()"
   ]
  },
  {
   "cell_type": "code",
   "execution_count": 44,
   "metadata": {},
   "outputs": [
    {
     "data": {
      "text/html": [
       "<div>\n",
       "<style scoped>\n",
       "    .dataframe tbody tr th:only-of-type {\n",
       "        vertical-align: middle;\n",
       "    }\n",
       "\n",
       "    .dataframe tbody tr th {\n",
       "        vertical-align: top;\n",
       "    }\n",
       "\n",
       "    .dataframe thead th {\n",
       "        text-align: right;\n",
       "    }\n",
       "</style>\n",
       "<table border=\"1\" class=\"dataframe\">\n",
       "  <thead>\n",
       "    <tr style=\"text-align: right;\">\n",
       "      <th></th>\n",
       "      <th>location</th>\n",
       "      <th>description</th>\n",
       "      <th>requirements</th>\n",
       "    </tr>\n",
       "  </thead>\n",
       "  <tbody>\n",
       "    <tr>\n",
       "      <th>0</th>\n",
       "      <td>US, NY, New York</td>\n",
       "      <td>Food52, a fast-growing, James Beard Award-winn...</td>\n",
       "      <td>Experience with content management systems a m...</td>\n",
       "    </tr>\n",
       "    <tr>\n",
       "      <th>1</th>\n",
       "      <td>NZ, , Auckland</td>\n",
       "      <td>Organised - Focused - Vibrant - Awesome!Do you...</td>\n",
       "      <td>What we expect from you:Your key responsibilit...</td>\n",
       "    </tr>\n",
       "    <tr>\n",
       "      <th>2</th>\n",
       "      <td>US, IA, Wever</td>\n",
       "      <td>Our client, located in Houston, is actively se...</td>\n",
       "      <td>Implement pre-commissioning and commissioning ...</td>\n",
       "    </tr>\n",
       "    <tr>\n",
       "      <th>3</th>\n",
       "      <td>US, DC, Washington</td>\n",
       "      <td>THE COMPANY: ESRI – Environmental Systems Rese...</td>\n",
       "      <td>EDUCATION: Bachelor’s or Master’s in GIS, busi...</td>\n",
       "    </tr>\n",
       "    <tr>\n",
       "      <th>4</th>\n",
       "      <td>US, FL, Fort Worth</td>\n",
       "      <td>JOB TITLE: Itemization Review ManagerLOCATION:...</td>\n",
       "      <td>QUALIFICATIONS:RN license in the State of Texa...</td>\n",
       "    </tr>\n",
       "    <tr>\n",
       "      <th>5</th>\n",
       "      <td>US, MD,</td>\n",
       "      <td>Job OverviewApex is an environmental consultin...</td>\n",
       "      <td>NaN</td>\n",
       "    </tr>\n",
       "    <tr>\n",
       "      <th>6</th>\n",
       "      <td>DE, BE, Berlin</td>\n",
       "      <td>Your Responsibilities: Manage the English-spea...</td>\n",
       "      <td>Your Know-How:                                ...</td>\n",
       "    </tr>\n",
       "    <tr>\n",
       "      <th>7</th>\n",
       "      <td>US, CA, San Francisco</td>\n",
       "      <td>Who is Airenvy?Hey there! We are seasoned entr...</td>\n",
       "      <td>Experience with CRM software, live chat, and p...</td>\n",
       "    </tr>\n",
       "    <tr>\n",
       "      <th>8</th>\n",
       "      <td>US, FL, Pensacola</td>\n",
       "      <td>Implementation/Configuration/Testing/Training ...</td>\n",
       "      <td>MUST BE A US CITIZEN.An active TS/SCI clearanc...</td>\n",
       "    </tr>\n",
       "    <tr>\n",
       "      <th>9</th>\n",
       "      <td>US, AZ, Phoenix</td>\n",
       "      <td>The Customer Service Associate will be based i...</td>\n",
       "      <td>Minimum Requirements:Minimum of 6 months custo...</td>\n",
       "    </tr>\n",
       "    <tr>\n",
       "      <th>10</th>\n",
       "      <td>US, NJ, Jersey City</td>\n",
       "      <td>Position : #URL_86fd830a95a64e2b30ceed829e63fd...</td>\n",
       "      <td>Position : #URL_86fd830a95a64e2b30ceed829e63fd...</td>\n",
       "    </tr>\n",
       "    <tr>\n",
       "      <th>11</th>\n",
       "      <td>GB, LND, London</td>\n",
       "      <td>TransferWise is the clever new way to move mon...</td>\n",
       "      <td>We’re looking for someone who:Proven track rec...</td>\n",
       "    </tr>\n",
       "    <tr>\n",
       "      <th>12</th>\n",
       "      <td>US, CT, Stamford</td>\n",
       "      <td>The Applications Developer, Digital will devel...</td>\n",
       "      <td>Requirements:4 – 5 years’ experience in develo...</td>\n",
       "    </tr>\n",
       "    <tr>\n",
       "      <th>13</th>\n",
       "      <td>US, FL, Orlando</td>\n",
       "      <td>Event Industry Installers Needed!! (Orlando, F...</td>\n",
       "      <td>Valid driver's license,Somewhat Clean driving ...</td>\n",
       "    </tr>\n",
       "    <tr>\n",
       "      <th>14</th>\n",
       "      <td>AU, NSW, Sydney</td>\n",
       "      <td>Are you interested in a satisfying and financi...</td>\n",
       "      <td>You’ll need to be smart and passionate and hav...</td>\n",
       "    </tr>\n",
       "    <tr>\n",
       "      <th>15</th>\n",
       "      <td>SG, 01, Singapore</td>\n",
       "      <td>About Vault Dragon Vault Dragon is Dropbox for...</td>\n",
       "      <td>Key Superpowers3-5 years of high-pressure sale...</td>\n",
       "    </tr>\n",
       "    <tr>\n",
       "      <th>16</th>\n",
       "      <td>IL, , Tel Aviv, Israel</td>\n",
       "      <td>We are looking for a Hands-On QA Leader for ou...</td>\n",
       "      <td>Previous experience in client &amp;amp; server tes...</td>\n",
       "    </tr>\n",
       "    <tr>\n",
       "      <th>17</th>\n",
       "      <td>GB, SOS, Southend-on-Sea</td>\n",
       "      <td>Government funding is only available for 16-18...</td>\n",
       "      <td>16-18 year olds only due to government funding...</td>\n",
       "    </tr>\n",
       "    <tr>\n",
       "      <th>18</th>\n",
       "      <td>US, NY, New York</td>\n",
       "      <td>Kettle is hiring a Visual Designer!Job Locatio...</td>\n",
       "      <td>NaN</td>\n",
       "    </tr>\n",
       "    <tr>\n",
       "      <th>19</th>\n",
       "      <td>US, PA, USA Northeast</td>\n",
       "      <td>Experienced Process Controls Engineer is requi...</td>\n",
       "      <td>Must have 5 or more years of experience with D...</td>\n",
       "    </tr>\n",
       "  </tbody>\n",
       "</table>\n",
       "</div>"
      ],
      "text/plain": [
       "                    location  \\\n",
       "0           US, NY, New York   \n",
       "1             NZ, , Auckland   \n",
       "2              US, IA, Wever   \n",
       "3         US, DC, Washington   \n",
       "4         US, FL, Fort Worth   \n",
       "5                   US, MD,    \n",
       "6             DE, BE, Berlin   \n",
       "7      US, CA, San Francisco   \n",
       "8          US, FL, Pensacola   \n",
       "9            US, AZ, Phoenix   \n",
       "10       US, NJ, Jersey City   \n",
       "11           GB, LND, London   \n",
       "12          US, CT, Stamford   \n",
       "13           US, FL, Orlando   \n",
       "14           AU, NSW, Sydney   \n",
       "15         SG, 01, Singapore   \n",
       "16    IL, , Tel Aviv, Israel   \n",
       "17  GB, SOS, Southend-on-Sea   \n",
       "18          US, NY, New York   \n",
       "19     US, PA, USA Northeast   \n",
       "\n",
       "                                          description  \\\n",
       "0   Food52, a fast-growing, James Beard Award-winn...   \n",
       "1   Organised - Focused - Vibrant - Awesome!Do you...   \n",
       "2   Our client, located in Houston, is actively se...   \n",
       "3   THE COMPANY: ESRI – Environmental Systems Rese...   \n",
       "4   JOB TITLE: Itemization Review ManagerLOCATION:...   \n",
       "5   Job OverviewApex is an environmental consultin...   \n",
       "6   Your Responsibilities: Manage the English-spea...   \n",
       "7   Who is Airenvy?Hey there! We are seasoned entr...   \n",
       "8   Implementation/Configuration/Testing/Training ...   \n",
       "9   The Customer Service Associate will be based i...   \n",
       "10  Position : #URL_86fd830a95a64e2b30ceed829e63fd...   \n",
       "11  TransferWise is the clever new way to move mon...   \n",
       "12  The Applications Developer, Digital will devel...   \n",
       "13  Event Industry Installers Needed!! (Orlando, F...   \n",
       "14  Are you interested in a satisfying and financi...   \n",
       "15  About Vault Dragon Vault Dragon is Dropbox for...   \n",
       "16  We are looking for a Hands-On QA Leader for ou...   \n",
       "17  Government funding is only available for 16-18...   \n",
       "18  Kettle is hiring a Visual Designer!Job Locatio...   \n",
       "19  Experienced Process Controls Engineer is requi...   \n",
       "\n",
       "                                         requirements  \n",
       "0   Experience with content management systems a m...  \n",
       "1   What we expect from you:Your key responsibilit...  \n",
       "2   Implement pre-commissioning and commissioning ...  \n",
       "3   EDUCATION: Bachelor’s or Master’s in GIS, busi...  \n",
       "4   QUALIFICATIONS:RN license in the State of Texa...  \n",
       "5                                                 NaN  \n",
       "6   Your Know-How:                                ...  \n",
       "7   Experience with CRM software, live chat, and p...  \n",
       "8   MUST BE A US CITIZEN.An active TS/SCI clearanc...  \n",
       "9   Minimum Requirements:Minimum of 6 months custo...  \n",
       "10  Position : #URL_86fd830a95a64e2b30ceed829e63fd...  \n",
       "11  We’re looking for someone who:Proven track rec...  \n",
       "12  Requirements:4 – 5 years’ experience in develo...  \n",
       "13  Valid driver's license,Somewhat Clean driving ...  \n",
       "14  You’ll need to be smart and passionate and hav...  \n",
       "15  Key Superpowers3-5 years of high-pressure sale...  \n",
       "16  Previous experience in client &amp; server tes...  \n",
       "17  16-18 year olds only due to government funding...  \n",
       "18                                                NaN  \n",
       "19  Must have 5 or more years of experience with D...  "
      ]
     },
     "execution_count": 44,
     "metadata": {},
     "output_type": "execute_result"
    }
   ],
   "source": [
    "data[[\"location\",\"description\",\"requirements\"]].head(20)"
   ]
  },
  {
   "cell_type": "code",
   "execution_count": 45,
   "metadata": {},
   "outputs": [
    {
     "data": {
      "text/html": [
       "<div>\n",
       "<style scoped>\n",
       "    .dataframe tbody tr th:only-of-type {\n",
       "        vertical-align: middle;\n",
       "    }\n",
       "\n",
       "    .dataframe tbody tr th {\n",
       "        vertical-align: top;\n",
       "    }\n",
       "\n",
       "    .dataframe thead th {\n",
       "        text-align: right;\n",
       "    }\n",
       "</style>\n",
       "<table border=\"1\" class=\"dataframe\">\n",
       "  <thead>\n",
       "    <tr style=\"text-align: right;\">\n",
       "      <th></th>\n",
       "      <th>telecommuting</th>\n",
       "      <th>has_company_logo</th>\n",
       "      <th>has_questions</th>\n",
       "      <th>fraudulent</th>\n",
       "    </tr>\n",
       "  </thead>\n",
       "  <tbody>\n",
       "    <tr>\n",
       "      <th>count</th>\n",
       "      <td>17880.000000</td>\n",
       "      <td>17880.000000</td>\n",
       "      <td>17880.000000</td>\n",
       "      <td>17880.000000</td>\n",
       "    </tr>\n",
       "    <tr>\n",
       "      <th>mean</th>\n",
       "      <td>0.042897</td>\n",
       "      <td>0.795302</td>\n",
       "      <td>0.491723</td>\n",
       "      <td>0.048434</td>\n",
       "    </tr>\n",
       "    <tr>\n",
       "      <th>std</th>\n",
       "      <td>0.202631</td>\n",
       "      <td>0.403492</td>\n",
       "      <td>0.499945</td>\n",
       "      <td>0.214688</td>\n",
       "    </tr>\n",
       "    <tr>\n",
       "      <th>min</th>\n",
       "      <td>0.000000</td>\n",
       "      <td>0.000000</td>\n",
       "      <td>0.000000</td>\n",
       "      <td>0.000000</td>\n",
       "    </tr>\n",
       "    <tr>\n",
       "      <th>25%</th>\n",
       "      <td>0.000000</td>\n",
       "      <td>1.000000</td>\n",
       "      <td>0.000000</td>\n",
       "      <td>0.000000</td>\n",
       "    </tr>\n",
       "    <tr>\n",
       "      <th>50%</th>\n",
       "      <td>0.000000</td>\n",
       "      <td>1.000000</td>\n",
       "      <td>0.000000</td>\n",
       "      <td>0.000000</td>\n",
       "    </tr>\n",
       "    <tr>\n",
       "      <th>75%</th>\n",
       "      <td>0.000000</td>\n",
       "      <td>1.000000</td>\n",
       "      <td>1.000000</td>\n",
       "      <td>0.000000</td>\n",
       "    </tr>\n",
       "    <tr>\n",
       "      <th>max</th>\n",
       "      <td>1.000000</td>\n",
       "      <td>1.000000</td>\n",
       "      <td>1.000000</td>\n",
       "      <td>1.000000</td>\n",
       "    </tr>\n",
       "  </tbody>\n",
       "</table>\n",
       "</div>"
      ],
      "text/plain": [
       "       telecommuting  has_company_logo  has_questions    fraudulent\n",
       "count   17880.000000      17880.000000   17880.000000  17880.000000\n",
       "mean        0.042897          0.795302       0.491723      0.048434\n",
       "std         0.202631          0.403492       0.499945      0.214688\n",
       "min         0.000000          0.000000       0.000000      0.000000\n",
       "25%         0.000000          1.000000       0.000000      0.000000\n",
       "50%         0.000000          1.000000       0.000000      0.000000\n",
       "75%         0.000000          1.000000       1.000000      0.000000\n",
       "max         1.000000          1.000000       1.000000      1.000000"
      ]
     },
     "execution_count": 45,
     "metadata": {},
     "output_type": "execute_result"
    }
   ],
   "source": [
    "data.describe()"
   ]
  },
  {
   "cell_type": "code",
   "execution_count": 46,
   "metadata": {},
   "outputs": [],
   "source": [
    "#X=data.drop('fraudulent',axis=1)"
   ]
  },
  {
   "cell_type": "code",
   "execution_count": 47,
   "metadata": {},
   "outputs": [],
   "source": [
    "#X.head()"
   ]
  },
  {
   "cell_type": "code",
   "execution_count": 48,
   "metadata": {},
   "outputs": [],
   "source": [
    "Y=data['fraudulent']"
   ]
  },
  {
   "cell_type": "code",
   "execution_count": 49,
   "metadata": {},
   "outputs": [
    {
     "data": {
      "text/plain": [
       "0    0\n",
       "1    0\n",
       "2    0\n",
       "3    0\n",
       "4    0\n",
       "Name: fraudulent, dtype: int64"
      ]
     },
     "execution_count": 49,
     "metadata": {},
     "output_type": "execute_result"
    }
   ],
   "source": [
    "Y.head()"
   ]
  },
  {
   "cell_type": "code",
   "execution_count": 50,
   "metadata": {},
   "outputs": [],
   "source": [
    "data_withoutNaN=data.dropna()"
   ]
  },
  {
   "cell_type": "code",
   "execution_count": 51,
   "metadata": {},
   "outputs": [
    {
     "data": {
      "text/plain": [
       "title               0\n",
       "location            0\n",
       "description         0\n",
       "requirements        0\n",
       "telecommuting       0\n",
       "has_company_logo    0\n",
       "has_questions       0\n",
       "fraudulent          0\n",
       "dtype: int64"
      ]
     },
     "execution_count": 51,
     "metadata": {},
     "output_type": "execute_result"
    }
   ],
   "source": [
    "data_withoutNaN.isnull().sum()"
   ]
  },
  {
   "cell_type": "code",
   "execution_count": null,
   "metadata": {},
   "outputs": [],
   "source": []
  },
  {
   "cell_type": "code",
   "execution_count": 52,
   "metadata": {},
   "outputs": [
    {
     "data": {
      "text/html": [
       "<div>\n",
       "<style scoped>\n",
       "    .dataframe tbody tr th:only-of-type {\n",
       "        vertical-align: middle;\n",
       "    }\n",
       "\n",
       "    .dataframe tbody tr th {\n",
       "        vertical-align: top;\n",
       "    }\n",
       "\n",
       "    .dataframe thead th {\n",
       "        text-align: right;\n",
       "    }\n",
       "</style>\n",
       "<table border=\"1\" class=\"dataframe\">\n",
       "  <thead>\n",
       "    <tr style=\"text-align: right;\">\n",
       "      <th></th>\n",
       "      <th>title</th>\n",
       "      <th>location</th>\n",
       "      <th>description</th>\n",
       "      <th>requirements</th>\n",
       "      <th>telecommuting</th>\n",
       "      <th>has_company_logo</th>\n",
       "      <th>has_questions</th>\n",
       "      <th>fraudulent</th>\n",
       "    </tr>\n",
       "  </thead>\n",
       "  <tbody>\n",
       "    <tr>\n",
       "      <th>0</th>\n",
       "      <td>Marketing Intern</td>\n",
       "      <td>US, NY, New York</td>\n",
       "      <td>Food52, a fast-growing, James Beard Award-winn...</td>\n",
       "      <td>Experience with content management systems a m...</td>\n",
       "      <td>0</td>\n",
       "      <td>1</td>\n",
       "      <td>0</td>\n",
       "      <td>0</td>\n",
       "    </tr>\n",
       "    <tr>\n",
       "      <th>1</th>\n",
       "      <td>Customer Service - Cloud Video Production</td>\n",
       "      <td>NZ, , Auckland</td>\n",
       "      <td>Organised - Focused - Vibrant - Awesome!Do you...</td>\n",
       "      <td>What we expect from you:Your key responsibilit...</td>\n",
       "      <td>0</td>\n",
       "      <td>1</td>\n",
       "      <td>0</td>\n",
       "      <td>0</td>\n",
       "    </tr>\n",
       "    <tr>\n",
       "      <th>2</th>\n",
       "      <td>Commissioning Machinery Assistant (CMA)</td>\n",
       "      <td>US, IA, Wever</td>\n",
       "      <td>Our client, located in Houston, is actively se...</td>\n",
       "      <td>Implement pre-commissioning and commissioning ...</td>\n",
       "      <td>0</td>\n",
       "      <td>1</td>\n",
       "      <td>0</td>\n",
       "      <td>0</td>\n",
       "    </tr>\n",
       "    <tr>\n",
       "      <th>3</th>\n",
       "      <td>Account Executive - Washington DC</td>\n",
       "      <td>US, DC, Washington</td>\n",
       "      <td>THE COMPANY: ESRI – Environmental Systems Rese...</td>\n",
       "      <td>EDUCATION: Bachelor’s or Master’s in GIS, busi...</td>\n",
       "      <td>0</td>\n",
       "      <td>1</td>\n",
       "      <td>0</td>\n",
       "      <td>0</td>\n",
       "    </tr>\n",
       "    <tr>\n",
       "      <th>4</th>\n",
       "      <td>Bill Review Manager</td>\n",
       "      <td>US, FL, Fort Worth</td>\n",
       "      <td>JOB TITLE: Itemization Review ManagerLOCATION:...</td>\n",
       "      <td>QUALIFICATIONS:RN license in the State of Texa...</td>\n",
       "      <td>0</td>\n",
       "      <td>1</td>\n",
       "      <td>1</td>\n",
       "      <td>0</td>\n",
       "    </tr>\n",
       "  </tbody>\n",
       "</table>\n",
       "</div>"
      ],
      "text/plain": [
       "                                       title            location  \\\n",
       "0                           Marketing Intern    US, NY, New York   \n",
       "1  Customer Service - Cloud Video Production      NZ, , Auckland   \n",
       "2    Commissioning Machinery Assistant (CMA)       US, IA, Wever   \n",
       "3          Account Executive - Washington DC  US, DC, Washington   \n",
       "4                        Bill Review Manager  US, FL, Fort Worth   \n",
       "\n",
       "                                         description  \\\n",
       "0  Food52, a fast-growing, James Beard Award-winn...   \n",
       "1  Organised - Focused - Vibrant - Awesome!Do you...   \n",
       "2  Our client, located in Houston, is actively se...   \n",
       "3  THE COMPANY: ESRI – Environmental Systems Rese...   \n",
       "4  JOB TITLE: Itemization Review ManagerLOCATION:...   \n",
       "\n",
       "                                        requirements  telecommuting  \\\n",
       "0  Experience with content management systems a m...              0   \n",
       "1  What we expect from you:Your key responsibilit...              0   \n",
       "2  Implement pre-commissioning and commissioning ...              0   \n",
       "3  EDUCATION: Bachelor’s or Master’s in GIS, busi...              0   \n",
       "4  QUALIFICATIONS:RN license in the State of Texa...              0   \n",
       "\n",
       "   has_company_logo  has_questions  fraudulent  \n",
       "0                 1              0           0  \n",
       "1                 1              0           0  \n",
       "2                 1              0           0  \n",
       "3                 1              0           0  \n",
       "4                 1              1           0  "
      ]
     },
     "execution_count": 52,
     "metadata": {},
     "output_type": "execute_result"
    }
   ],
   "source": [
    "data_withoutNaN.head(5)"
   ]
  },
  {
   "cell_type": "code",
   "execution_count": 53,
   "metadata": {},
   "outputs": [],
   "source": [
    "data_withoutNaN.reset_index(inplace=True)"
   ]
  },
  {
   "cell_type": "code",
   "execution_count": 54,
   "metadata": {},
   "outputs": [
    {
     "data": {
      "text/html": [
       "<div>\n",
       "<style scoped>\n",
       "    .dataframe tbody tr th:only-of-type {\n",
       "        vertical-align: middle;\n",
       "    }\n",
       "\n",
       "    .dataframe tbody tr th {\n",
       "        vertical-align: top;\n",
       "    }\n",
       "\n",
       "    .dataframe thead th {\n",
       "        text-align: right;\n",
       "    }\n",
       "</style>\n",
       "<table border=\"1\" class=\"dataframe\">\n",
       "  <thead>\n",
       "    <tr style=\"text-align: right;\">\n",
       "      <th></th>\n",
       "      <th>index</th>\n",
       "      <th>title</th>\n",
       "      <th>location</th>\n",
       "      <th>description</th>\n",
       "      <th>requirements</th>\n",
       "      <th>telecommuting</th>\n",
       "      <th>has_company_logo</th>\n",
       "      <th>has_questions</th>\n",
       "      <th>fraudulent</th>\n",
       "    </tr>\n",
       "  </thead>\n",
       "  <tbody>\n",
       "    <tr>\n",
       "      <th>0</th>\n",
       "      <td>0</td>\n",
       "      <td>Marketing Intern</td>\n",
       "      <td>US, NY, New York</td>\n",
       "      <td>Food52, a fast-growing, James Beard Award-winn...</td>\n",
       "      <td>Experience with content management systems a m...</td>\n",
       "      <td>0</td>\n",
       "      <td>1</td>\n",
       "      <td>0</td>\n",
       "      <td>0</td>\n",
       "    </tr>\n",
       "    <tr>\n",
       "      <th>1</th>\n",
       "      <td>1</td>\n",
       "      <td>Customer Service - Cloud Video Production</td>\n",
       "      <td>NZ, , Auckland</td>\n",
       "      <td>Organised - Focused - Vibrant - Awesome!Do you...</td>\n",
       "      <td>What we expect from you:Your key responsibilit...</td>\n",
       "      <td>0</td>\n",
       "      <td>1</td>\n",
       "      <td>0</td>\n",
       "      <td>0</td>\n",
       "    </tr>\n",
       "  </tbody>\n",
       "</table>\n",
       "</div>"
      ],
      "text/plain": [
       "   index                                      title          location  \\\n",
       "0      0                           Marketing Intern  US, NY, New York   \n",
       "1      1  Customer Service - Cloud Video Production    NZ, , Auckland   \n",
       "\n",
       "                                         description  \\\n",
       "0  Food52, a fast-growing, James Beard Award-winn...   \n",
       "1  Organised - Focused - Vibrant - Awesome!Do you...   \n",
       "\n",
       "                                        requirements  telecommuting  \\\n",
       "0  Experience with content management systems a m...              0   \n",
       "1  What we expect from you:Your key responsibilit...              0   \n",
       "\n",
       "   has_company_logo  has_questions  fraudulent  \n",
       "0                 1              0           0  \n",
       "1                 1              0           0  "
      ]
     },
     "execution_count": 54,
     "metadata": {},
     "output_type": "execute_result"
    }
   ],
   "source": [
    "data_withoutNaN.head(2)"
   ]
  },
  {
   "cell_type": "code",
   "execution_count": 55,
   "metadata": {},
   "outputs": [],
   "source": [
    "data['text']= data['title']+' '+data['location']+' '+data['description']+' '+data['requirements']\n",
    "#data=data.drop('title',axis=1)\n",
    "#data=data.drop('description',axis=1)\n",
    "#data=data.drop('requirements',axis=1)"
   ]
  },
  {
   "cell_type": "code",
   "execution_count": 56,
   "metadata": {},
   "outputs": [
    {
     "data": {
      "text/html": [
       "<div>\n",
       "<style scoped>\n",
       "    .dataframe tbody tr th:only-of-type {\n",
       "        vertical-align: middle;\n",
       "    }\n",
       "\n",
       "    .dataframe tbody tr th {\n",
       "        vertical-align: top;\n",
       "    }\n",
       "\n",
       "    .dataframe thead th {\n",
       "        text-align: right;\n",
       "    }\n",
       "</style>\n",
       "<table border=\"1\" class=\"dataframe\">\n",
       "  <thead>\n",
       "    <tr style=\"text-align: right;\">\n",
       "      <th></th>\n",
       "      <th>title</th>\n",
       "      <th>location</th>\n",
       "      <th>description</th>\n",
       "      <th>requirements</th>\n",
       "      <th>telecommuting</th>\n",
       "      <th>has_company_logo</th>\n",
       "      <th>has_questions</th>\n",
       "      <th>fraudulent</th>\n",
       "      <th>text</th>\n",
       "    </tr>\n",
       "  </thead>\n",
       "  <tbody>\n",
       "    <tr>\n",
       "      <th>0</th>\n",
       "      <td>Marketing Intern</td>\n",
       "      <td>US, NY, New York</td>\n",
       "      <td>Food52, a fast-growing, James Beard Award-winn...</td>\n",
       "      <td>Experience with content management systems a m...</td>\n",
       "      <td>0</td>\n",
       "      <td>1</td>\n",
       "      <td>0</td>\n",
       "      <td>0</td>\n",
       "      <td>Marketing Intern US, NY, New York Food52, a fa...</td>\n",
       "    </tr>\n",
       "    <tr>\n",
       "      <th>1</th>\n",
       "      <td>Customer Service - Cloud Video Production</td>\n",
       "      <td>NZ, , Auckland</td>\n",
       "      <td>Organised - Focused - Vibrant - Awesome!Do you...</td>\n",
       "      <td>What we expect from you:Your key responsibilit...</td>\n",
       "      <td>0</td>\n",
       "      <td>1</td>\n",
       "      <td>0</td>\n",
       "      <td>0</td>\n",
       "      <td>Customer Service - Cloud Video Production NZ, ...</td>\n",
       "    </tr>\n",
       "    <tr>\n",
       "      <th>2</th>\n",
       "      <td>Commissioning Machinery Assistant (CMA)</td>\n",
       "      <td>US, IA, Wever</td>\n",
       "      <td>Our client, located in Houston, is actively se...</td>\n",
       "      <td>Implement pre-commissioning and commissioning ...</td>\n",
       "      <td>0</td>\n",
       "      <td>1</td>\n",
       "      <td>0</td>\n",
       "      <td>0</td>\n",
       "      <td>Commissioning Machinery Assistant (CMA) US, IA...</td>\n",
       "    </tr>\n",
       "    <tr>\n",
       "      <th>3</th>\n",
       "      <td>Account Executive - Washington DC</td>\n",
       "      <td>US, DC, Washington</td>\n",
       "      <td>THE COMPANY: ESRI – Environmental Systems Rese...</td>\n",
       "      <td>EDUCATION: Bachelor’s or Master’s in GIS, busi...</td>\n",
       "      <td>0</td>\n",
       "      <td>1</td>\n",
       "      <td>0</td>\n",
       "      <td>0</td>\n",
       "      <td>Account Executive - Washington DC US, DC, Wash...</td>\n",
       "    </tr>\n",
       "    <tr>\n",
       "      <th>4</th>\n",
       "      <td>Bill Review Manager</td>\n",
       "      <td>US, FL, Fort Worth</td>\n",
       "      <td>JOB TITLE: Itemization Review ManagerLOCATION:...</td>\n",
       "      <td>QUALIFICATIONS:RN license in the State of Texa...</td>\n",
       "      <td>0</td>\n",
       "      <td>1</td>\n",
       "      <td>1</td>\n",
       "      <td>0</td>\n",
       "      <td>Bill Review Manager US, FL, Fort Worth JOB TIT...</td>\n",
       "    </tr>\n",
       "  </tbody>\n",
       "</table>\n",
       "</div>"
      ],
      "text/plain": [
       "                                       title            location  \\\n",
       "0                           Marketing Intern    US, NY, New York   \n",
       "1  Customer Service - Cloud Video Production      NZ, , Auckland   \n",
       "2    Commissioning Machinery Assistant (CMA)       US, IA, Wever   \n",
       "3          Account Executive - Washington DC  US, DC, Washington   \n",
       "4                        Bill Review Manager  US, FL, Fort Worth   \n",
       "\n",
       "                                         description  \\\n",
       "0  Food52, a fast-growing, James Beard Award-winn...   \n",
       "1  Organised - Focused - Vibrant - Awesome!Do you...   \n",
       "2  Our client, located in Houston, is actively se...   \n",
       "3  THE COMPANY: ESRI – Environmental Systems Rese...   \n",
       "4  JOB TITLE: Itemization Review ManagerLOCATION:...   \n",
       "\n",
       "                                        requirements  telecommuting  \\\n",
       "0  Experience with content management systems a m...              0   \n",
       "1  What we expect from you:Your key responsibilit...              0   \n",
       "2  Implement pre-commissioning and commissioning ...              0   \n",
       "3  EDUCATION: Bachelor’s or Master’s in GIS, busi...              0   \n",
       "4  QUALIFICATIONS:RN license in the State of Texa...              0   \n",
       "\n",
       "   has_company_logo  has_questions  fraudulent  \\\n",
       "0                 1              0           0   \n",
       "1                 1              0           0   \n",
       "2                 1              0           0   \n",
       "3                 1              0           0   \n",
       "4                 1              1           0   \n",
       "\n",
       "                                                text  \n",
       "0  Marketing Intern US, NY, New York Food52, a fa...  \n",
       "1  Customer Service - Cloud Video Production NZ, ...  \n",
       "2  Commissioning Machinery Assistant (CMA) US, IA...  \n",
       "3  Account Executive - Washington DC US, DC, Wash...  \n",
       "4  Bill Review Manager US, FL, Fort Worth JOB TIT...  "
      ]
     },
     "execution_count": 56,
     "metadata": {},
     "output_type": "execute_result"
    }
   ],
   "source": [
    "data.head()"
   ]
  },
  {
   "cell_type": "code",
   "execution_count": 57,
   "metadata": {},
   "outputs": [],
   "source": [
    "data=data.drop(['title','description','requirements','location'],axis=1)"
   ]
  },
  {
   "cell_type": "code",
   "execution_count": 58,
   "metadata": {},
   "outputs": [
    {
     "data": {
      "text/html": [
       "<div>\n",
       "<style scoped>\n",
       "    .dataframe tbody tr th:only-of-type {\n",
       "        vertical-align: middle;\n",
       "    }\n",
       "\n",
       "    .dataframe tbody tr th {\n",
       "        vertical-align: top;\n",
       "    }\n",
       "\n",
       "    .dataframe thead th {\n",
       "        text-align: right;\n",
       "    }\n",
       "</style>\n",
       "<table border=\"1\" class=\"dataframe\">\n",
       "  <thead>\n",
       "    <tr style=\"text-align: right;\">\n",
       "      <th></th>\n",
       "      <th>telecommuting</th>\n",
       "      <th>has_company_logo</th>\n",
       "      <th>has_questions</th>\n",
       "      <th>fraudulent</th>\n",
       "      <th>text</th>\n",
       "    </tr>\n",
       "  </thead>\n",
       "  <tbody>\n",
       "    <tr>\n",
       "      <th>0</th>\n",
       "      <td>0</td>\n",
       "      <td>1</td>\n",
       "      <td>0</td>\n",
       "      <td>0</td>\n",
       "      <td>Marketing Intern US, NY, New York Food52, a fa...</td>\n",
       "    </tr>\n",
       "    <tr>\n",
       "      <th>1</th>\n",
       "      <td>0</td>\n",
       "      <td>1</td>\n",
       "      <td>0</td>\n",
       "      <td>0</td>\n",
       "      <td>Customer Service - Cloud Video Production NZ, ...</td>\n",
       "    </tr>\n",
       "    <tr>\n",
       "      <th>2</th>\n",
       "      <td>0</td>\n",
       "      <td>1</td>\n",
       "      <td>0</td>\n",
       "      <td>0</td>\n",
       "      <td>Commissioning Machinery Assistant (CMA) US, IA...</td>\n",
       "    </tr>\n",
       "    <tr>\n",
       "      <th>3</th>\n",
       "      <td>0</td>\n",
       "      <td>1</td>\n",
       "      <td>0</td>\n",
       "      <td>0</td>\n",
       "      <td>Account Executive - Washington DC US, DC, Wash...</td>\n",
       "    </tr>\n",
       "    <tr>\n",
       "      <th>4</th>\n",
       "      <td>0</td>\n",
       "      <td>1</td>\n",
       "      <td>1</td>\n",
       "      <td>0</td>\n",
       "      <td>Bill Review Manager US, FL, Fort Worth JOB TIT...</td>\n",
       "    </tr>\n",
       "  </tbody>\n",
       "</table>\n",
       "</div>"
      ],
      "text/plain": [
       "   telecommuting  has_company_logo  has_questions  fraudulent  \\\n",
       "0              0                 1              0           0   \n",
       "1              0                 1              0           0   \n",
       "2              0                 1              0           0   \n",
       "3              0                 1              0           0   \n",
       "4              0                 1              1           0   \n",
       "\n",
       "                                                text  \n",
       "0  Marketing Intern US, NY, New York Food52, a fa...  \n",
       "1  Customer Service - Cloud Video Production NZ, ...  \n",
       "2  Commissioning Machinery Assistant (CMA) US, IA...  \n",
       "3  Account Executive - Washington DC US, DC, Wash...  \n",
       "4  Bill Review Manager US, FL, Fort Worth JOB TIT...  "
      ]
     },
     "execution_count": 58,
     "metadata": {},
     "output_type": "execute_result"
    }
   ],
   "source": [
    "data.head()"
   ]
  },
  {
   "cell_type": "code",
   "execution_count": 59,
   "metadata": {},
   "outputs": [
    {
     "data": {
      "text/html": [
       "<div>\n",
       "<style scoped>\n",
       "    .dataframe tbody tr th:only-of-type {\n",
       "        vertical-align: middle;\n",
       "    }\n",
       "\n",
       "    .dataframe tbody tr th {\n",
       "        vertical-align: top;\n",
       "    }\n",
       "\n",
       "    .dataframe thead th {\n",
       "        text-align: right;\n",
       "    }\n",
       "</style>\n",
       "<table border=\"1\" class=\"dataframe\">\n",
       "  <thead>\n",
       "    <tr style=\"text-align: right;\">\n",
       "      <th></th>\n",
       "      <th>telecommuting</th>\n",
       "      <th>has_company_logo</th>\n",
       "      <th>fraudulent</th>\n",
       "      <th>text</th>\n",
       "    </tr>\n",
       "  </thead>\n",
       "  <tbody>\n",
       "    <tr>\n",
       "      <th>0</th>\n",
       "      <td>0</td>\n",
       "      <td>1</td>\n",
       "      <td>0</td>\n",
       "      <td>Marketing Intern US, NY, New York Food52, a fa...</td>\n",
       "    </tr>\n",
       "    <tr>\n",
       "      <th>1</th>\n",
       "      <td>0</td>\n",
       "      <td>1</td>\n",
       "      <td>0</td>\n",
       "      <td>Customer Service - Cloud Video Production NZ, ...</td>\n",
       "    </tr>\n",
       "    <tr>\n",
       "      <th>2</th>\n",
       "      <td>0</td>\n",
       "      <td>1</td>\n",
       "      <td>0</td>\n",
       "      <td>Commissioning Machinery Assistant (CMA) US, IA...</td>\n",
       "    </tr>\n",
       "    <tr>\n",
       "      <th>3</th>\n",
       "      <td>0</td>\n",
       "      <td>1</td>\n",
       "      <td>0</td>\n",
       "      <td>Account Executive - Washington DC US, DC, Wash...</td>\n",
       "    </tr>\n",
       "    <tr>\n",
       "      <th>4</th>\n",
       "      <td>0</td>\n",
       "      <td>1</td>\n",
       "      <td>0</td>\n",
       "      <td>Bill Review Manager US, FL, Fort Worth JOB TIT...</td>\n",
       "    </tr>\n",
       "  </tbody>\n",
       "</table>\n",
       "</div>"
      ],
      "text/plain": [
       "   telecommuting  has_company_logo  fraudulent  \\\n",
       "0              0                 1           0   \n",
       "1              0                 1           0   \n",
       "2              0                 1           0   \n",
       "3              0                 1           0   \n",
       "4              0                 1           0   \n",
       "\n",
       "                                                text  \n",
       "0  Marketing Intern US, NY, New York Food52, a fa...  \n",
       "1  Customer Service - Cloud Video Production NZ, ...  \n",
       "2  Commissioning Machinery Assistant (CMA) US, IA...  \n",
       "3  Account Executive - Washington DC US, DC, Wash...  \n",
       "4  Bill Review Manager US, FL, Fort Worth JOB TIT...  "
      ]
     },
     "execution_count": 59,
     "metadata": {},
     "output_type": "execute_result"
    }
   ],
   "source": [
    "#data.head()\n",
    "data=data.drop('has_questions',axis=1)\n",
    "data.head()"
   ]
  },
  {
   "cell_type": "code",
   "execution_count": 60,
   "metadata": {},
   "outputs": [
    {
     "data": {
      "text/html": [
       "<div>\n",
       "<style scoped>\n",
       "    .dataframe tbody tr th:only-of-type {\n",
       "        vertical-align: middle;\n",
       "    }\n",
       "\n",
       "    .dataframe tbody tr th {\n",
       "        vertical-align: top;\n",
       "    }\n",
       "\n",
       "    .dataframe thead th {\n",
       "        text-align: right;\n",
       "    }\n",
       "</style>\n",
       "<table border=\"1\" class=\"dataframe\">\n",
       "  <thead>\n",
       "    <tr style=\"text-align: right;\">\n",
       "      <th></th>\n",
       "      <th>telecommuting</th>\n",
       "      <th>has_company_logo</th>\n",
       "      <th>fraudulent</th>\n",
       "      <th>text</th>\n",
       "    </tr>\n",
       "  </thead>\n",
       "  <tbody>\n",
       "    <tr>\n",
       "      <th>0</th>\n",
       "      <td>0</td>\n",
       "      <td>false</td>\n",
       "      <td>real</td>\n",
       "      <td>Marketing Intern US, NY, New York Food52, a fa...</td>\n",
       "    </tr>\n",
       "    <tr>\n",
       "      <th>1</th>\n",
       "      <td>0</td>\n",
       "      <td>false</td>\n",
       "      <td>real</td>\n",
       "      <td>Customer Service - Cloud Video Production NZ, ...</td>\n",
       "    </tr>\n",
       "  </tbody>\n",
       "</table>\n",
       "</div>"
      ],
      "text/plain": [
       "   telecommuting has_company_logo fraudulent  \\\n",
       "0              0            false       real   \n",
       "1              0            false       real   \n",
       "\n",
       "                                                text  \n",
       "0  Marketing Intern US, NY, New York Food52, a fa...  \n",
       "1  Customer Service - Cloud Video Production NZ, ...  "
      ]
     },
     "execution_count": 60,
     "metadata": {},
     "output_type": "execute_result"
    }
   ],
   "source": [
    "data['has_company_logo'].replace({1:\"false\",0:\"true\"},inplace=True)\n",
    "data.head(2)\n",
    "data['fraudulent'].replace({1:\"fake\",0:\"real\"},inplace=True)\n",
    "data.head(2)"
   ]
  },
  {
   "cell_type": "code",
   "execution_count": 61,
   "metadata": {},
   "outputs": [],
   "source": [
    "import gensim\n",
    "from gensim.utils import tokenize"
   ]
  },
  {
   "cell_type": "code",
   "execution_count": 62,
   "metadata": {},
   "outputs": [],
   "source": [
    "#tokenize(data['text'])"
   ]
  },
  {
   "cell_type": "code",
   "execution_count": 63,
   "metadata": {},
   "outputs": [
    {
     "data": {
      "text/plain": [
       "real    17014\n",
       "fake      866\n",
       "Name: fraudulent, dtype: int64"
      ]
     },
     "execution_count": 63,
     "metadata": {},
     "output_type": "execute_result"
    }
   ],
   "source": [
    "data.fraudulent.value_counts()"
   ]
  },
  {
   "cell_type": "code",
   "execution_count": 64,
   "metadata": {},
   "outputs": [
    {
     "data": {
      "text/html": [
       "<div>\n",
       "<style scoped>\n",
       "    .dataframe tbody tr th:only-of-type {\n",
       "        vertical-align: middle;\n",
       "    }\n",
       "\n",
       "    .dataframe tbody tr th {\n",
       "        vertical-align: top;\n",
       "    }\n",
       "\n",
       "    .dataframe thead th {\n",
       "        text-align: right;\n",
       "    }\n",
       "</style>\n",
       "<table border=\"1\" class=\"dataframe\">\n",
       "  <thead>\n",
       "    <tr style=\"text-align: right;\">\n",
       "      <th></th>\n",
       "      <th>telecommuting</th>\n",
       "      <th>has_company_logo</th>\n",
       "      <th>fraudulent</th>\n",
       "      <th>text</th>\n",
       "    </tr>\n",
       "  </thead>\n",
       "  <tbody>\n",
       "    <tr>\n",
       "      <th>0</th>\n",
       "      <td>0</td>\n",
       "      <td>false</td>\n",
       "      <td>real</td>\n",
       "      <td>Marketing Intern US, NY, New York Food52, a fa...</td>\n",
       "    </tr>\n",
       "    <tr>\n",
       "      <th>1</th>\n",
       "      <td>0</td>\n",
       "      <td>false</td>\n",
       "      <td>real</td>\n",
       "      <td>Customer Service - Cloud Video Production NZ, ...</td>\n",
       "    </tr>\n",
       "    <tr>\n",
       "      <th>2</th>\n",
       "      <td>0</td>\n",
       "      <td>false</td>\n",
       "      <td>real</td>\n",
       "      <td>Commissioning Machinery Assistant (CMA) US, IA...</td>\n",
       "    </tr>\n",
       "  </tbody>\n",
       "</table>\n",
       "</div>"
      ],
      "text/plain": [
       "   telecommuting has_company_logo fraudulent  \\\n",
       "0              0            false       real   \n",
       "1              0            false       real   \n",
       "2              0            false       real   \n",
       "\n",
       "                                                text  \n",
       "0  Marketing Intern US, NY, New York Food52, a fa...  \n",
       "1  Customer Service - Cloud Video Production NZ, ...  \n",
       "2  Commissioning Machinery Assistant (CMA) US, IA...  "
      ]
     },
     "execution_count": 64,
     "metadata": {},
     "output_type": "execute_result"
    }
   ],
   "source": [
    "data['text']=data['text']+' '+data['has_company_logo']\n",
    "data.head(3)"
   ]
  },
  {
   "cell_type": "code",
   "execution_count": 65,
   "metadata": {},
   "outputs": [
    {
     "data": {
      "text/html": [
       "<div>\n",
       "<style scoped>\n",
       "    .dataframe tbody tr th:only-of-type {\n",
       "        vertical-align: middle;\n",
       "    }\n",
       "\n",
       "    .dataframe tbody tr th {\n",
       "        vertical-align: top;\n",
       "    }\n",
       "\n",
       "    .dataframe thead th {\n",
       "        text-align: right;\n",
       "    }\n",
       "</style>\n",
       "<table border=\"1\" class=\"dataframe\">\n",
       "  <thead>\n",
       "    <tr style=\"text-align: right;\">\n",
       "      <th></th>\n",
       "      <th>telecommuting</th>\n",
       "      <th>fraudulent</th>\n",
       "      <th>text</th>\n",
       "    </tr>\n",
       "  </thead>\n",
       "  <tbody>\n",
       "    <tr>\n",
       "      <th>0</th>\n",
       "      <td>0</td>\n",
       "      <td>real</td>\n",
       "      <td>Marketing Intern US, NY, New York Food52, a fa...</td>\n",
       "    </tr>\n",
       "    <tr>\n",
       "      <th>1</th>\n",
       "      <td>0</td>\n",
       "      <td>real</td>\n",
       "      <td>Customer Service - Cloud Video Production NZ, ...</td>\n",
       "    </tr>\n",
       "    <tr>\n",
       "      <th>2</th>\n",
       "      <td>0</td>\n",
       "      <td>real</td>\n",
       "      <td>Commissioning Machinery Assistant (CMA) US, IA...</td>\n",
       "    </tr>\n",
       "  </tbody>\n",
       "</table>\n",
       "</div>"
      ],
      "text/plain": [
       "   telecommuting fraudulent                                               text\n",
       "0              0       real  Marketing Intern US, NY, New York Food52, a fa...\n",
       "1              0       real  Customer Service - Cloud Video Production NZ, ...\n",
       "2              0       real  Commissioning Machinery Assistant (CMA) US, IA..."
      ]
     },
     "execution_count": 65,
     "metadata": {},
     "output_type": "execute_result"
    }
   ],
   "source": [
    "data=data.drop('has_company_logo',axis=1)\n",
    "data.head(3)"
   ]
  },
  {
   "cell_type": "code",
   "execution_count": 66,
   "metadata": {},
   "outputs": [],
   "source": [
    "import sklearn\n",
    "from sklearn.feature_extraction.text import TfidfVectorizer\n",
    "from sklearn.model_selection import train_test_split"
   ]
  },
  {
   "cell_type": "code",
   "execution_count": 67,
   "metadata": {},
   "outputs": [],
   "source": [
    "x_train,x_test,y_train,y_test=train_test_split(data['text'],data['fraudulent'],test_size=0.3,random_state=7,shuffle=True)\n",
    "#print(x_train)"
   ]
  },
  {
   "cell_type": "code",
   "execution_count": 68,
   "metadata": {},
   "outputs": [
    {
     "name": "stdout",
     "output_type": "stream",
     "text": [
      "TfidfVectorizer(max_df=0.75, stop_words='english')\n"
     ]
    }
   ],
   "source": [
    "tfidf=TfidfVectorizer(stop_words='english',max_df=0.75)\n",
    "print(tfidf)"
   ]
  },
  {
   "cell_type": "code",
   "execution_count": 69,
   "metadata": {},
   "outputs": [],
   "source": [
    "#vector_for_train=tfidf.fit_transform(x_train.values.encode(utf-8))\n",
    "#this expects a unicode string"
   ]
  },
  {
   "cell_type": "code",
   "execution_count": 70,
   "metadata": {},
   "outputs": [
    {
     "name": "stdout",
     "output_type": "stream",
     "text": [
      "  (0, 37825)\t1.0\n",
      "  (1, 67540)\t0.08012946546641582\n",
      "  (1, 67323)\t0.021778259344400024\n",
      "  (1, 67126)\t0.035463665926599226\n",
      "  (1, 67043)\t0.054316129319898425\n",
      "  (1, 66922)\t0.04082691895937536\n",
      "  (1, 66884)\t0.06235789556089848\n",
      "  (1, 66697)\t0.03451060550660718\n",
      "  (1, 66562)\t0.05087782962766633\n",
      "  (1, 65933)\t0.05116048062594592\n",
      "  (1, 65753)\t0.06866403144704071\n",
      "  (1, 65308)\t0.047475877688269906\n",
      "  (1, 65256)\t0.025308333590378474\n",
      "  (1, 64880)\t0.042777785944545135\n",
      "  (1, 64811)\t0.12203639850008914\n",
      "  (1, 64712)\t0.02782325040757403\n",
      "  (1, 63748)\t0.05106523011953652\n",
      "  (1, 63488)\t0.05437297256250269\n",
      "  (1, 62802)\t0.05106523011953652\n",
      "  (1, 62778)\t0.03909160841866095\n",
      "  (1, 62199)\t0.037210707622286336\n",
      "  (1, 61882)\t0.02612371256230998\n",
      "  (1, 61467)\t0.03751292145587507\n",
      "  (1, 61405)\t0.09982835683151693\n",
      "  (1, 60610)\t0.040012955186627966\n",
      "  :\t:\n",
      "  (5363, 10131)\t0.08322266372728386\n",
      "  (5363, 9954)\t0.059282231789169575\n",
      "  (5363, 9238)\t0.04956435761063768\n",
      "  (5363, 9198)\t0.10718430507284157\n",
      "  (5363, 8774)\t0.05352814313760027\n",
      "  (5363, 8633)\t0.08893979252922682\n",
      "  (5363, 8393)\t0.02968347501694987\n",
      "  (5363, 5980)\t0.06511082500208372\n",
      "  (5363, 5471)\t0.07263901298075137\n",
      "  (5363, 5466)\t0.05778275882750062\n",
      "  (5363, 5348)\t0.0483502596915723\n",
      "  (5363, 5199)\t0.10803912282303176\n",
      "  (5363, 4240)\t0.042938966124791034\n",
      "  (5363, 3966)\t0.08517060761525991\n",
      "  (5363, 3960)\t0.06900032452253803\n",
      "  (5363, 3311)\t0.10420480996621213\n",
      "  (5363, 2956)\t0.07998562402579218\n",
      "  (5363, 2560)\t0.05939369620014076\n",
      "  (5363, 2302)\t0.06593158750687235\n",
      "  (5363, 1927)\t0.21192109669910073\n",
      "  (5363, 1675)\t0.05092358239536999\n",
      "  (5363, 1658)\t0.06670877924746396\n",
      "  (5363, 1578)\t0.11615185770121005\n",
      "  (5363, 1418)\t0.15222632665517155\n",
      "  (5363, 579)\t0.07329836204274574\n"
     ]
    }
   ],
   "source": [
    "vector_for_train=tfidf.fit_transform(x_train.astype('U'))\n",
    "#print(vector_for_train)\n",
    "vector_for_testing=tfidf.transform(x_test.astype('U'))\n",
    "print(vector_for_testing)"
   ]
  },
  {
   "cell_type": "code",
   "execution_count": 71,
   "metadata": {},
   "outputs": [
    {
     "name": "stdout",
     "output_type": "stream",
     "text": [
      "              precision    recall  f1-score   support\n",
      "\n",
      "        fake       0.70      0.55      0.61       273\n",
      "        real       0.98      0.99      0.98      5091\n",
      "\n",
      "    accuracy                           0.96      5364\n",
      "   macro avg       0.84      0.77      0.80      5364\n",
      "weighted avg       0.96      0.96      0.96      5364\n",
      "\n"
     ]
    }
   ],
   "source": [
    "from sklearn.linear_model import PassiveAggressiveClassifier\n",
    "from sklearn.tree import DecisionTreeClassifier\n",
    "from sklearn import metrics\n",
    "predictions = []\n",
    "pred_proba = []\n",
    "tree=DecisionTreeClassifier(max_depth = 30) \n",
    "tree.fit(vector_for_train, y_train) \n",
    "predictions = tree.predict(vector_for_testing)\n",
    "pred_proba = tree.predict_proba(vector_for_testing)\n",
    "tree.score(vector_for_testing,y_test)\n",
    "print(metrics.classification_report(y_test, predictions))"
   ]
  },
  {
   "cell_type": "code",
   "execution_count": 34,
   "metadata": {},
   "outputs": [],
   "source": [
    "classifier_model = DecisionTreeClassifier()"
   ]
  },
  {
   "cell_type": "code",
   "execution_count": 35,
   "metadata": {},
   "outputs": [
    {
     "data": {
      "text/plain": [
       "DecisionTreeClassifier()"
      ]
     },
     "execution_count": 35,
     "metadata": {},
     "output_type": "execute_result"
    }
   ],
   "source": [
    "classifier_model.fit(vector_for_train,y_train)"
   ]
  },
  {
   "cell_type": "code",
   "execution_count": 36,
   "metadata": {},
   "outputs": [],
   "source": [
    "pred_proba=classifier_model.predict(vector_for_testing)"
   ]
  },
  {
   "cell_type": "code",
   "execution_count": 37,
   "metadata": {},
   "outputs": [
    {
     "name": "stdout",
     "output_type": "stream",
     "text": [
      "['real' 'real' 'real' ... 'real' 'real' 'real']\n"
     ]
    }
   ],
   "source": [
    "print(pred_proba)"
   ]
  },
  {
   "cell_type": "code",
   "execution_count": 38,
   "metadata": {},
   "outputs": [
    {
     "name": "stdout",
     "output_type": "stream",
     "text": [
      "Test Set Accuracy : 96.4951528709918 %\n",
      "\n",
      "\n"
     ]
    }
   ],
   "source": [
    "from sklearn.metrics import classification_report, accuracy_score\n",
    "print(f\"Test Set Accuracy : {accuracy_score(y_test, pred_proba) * 100} %\\n\\n\")"
   ]
  },
  {
   "cell_type": "code",
   "execution_count": null,
   "metadata": {},
   "outputs": [],
   "source": []
  }
 ],
 "metadata": {
  "kernelspec": {
   "display_name": "Python 3",
   "language": "python",
   "name": "python3"
  },
  "language_info": {
   "codemirror_mode": {
    "name": "ipython",
    "version": 3
   },
   "file_extension": ".py",
   "mimetype": "text/x-python",
   "name": "python",
   "nbconvert_exporter": "python",
   "pygments_lexer": "ipython3",
   "version": "3.8.5"
  }
 },
 "nbformat": 4,
 "nbformat_minor": 4
}
