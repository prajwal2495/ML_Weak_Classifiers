{
 "cells": [
  {
   "cell_type": "code",
   "execution_count": null,
   "metadata": {},
   "outputs": [],
   "source": [
    "import numpy as np\n",
    "import pandas as pd\n",
    "import time\n",
    "from IPython.core.debugger import set_trace\n",
    "from sklearn.model_selection import train_test_split\n",
    "from sklearn.tree import DecisionTreeClassifier\n",
    "from gensim.parsing.preprocessing import STOPWORDS\n",
    "from gensim.parsing.preprocessing import remove_stopwords"
   ]
  },
  {
   "cell_type": "code",
   "execution_count": null,
   "metadata": {},
   "outputs": [],
   "source": [
    "data_frame = pd.read_csv('../data/job_train.csv')\n",
    "data_frame.dropna()\n",
    "data_frame.head(5)"
   ]
  },
  {
   "cell_type": "code",
   "execution_count": null,
   "metadata": {},
   "outputs": [],
   "source": [
    "data_frame.columns"
   ]
  },
  {
   "cell_type": "code",
   "execution_count": null,
   "metadata": {},
   "outputs": [],
   "source": [
    "data_frame.info()"
   ]
  },
  {
   "cell_type": "code",
   "execution_count": null,
   "metadata": {},
   "outputs": [],
   "source": [
    "data_frame.isnull().sum()"
   ]
  },
  {
   "cell_type": "code",
   "execution_count": null,
   "metadata": {},
   "outputs": [],
   "source": [
    "#cleaning missing values in the columns\n",
    "\n",
    "#location\n",
    "data_frame['location'] = data_frame.location.fillna('none')\n",
    "\n",
    "#description\n",
    "data_frame['description'] = data_frame.description.fillna('not specified')\n",
    "\n",
    "#requirements\n",
    "data_frame['requirements'] = data_frame.description.fillna('not specified')\n",
    "\n",
    "#drop unnecassary columns\n",
    "data_frame.drop(['telecommuting','has_questions'],axis = 1, inplace = True)\n",
    "\n",
    "#mapping fraudulent to T and F, where there is  0 and 1 respectively\n",
    "data_frame['has_company_logo'] = data_frame.has_company_logo.map({1 : 't', 0 : 'f'})\n",
    "data_frame['fraudulent'] = data_frame.fraudulent.map({1 : 't', 0 : 'f'})"
   ]
  },
  {
   "cell_type": "code",
   "execution_count": null,
   "metadata": {},
   "outputs": [],
   "source": [
    "data_frame.isnull().sum()"
   ]
  },
  {
   "cell_type": "code",
   "execution_count": null,
   "metadata": {},
   "outputs": [],
   "source": [
    "data_frame.head()"
   ]
  },
  {
   "cell_type": "code",
   "execution_count": null,
   "metadata": {},
   "outputs": [],
   "source": [
    "#remove any unnecassary web tags in the data set\n",
    "data_frame['title'] = data_frame.title.str.replace(r'<[^>]*>', '')\n",
    "data_frame['description'] = data_frame.description.str.replace(r'<[^>]*>', '')\n",
    "data_frame['requirements'] = data_frame.requirements.str.replace(r'<[^>]*>', '')"
   ]
  },
  {
   "cell_type": "code",
   "execution_count": null,
   "metadata": {},
   "outputs": [],
   "source": [
    "data_frame.head()"
   ]
  },
  {
   "cell_type": "code",
   "execution_count": null,
   "metadata": {},
   "outputs": [],
   "source": [
    "# removing the characters in data set that are not words and has white spaces \n",
    "for column in data_frame.columns:\n",
    "    data_frame[column] = data_frame[column].str.replace(r'\\W', ' ').str.replace(r'\\s$','')"
   ]
  },
  {
   "cell_type": "code",
   "execution_count": null,
   "metadata": {},
   "outputs": [],
   "source": [
    "data_frame.head()"
   ]
  },
  {
   "cell_type": "code",
   "execution_count": null,
   "metadata": {},
   "outputs": [],
   "source": [
    "# mapping back the columns to original binary values\n",
    "#data_frame['has_company_logo'] = data_frame.has_company_logo.map({'t': 1, 'f':0})\n",
    "data_frame['fraudulent'] = data_frame.fraudulent.map({'t': 1, 'f':0})"
   ]
  },
  {
   "cell_type": "code",
   "execution_count": null,
   "metadata": {},
   "outputs": [],
   "source": [
    "data_frame"
   ]
  },
  {
   "cell_type": "code",
   "execution_count": null,
   "metadata": {},
   "outputs": [],
   "source": [
    "all_gensim_stop_words = STOPWORDS\n",
    "print(all_gensim_stop_words)"
   ]
  },
  {
   "cell_type": "code",
   "execution_count": null,
   "metadata": {},
   "outputs": [],
   "source": [
    "data_frame.info()"
   ]
  },
  {
   "cell_type": "code",
   "execution_count": null,
   "metadata": {},
   "outputs": [],
   "source": [
    "data_frame.head()"
   ]
  },
  {
   "cell_type": "code",
   "execution_count": null,
   "metadata": {},
   "outputs": [],
   "source": [
    "def clean_all_columns(column_name):\n",
    "    data_frame[column_name] = data_frame[column_name].apply(lambda x: \" \".join([i for i in x.lower().split() if i not in all_gensim_stop_words]))"
   ]
  },
  {
   "cell_type": "code",
   "execution_count": null,
   "metadata": {},
   "outputs": [],
   "source": [
    "#text_columns = ['title', 'location', 'description', 'requirements', 'has_company_logo']\n",
    "#data_frame.drop(['fraudulent'],axis = 1, inplace = True)\n",
    "\n",
    "text_columns = list(data_frame.columns.values)\n",
    "text_columns.remove('fraudulent')\n",
    "#print(text_columns)\n",
    "set_trace()\n",
    "\n",
    "for columns in text_columns:\n",
    "    clean_all_columns(columns)"
   ]
  },
  {
   "cell_type": "code",
   "execution_count": null,
   "metadata": {},
   "outputs": [],
   "source": [
    "data_frame"
   ]
  },
  {
   "cell_type": "code",
   "execution_count": null,
   "metadata": {},
   "outputs": [],
   "source": [
    "dummies = pd.get_dummies(data_frame[['title','location','description','requirements','has_company_logo','fraudulent']],drop_first=True)\n",
    "\n",
    "data_frame = pd.concat([data_frame.drop(['title','location','description','requirements','has_company_logo','fraudulent'], axis=1), dummies],axis=1)"
   ]
  },
  {
   "cell_type": "code",
   "execution_count": null,
   "metadata": {},
   "outputs": [],
   "source": [
    "data_frame.shape"
   ]
  },
  {
   "cell_type": "code",
   "execution_count": null,
   "metadata": {},
   "outputs": [],
   "source": [
    "data_frame.columns"
   ]
  },
  {
   "cell_type": "code",
   "execution_count": null,
   "metadata": {},
   "outputs": [],
   "source": [
    "data_frame"
   ]
  },
  {
   "cell_type": "code",
   "execution_count": null,
   "metadata": {},
   "outputs": [],
   "source": [
    "data_frame.columns"
   ]
  },
  {
   "cell_type": "code",
   "execution_count": null,
   "metadata": {},
   "outputs": [],
   "source": [
    "X = data_frame.drop('fraudulent', axis = 1).values\n",
    "y = data_frame['fraudulent'].values"
   ]
  },
  {
   "cell_type": "code",
   "execution_count": null,
   "metadata": {},
   "outputs": [],
   "source": [
    "x_train, x_test, y_train, y_test = train_test_split(X,y,test_size=0.25,random_state=101)"
   ]
  },
  {
   "cell_type": "code",
   "execution_count": null,
   "metadata": {},
   "outputs": [],
   "source": [
    "predictions = []\n",
    "pred_proba = []\n",
    "from sklearn.linear_model import PassiveAggressiveClassifier \n",
    "\n",
    "# Creating model \n",
    "model = PassiveAggressiveClassifier(C = 0.5, random_state = 5) \n",
    "  \n",
    "# Fitting model  \n",
    "model.fit(x_train, y_train) \n",
    "  \n",
    "# Making prediction on test set \n",
    "test_pred = model.predict(x_test) \n",
    "  \n",
    "# Model evaluation \n",
    "print(f\"Test Set Accuracy : {accuracy_score(y_test, test_pred) * 100} %\\n\\n\")   \n",
    "  \n",
    "print(f\"Classification Report : \\n\\n{classification_report(y_test, test_pred)}\") \n",
    "\n",
    "# tree=DecisionTreeClassifier(max_depth = 10) \n",
    "# tree.fit(x_train, y_train) \n",
    "# predictions = tree.predict(x_test)\n",
    "# pred_proba = tree.predict_proba(x_test)\n",
    "# tree.score(x_test,y_test)\n",
    "\n"
   ]
  },
  {
   "cell_type": "code",
   "execution_count": null,
   "metadata": {},
   "outputs": [],
   "source": [
    "scores=[]\n",
    "\n",
    "start = time.time()\n",
    "for i in range(1,10):\n",
    "    tree = DecisionTreeClassifier(max_depth = i)\n",
    "    tree.fit(x_train, y_train)\n",
    "    scores.append(tree.score(x_test,y_test))\n",
    "end = (time.time() - start) / 60.0\n",
    "print(\"total time:\")\n",
    "print(end)\n",
    "print()\n",
    "print(\"max f1 score:\")\n",
    "print(np.max(scores))"
   ]
  },
  {
   "cell_type": "code",
   "execution_count": null,
   "metadata": {},
   "outputs": [],
   "source": [
    "print(\"Scores:\")\n",
    "print()\n",
    "print(scores)"
   ]
  }
 ],
 "metadata": {
  "kernelspec": {
   "display_name": "Python 3",
   "language": "python",
   "name": "python3"
  },
  "language_info": {
   "codemirror_mode": {
    "name": "ipython",
    "version": 3
   },
   "file_extension": ".py",
   "mimetype": "text/x-python",
   "name": "python",
   "nbconvert_exporter": "python",
   "pygments_lexer": "ipython3",
   "version": "3.8.5"
  }
 },
 "nbformat": 4,
 "nbformat_minor": 4
}
