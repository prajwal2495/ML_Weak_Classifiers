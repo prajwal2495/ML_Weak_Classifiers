{
 "cells": [
  {
   "cell_type": "code",
   "execution_count": 1,
   "metadata": {},
   "outputs": [],
   "source": [
    "import pandas as pd\n",
    "import numpy as np"
   ]
  },
  {
   "cell_type": "code",
   "execution_count": 2,
   "metadata": {},
   "outputs": [
    {
     "name": "stdout",
     "output_type": "stream",
     "text": [
      "shape\n"
     ]
    },
    {
     "data": {
      "text/plain": [
       "(8940, 8)"
      ]
     },
     "execution_count": 2,
     "metadata": {},
     "output_type": "execute_result"
    }
   ],
   "source": [
    "data=pd.read_csv('../data/job_train.csv')\n",
    "print(\"shape\")\n",
    "data.shape\n"
   ]
  },
  {
   "cell_type": "code",
   "execution_count": 3,
   "metadata": {},
   "outputs": [
    {
     "data": {
      "text/html": [
       "<div>\n",
       "<style scoped>\n",
       "    .dataframe tbody tr th:only-of-type {\n",
       "        vertical-align: middle;\n",
       "    }\n",
       "\n",
       "    .dataframe tbody tr th {\n",
       "        vertical-align: top;\n",
       "    }\n",
       "\n",
       "    .dataframe thead th {\n",
       "        text-align: right;\n",
       "    }\n",
       "</style>\n",
       "<table border=\"1\" class=\"dataframe\">\n",
       "  <thead>\n",
       "    <tr style=\"text-align: right;\">\n",
       "      <th></th>\n",
       "      <th>title</th>\n",
       "      <th>location</th>\n",
       "      <th>description</th>\n",
       "      <th>requirements</th>\n",
       "      <th>telecommuting</th>\n",
       "      <th>has_company_logo</th>\n",
       "      <th>has_questions</th>\n",
       "      <th>fraudulent</th>\n",
       "    </tr>\n",
       "  </thead>\n",
       "  <tbody>\n",
       "    <tr>\n",
       "      <th>0</th>\n",
       "      <td>Architect (Middleware - MQ) - Kuwait</td>\n",
       "      <td>KW, KU,</td>\n",
       "      <td>On behalf of our client, a well known multinat...</td>\n",
       "      <td>-Working technical knowledge of IT systems and...</td>\n",
       "      <td>0</td>\n",
       "      <td>1</td>\n",
       "      <td>0</td>\n",
       "      <td>0</td>\n",
       "    </tr>\n",
       "    <tr>\n",
       "      <th>1</th>\n",
       "      <td>Interviewing Now for Sales Rep Positions -- wi...</td>\n",
       "      <td>US, TX, Corpus Christi</td>\n",
       "      <td>We are Argenta Field Solutions, a rapidly expa...</td>\n",
       "      <td>#NAME?</td>\n",
       "      <td>0</td>\n",
       "      <td>1</td>\n",
       "      <td>0</td>\n",
       "      <td>0</td>\n",
       "    </tr>\n",
       "    <tr>\n",
       "      <th>2</th>\n",
       "      <td>Process Controls Staff Engineer - Foxboro I/A ...</td>\n",
       "      <td>US, TX, USA Southwest</td>\n",
       "      <td>Experienced Process Controls Staff Engineer is...</td>\n",
       "      <td>At least 10 years of degreed professional expe...</td>\n",
       "      <td>0</td>\n",
       "      <td>0</td>\n",
       "      <td>0</td>\n",
       "      <td>0</td>\n",
       "    </tr>\n",
       "  </tbody>\n",
       "</table>\n",
       "</div>"
      ],
      "text/plain": [
       "                                               title                location  \\\n",
       "0               Architect (Middleware - MQ) - Kuwait                KW, KU,    \n",
       "1  Interviewing Now for Sales Rep Positions -- wi...  US, TX, Corpus Christi   \n",
       "2  Process Controls Staff Engineer - Foxboro I/A ...   US, TX, USA Southwest   \n",
       "\n",
       "                                         description  \\\n",
       "0  On behalf of our client, a well known multinat...   \n",
       "1  We are Argenta Field Solutions, a rapidly expa...   \n",
       "2  Experienced Process Controls Staff Engineer is...   \n",
       "\n",
       "                                        requirements  telecommuting  \\\n",
       "0  -Working technical knowledge of IT systems and...              0   \n",
       "1                                             #NAME?              0   \n",
       "2  At least 10 years of degreed professional expe...              0   \n",
       "\n",
       "   has_company_logo  has_questions  fraudulent  \n",
       "0                 1              0           0  \n",
       "1                 1              0           0  \n",
       "2                 0              0           0  "
      ]
     },
     "execution_count": 3,
     "metadata": {},
     "output_type": "execute_result"
    }
   ],
   "source": [
    "data.head(3)"
   ]
  },
  {
   "cell_type": "code",
   "execution_count": 4,
   "metadata": {},
   "outputs": [
    {
     "name": "stdout",
     "output_type": "stream",
     "text": [
      "<class 'pandas.core.frame.DataFrame'>\n",
      "RangeIndex: 8940 entries, 0 to 8939\n",
      "Data columns (total 8 columns):\n",
      " #   Column            Non-Null Count  Dtype \n",
      "---  ------            --------------  ----- \n",
      " 0   title             8940 non-null   object\n",
      " 1   location          8783 non-null   object\n",
      " 2   description       8939 non-null   object\n",
      " 3   requirements      7614 non-null   object\n",
      " 4   telecommuting     8940 non-null   int64 \n",
      " 5   has_company_logo  8940 non-null   int64 \n",
      " 6   has_questions     8940 non-null   int64 \n",
      " 7   fraudulent        8940 non-null   int64 \n",
      "dtypes: int64(4), object(4)\n",
      "memory usage: 558.9+ KB\n"
     ]
    }
   ],
   "source": [
    "data.info()"
   ]
  },
  {
   "cell_type": "code",
   "execution_count": 5,
   "metadata": {},
   "outputs": [
    {
     "data": {
      "text/plain": [
       "title                  0\n",
       "location             157\n",
       "description            1\n",
       "requirements        1326\n",
       "telecommuting          0\n",
       "has_company_logo       0\n",
       "has_questions          0\n",
       "fraudulent             0\n",
       "dtype: int64"
      ]
     },
     "execution_count": 5,
     "metadata": {},
     "output_type": "execute_result"
    }
   ],
   "source": [
    "data.isnull().sum()"
   ]
  },
  {
   "cell_type": "code",
   "execution_count": 6,
   "metadata": {},
   "outputs": [
    {
     "data": {
      "text/plain": [
       "0    8484\n",
       "1     456\n",
       "Name: fraudulent, dtype: int64"
      ]
     },
     "execution_count": 6,
     "metadata": {},
     "output_type": "execute_result"
    }
   ],
   "source": [
    "data.fraudulent.value_counts()"
   ]
  },
  {
   "cell_type": "code",
   "execution_count": 14,
   "metadata": {},
   "outputs": [
    {
     "data": {
      "text/plain": [
       "<AxesSubplot:xlabel='Fraudulent', ylabel='value counts'>"
      ]
     },
     "execution_count": 14,
     "metadata": {},
     "output_type": "execute_result"
    },
    {
     "data": {
      "image/png": "[encoded data removed]",
      "text/plain": [
       "<Figure size 432x288 with 1 Axes>"
      ]
     },
     "metadata": {
      "needs_background": "light"
     },
     "output_type": "display_data"
    }
   ],
   "source": [
    "import matplotlib.pyplot as plt\n",
    "plt.xlabel(\"Fraudulent\")\n",
    "plt.ylabel(\"value counts\")\n",
    "data_frame.fraudulent.value_counts().plot.bar()"
   ]
  },
  {
   "cell_type": "code",
   "execution_count": 13,
   "metadata": {},
   "outputs": [
    {
     "ename": "TypeError",
     "evalue": "Image data of dtype object cannot be converted to float",
     "output_type": "error",
     "traceback": [
      "\u001b[0;31m---------------------------------------------------------------------------\u001b[0m",
      "\u001b[0;31mTypeError\u001b[0m                                 Traceback (most recent call last)",
      "\u001b[0;32m<ipython-input-13-6d0910741692>\u001b[0m in \u001b[0;36m<module>\u001b[0;34m\u001b[0m\n\u001b[0;32m----> 1\u001b[0;31m \u001b[0mplt\u001b[0m\u001b[0;34m.\u001b[0m\u001b[0mimshow\u001b[0m\u001b[0;34m(\u001b[0m\u001b[0mdata\u001b[0m\u001b[0;34m,\u001b[0m \u001b[0mcmap\u001b[0m\u001b[0;34m=\u001b[0m\u001b[0;34m\"YlGnBu\"\u001b[0m\u001b[0;34m)\u001b[0m\u001b[0;34m\u001b[0m\u001b[0;34m\u001b[0m\u001b[0m\n\u001b[0m\u001b[1;32m      2\u001b[0m \u001b[0mplt\u001b[0m\u001b[0;34m.\u001b[0m\u001b[0mcolorbar\u001b[0m\u001b[0;34m(\u001b[0m\u001b[0;34m)\u001b[0m\u001b[0;34m\u001b[0m\u001b[0;34m\u001b[0m\u001b[0m\n\u001b[1;32m      3\u001b[0m \u001b[0mplt\u001b[0m\u001b[0;34m.\u001b[0m\u001b[0mxticks\u001b[0m\u001b[0;34m(\u001b[0m\u001b[0mrange\u001b[0m\u001b[0;34m(\u001b[0m\u001b[0mlen\u001b[0m\u001b[0;34m(\u001b[0m\u001b[0mdata\u001b[0m\u001b[0;34m)\u001b[0m\u001b[0;34m)\u001b[0m\u001b[0;34m,\u001b[0m\u001b[0mdata\u001b[0m\u001b[0;34m.\u001b[0m\u001b[0mcolumns\u001b[0m\u001b[0;34m,\u001b[0m \u001b[0mrotation\u001b[0m\u001b[0;34m=\u001b[0m\u001b[0;36m20\u001b[0m\u001b[0;34m)\u001b[0m\u001b[0;34m\u001b[0m\u001b[0;34m\u001b[0m\u001b[0m\n\u001b[1;32m      4\u001b[0m \u001b[0mplt\u001b[0m\u001b[0;34m.\u001b[0m\u001b[0myticks\u001b[0m\u001b[0;34m(\u001b[0m\u001b[0mrange\u001b[0m\u001b[0;34m(\u001b[0m\u001b[0mlen\u001b[0m\u001b[0;34m(\u001b[0m\u001b[0mdata\u001b[0m\u001b[0;34m)\u001b[0m\u001b[0;34m)\u001b[0m\u001b[0;34m,\u001b[0m\u001b[0mdata\u001b[0m\u001b[0;34m.\u001b[0m\u001b[0mindex\u001b[0m\u001b[0;34m)\u001b[0m\u001b[0;34m\u001b[0m\u001b[0;34m\u001b[0m\u001b[0m\n\u001b[1;32m      5\u001b[0m \u001b[0mplt\u001b[0m\u001b[0;34m.\u001b[0m\u001b[0mshow\u001b[0m\u001b[0;34m(\u001b[0m\u001b[0;34m)\u001b[0m\u001b[0;34m\u001b[0m\u001b[0;34m\u001b[0m\u001b[0m\n",
      "\u001b[0;32m~/env/base/lib/python3.8/site-packages/matplotlib/pyplot.py\u001b[0m in \u001b[0;36mimshow\u001b[0;34m(X, cmap, norm, aspect, interpolation, alpha, vmin, vmax, origin, extent, filternorm, filterrad, resample, url, data, **kwargs)\u001b[0m\n\u001b[1;32m   2722\u001b[0m         \u001b[0mfilternorm\u001b[0m\u001b[0;34m=\u001b[0m\u001b[0;32mTrue\u001b[0m\u001b[0;34m,\u001b[0m \u001b[0mfilterrad\u001b[0m\u001b[0;34m=\u001b[0m\u001b[0;36m4.0\u001b[0m\u001b[0;34m,\u001b[0m \u001b[0mresample\u001b[0m\u001b[0;34m=\u001b[0m\u001b[0;32mNone\u001b[0m\u001b[0;34m,\u001b[0m \u001b[0murl\u001b[0m\u001b[0;34m=\u001b[0m\u001b[0;32mNone\u001b[0m\u001b[0;34m,\u001b[0m\u001b[0;34m\u001b[0m\u001b[0;34m\u001b[0m\u001b[0m\n\u001b[1;32m   2723\u001b[0m         data=None, **kwargs):\n\u001b[0;32m-> 2724\u001b[0;31m     __ret = gca().imshow(\n\u001b[0m\u001b[1;32m   2725\u001b[0m         \u001b[0mX\u001b[0m\u001b[0;34m,\u001b[0m \u001b[0mcmap\u001b[0m\u001b[0;34m=\u001b[0m\u001b[0mcmap\u001b[0m\u001b[0;34m,\u001b[0m \u001b[0mnorm\u001b[0m\u001b[0;34m=\u001b[0m\u001b[0mnorm\u001b[0m\u001b[0;34m,\u001b[0m \u001b[0maspect\u001b[0m\u001b[0;34m=\u001b[0m\u001b[0maspect\u001b[0m\u001b[0;34m,\u001b[0m\u001b[0;34m\u001b[0m\u001b[0;34m\u001b[0m\u001b[0m\n\u001b[1;32m   2726\u001b[0m         \u001b[0minterpolation\u001b[0m\u001b[0;34m=\u001b[0m\u001b[0minterpolation\u001b[0m\u001b[0;34m,\u001b[0m \u001b[0malpha\u001b[0m\u001b[0;34m=\u001b[0m\u001b[0malpha\u001b[0m\u001b[0;34m,\u001b[0m \u001b[0mvmin\u001b[0m\u001b[0;34m=\u001b[0m\u001b[0mvmin\u001b[0m\u001b[0;34m,\u001b[0m\u001b[0;34m\u001b[0m\u001b[0;34m\u001b[0m\u001b[0m\n",
      "\u001b[0;32m~/env/base/lib/python3.8/site-packages/matplotlib/__init__.py\u001b[0m in \u001b[0;36minner\u001b[0;34m(ax, data, *args, **kwargs)\u001b[0m\n\u001b[1;32m   1436\u001b[0m     \u001b[0;32mdef\u001b[0m \u001b[0minner\u001b[0m\u001b[0;34m(\u001b[0m\u001b[0max\u001b[0m\u001b[0;34m,\u001b[0m \u001b[0;34m*\u001b[0m\u001b[0margs\u001b[0m\u001b[0;34m,\u001b[0m \u001b[0mdata\u001b[0m\u001b[0;34m=\u001b[0m\u001b[0;32mNone\u001b[0m\u001b[0;34m,\u001b[0m \u001b[0;34m**\u001b[0m\u001b[0mkwargs\u001b[0m\u001b[0;34m)\u001b[0m\u001b[0;34m:\u001b[0m\u001b[0;34m\u001b[0m\u001b[0;34m\u001b[0m\u001b[0m\n\u001b[1;32m   1437\u001b[0m         \u001b[0;32mif\u001b[0m \u001b[0mdata\u001b[0m \u001b[0;32mis\u001b[0m \u001b[0;32mNone\u001b[0m\u001b[0;34m:\u001b[0m\u001b[0;34m\u001b[0m\u001b[0;34m\u001b[0m\u001b[0m\n\u001b[0;32m-> 1438\u001b[0;31m             \u001b[0;32mreturn\u001b[0m \u001b[0mfunc\u001b[0m\u001b[0;34m(\u001b[0m\u001b[0max\u001b[0m\u001b[0;34m,\u001b[0m \u001b[0;34m*\u001b[0m\u001b[0mmap\u001b[0m\u001b[0;34m(\u001b[0m\u001b[0msanitize_sequence\u001b[0m\u001b[0;34m,\u001b[0m \u001b[0margs\u001b[0m\u001b[0;34m)\u001b[0m\u001b[0;34m,\u001b[0m \u001b[0;34m**\u001b[0m\u001b[0mkwargs\u001b[0m\u001b[0;34m)\u001b[0m\u001b[0;34m\u001b[0m\u001b[0;34m\u001b[0m\u001b[0m\n\u001b[0m\u001b[1;32m   1439\u001b[0m \u001b[0;34m\u001b[0m\u001b[0m\n\u001b[1;32m   1440\u001b[0m         \u001b[0mbound\u001b[0m \u001b[0;34m=\u001b[0m \u001b[0mnew_sig\u001b[0m\u001b[0;34m.\u001b[0m\u001b[0mbind\u001b[0m\u001b[0;34m(\u001b[0m\u001b[0max\u001b[0m\u001b[0;34m,\u001b[0m \u001b[0;34m*\u001b[0m\u001b[0margs\u001b[0m\u001b[0;34m,\u001b[0m \u001b[0;34m**\u001b[0m\u001b[0mkwargs\u001b[0m\u001b[0;34m)\u001b[0m\u001b[0;34m\u001b[0m\u001b[0;34m\u001b[0m\u001b[0m\n",
      "\u001b[0;32m~/env/base/lib/python3.8/site-packages/matplotlib/axes/_axes.py\u001b[0m in \u001b[0;36mimshow\u001b[0;34m(self, X, cmap, norm, aspect, interpolation, alpha, vmin, vmax, origin, extent, filternorm, filterrad, resample, url, **kwargs)\u001b[0m\n\u001b[1;32m   5521\u001b[0m                               resample=resample, **kwargs)\n\u001b[1;32m   5522\u001b[0m \u001b[0;34m\u001b[0m\u001b[0m\n\u001b[0;32m-> 5523\u001b[0;31m         \u001b[0mim\u001b[0m\u001b[0;34m.\u001b[0m\u001b[0mset_data\u001b[0m\u001b[0;34m(\u001b[0m\u001b[0mX\u001b[0m\u001b[0;34m)\u001b[0m\u001b[0;34m\u001b[0m\u001b[0;34m\u001b[0m\u001b[0m\n\u001b[0m\u001b[1;32m   5524\u001b[0m         \u001b[0mim\u001b[0m\u001b[0;34m.\u001b[0m\u001b[0mset_alpha\u001b[0m\u001b[0;34m(\u001b[0m\u001b[0malpha\u001b[0m\u001b[0;34m)\u001b[0m\u001b[0;34m\u001b[0m\u001b[0;34m\u001b[0m\u001b[0m\n\u001b[1;32m   5525\u001b[0m         \u001b[0;32mif\u001b[0m \u001b[0mim\u001b[0m\u001b[0;34m.\u001b[0m\u001b[0mget_clip_path\u001b[0m\u001b[0;34m(\u001b[0m\u001b[0;34m)\u001b[0m \u001b[0;32mis\u001b[0m \u001b[0;32mNone\u001b[0m\u001b[0;34m:\u001b[0m\u001b[0;34m\u001b[0m\u001b[0;34m\u001b[0m\u001b[0m\n",
      "\u001b[0;32m~/env/base/lib/python3.8/site-packages/matplotlib/image.py\u001b[0m in \u001b[0;36mset_data\u001b[0;34m(self, A)\u001b[0m\n\u001b[1;32m    698\u001b[0m         if (self._A.dtype != np.uint8 and\n\u001b[1;32m    699\u001b[0m                 not np.can_cast(self._A.dtype, float, \"same_kind\")):\n\u001b[0;32m--> 700\u001b[0;31m             raise TypeError(\"Image data of dtype {} cannot be converted to \"\n\u001b[0m\u001b[1;32m    701\u001b[0m                             \"float\".format(self._A.dtype))\n\u001b[1;32m    702\u001b[0m \u001b[0;34m\u001b[0m\u001b[0m\n",
      "\u001b[0;31mTypeError\u001b[0m: Image data of dtype object cannot be converted to float"
     ]
    },
    {
     "data": {
      "image/png": "[encoded data removed]",
      "text/plain": [
       "<Figure size 432x288 with 1 Axes>"
      ]
     },
     "metadata": {
      "needs_background": "light"
     },
     "output_type": "display_data"
    }
   ],
   "source": [
    "plt.imshow(data, cmap=\"YlGnBu\")\n",
    "plt.colorbar()\n",
    "plt.xticks(range(len(data)),data.columns, rotation=20)\n",
    "plt.yticks(range(len(data)),data.index)\n",
    "plt.show()"
   ]
  },
  {
   "cell_type": "code",
   "execution_count": 15,
   "metadata": {},
   "outputs": [
    {
     "data": {
      "text/html": [
       "<div>\n",
       "<style scoped>\n",
       "    .dataframe tbody tr th:only-of-type {\n",
       "        vertical-align: middle;\n",
       "    }\n",
       "\n",
       "    .dataframe tbody tr th {\n",
       "        vertical-align: top;\n",
       "    }\n",
       "\n",
       "    .dataframe thead th {\n",
       "        text-align: right;\n",
       "    }\n",
       "</style>\n",
       "<table border=\"1\" class=\"dataframe\">\n",
       "  <thead>\n",
       "    <tr style=\"text-align: right;\">\n",
       "      <th></th>\n",
       "      <th>location</th>\n",
       "      <th>description</th>\n",
       "      <th>requirements</th>\n",
       "    </tr>\n",
       "  </thead>\n",
       "  <tbody>\n",
       "    <tr>\n",
       "      <th>0</th>\n",
       "      <td>KW, KU,</td>\n",
       "      <td>On behalf of our client, a well known multinat...</td>\n",
       "      <td>-Working technical knowledge of IT systems and...</td>\n",
       "    </tr>\n",
       "    <tr>\n",
       "      <th>1</th>\n",
       "      <td>US, TX, Corpus Christi</td>\n",
       "      <td>We are Argenta Field Solutions, a rapidly expa...</td>\n",
       "      <td>#NAME?</td>\n",
       "    </tr>\n",
       "    <tr>\n",
       "      <th>2</th>\n",
       "      <td>US, TX, USA Southwest</td>\n",
       "      <td>Experienced Process Controls Staff Engineer is...</td>\n",
       "      <td>At least 10 years of degreed professional expe...</td>\n",
       "    </tr>\n",
       "    <tr>\n",
       "      <th>3</th>\n",
       "      <td>AU, NSW,</td>\n",
       "      <td>If you have a passion for people and love to s...</td>\n",
       "      <td>Responsibilities - Prospecting, following up a...</td>\n",
       "    </tr>\n",
       "    <tr>\n",
       "      <th>4</th>\n",
       "      <td>GB, ENG, London</td>\n",
       "      <td>As the successful Senior Network Engineer you ...</td>\n",
       "      <td>Essential skills:•Juniper switching/routing/se...</td>\n",
       "    </tr>\n",
       "    <tr>\n",
       "      <th>5</th>\n",
       "      <td>US, NY, New York</td>\n",
       "      <td>Energy/financial reporter needed in NYCDriven ...</td>\n",
       "      <td>The successful candidate should have a bachelo...</td>\n",
       "    </tr>\n",
       "    <tr>\n",
       "      <th>6</th>\n",
       "      <td>EG, C, Cairo</td>\n",
       "      <td>Role Summary:HR Talent Acquisition Lead will b...</td>\n",
       "      <td>Experienced females are preferred.Relevant exp...</td>\n",
       "    </tr>\n",
       "    <tr>\n",
       "      <th>7</th>\n",
       "      <td>US, IA, Cedar Rapids</td>\n",
       "      <td>Red Star Yeast Company LLC (RSYC), a leader in...</td>\n",
       "      <td>The ideal candidate will be currently enrolled...</td>\n",
       "    </tr>\n",
       "    <tr>\n",
       "      <th>8</th>\n",
       "      <td>DE, BE, Berlin</td>\n",
       "      <td>We are looking for freelance translators (m/f)...</td>\n",
       "      <td>Translation experiencePreferably also a backgr...</td>\n",
       "    </tr>\n",
       "    <tr>\n",
       "      <th>9</th>\n",
       "      <td>US, VA,</td>\n",
       "      <td>We now have a unique product that any physicia...</td>\n",
       "      <td>Proven History of SalesExperince in Medical Sa...</td>\n",
       "    </tr>\n",
       "    <tr>\n",
       "      <th>10</th>\n",
       "      <td>US, CA, Long Beach</td>\n",
       "      <td>Ruby on Rails Web Engineer (RoR)Now Hiring Rub...</td>\n",
       "      <td>NaN</td>\n",
       "    </tr>\n",
       "    <tr>\n",
       "      <th>11</th>\n",
       "      <td>US, OH, Cincinnati</td>\n",
       "      <td>Organizes item orders by editing for price, pr...</td>\n",
       "      <td>Documentation Skills, Data Entry Skills, Tele...</td>\n",
       "    </tr>\n",
       "    <tr>\n",
       "      <th>12</th>\n",
       "      <td>US, OH, Hilliard</td>\n",
       "      <td>Baesman Group is looking to hire motivated ind...</td>\n",
       "      <td>Must have knowledge of USPS postal regulations...</td>\n",
       "    </tr>\n",
       "    <tr>\n",
       "      <th>13</th>\n",
       "      <td>GB, ,</td>\n",
       "      <td>Join a fast growing technology education movem...</td>\n",
       "      <td>Requirements:Apps for Good is looking for peop...</td>\n",
       "    </tr>\n",
       "    <tr>\n",
       "      <th>14</th>\n",
       "      <td>US, NC, Charlotte</td>\n",
       "      <td>Title                       : SFDC Consultant ...</td>\n",
       "      <td>SFDC Design experience including  experience i...</td>\n",
       "    </tr>\n",
       "    <tr>\n",
       "      <th>15</th>\n",
       "      <td>GR, I, Athens</td>\n",
       "      <td>Roll the Clip is seeking a Senior iOS develope...</td>\n",
       "      <td>Expertise in Git, Objective-C programming, Coc...</td>\n",
       "    </tr>\n",
       "    <tr>\n",
       "      <th>16</th>\n",
       "      <td>US, TX, Austin, San Antonio, Houston</td>\n",
       "      <td>AimTruancy Solutions is a fast-growing company...</td>\n",
       "      <td>Core Competencies and Position Expectations:• ...</td>\n",
       "    </tr>\n",
       "    <tr>\n",
       "      <th>17</th>\n",
       "      <td>US, FL, Fort Lauderdale</td>\n",
       "      <td>This newly created role will be filled by a hi...</td>\n",
       "      <td>NaN</td>\n",
       "    </tr>\n",
       "    <tr>\n",
       "      <th>18</th>\n",
       "      <td>US, , New York</td>\n",
       "      <td>The Sr. Java Developer is a key team member of...</td>\n",
       "      <td>Qualifications:Bachelor’s degree in related fi...</td>\n",
       "    </tr>\n",
       "    <tr>\n",
       "      <th>19</th>\n",
       "      <td>NaN</td>\n",
       "      <td>Sounds like what you want to do? Then apply to...</td>\n",
       "      <td>NaN</td>\n",
       "    </tr>\n",
       "  </tbody>\n",
       "</table>\n",
       "</div>"
      ],
      "text/plain": [
       "                                location  \\\n",
       "0                               KW, KU,    \n",
       "1                 US, TX, Corpus Christi   \n",
       "2                  US, TX, USA Southwest   \n",
       "3                              AU, NSW,    \n",
       "4                        GB, ENG, London   \n",
       "5                       US, NY, New York   \n",
       "6                           EG, C, Cairo   \n",
       "7                   US, IA, Cedar Rapids   \n",
       "8                         DE, BE, Berlin   \n",
       "9                               US, VA,    \n",
       "10                    US, CA, Long Beach   \n",
       "11                    US, OH, Cincinnati   \n",
       "12                      US, OH, Hilliard   \n",
       "13                                GB, ,    \n",
       "14                     US, NC, Charlotte   \n",
       "15                         GR, I, Athens   \n",
       "16  US, TX, Austin, San Antonio, Houston   \n",
       "17               US, FL, Fort Lauderdale   \n",
       "18                        US, , New York   \n",
       "19                                   NaN   \n",
       "\n",
       "                                          description  \\\n",
       "0   On behalf of our client, a well known multinat...   \n",
       "1   We are Argenta Field Solutions, a rapidly expa...   \n",
       "2   Experienced Process Controls Staff Engineer is...   \n",
       "3   If you have a passion for people and love to s...   \n",
       "4   As the successful Senior Network Engineer you ...   \n",
       "5   Energy/financial reporter needed in NYCDriven ...   \n",
       "6   Role Summary:HR Talent Acquisition Lead will b...   \n",
       "7   Red Star Yeast Company LLC (RSYC), a leader in...   \n",
       "8   We are looking for freelance translators (m/f)...   \n",
       "9   We now have a unique product that any physicia...   \n",
       "10  Ruby on Rails Web Engineer (RoR)Now Hiring Rub...   \n",
       "11  Organizes item orders by editing for price, pr...   \n",
       "12  Baesman Group is looking to hire motivated ind...   \n",
       "13  Join a fast growing technology education movem...   \n",
       "14  Title                       : SFDC Consultant ...   \n",
       "15  Roll the Clip is seeking a Senior iOS develope...   \n",
       "16  AimTruancy Solutions is a fast-growing company...   \n",
       "17  This newly created role will be filled by a hi...   \n",
       "18  The Sr. Java Developer is a key team member of...   \n",
       "19  Sounds like what you want to do? Then apply to...   \n",
       "\n",
       "                                         requirements  \n",
       "0   -Working technical knowledge of IT systems and...  \n",
       "1                                              #NAME?  \n",
       "2   At least 10 years of degreed professional expe...  \n",
       "3   Responsibilities - Prospecting, following up a...  \n",
       "4   Essential skills:•Juniper switching/routing/se...  \n",
       "5   The successful candidate should have a bachelo...  \n",
       "6   Experienced females are preferred.Relevant exp...  \n",
       "7   The ideal candidate will be currently enrolled...  \n",
       "8   Translation experiencePreferably also a backgr...  \n",
       "9   Proven History of SalesExperince in Medical Sa...  \n",
       "10                                                NaN  \n",
       "11   Documentation Skills, Data Entry Skills, Tele...  \n",
       "12  Must have knowledge of USPS postal regulations...  \n",
       "13  Requirements:Apps for Good is looking for peop...  \n",
       "14  SFDC Design experience including  experience i...  \n",
       "15  Expertise in Git, Objective-C programming, Coc...  \n",
       "16  Core Competencies and Position Expectations:• ...  \n",
       "17                                                NaN  \n",
       "18  Qualifications:Bachelor’s degree in related fi...  \n",
       "19                                                NaN  "
      ]
     },
     "execution_count": 15,
     "metadata": {},
     "output_type": "execute_result"
    }
   ],
   "source": [
    "data[[\"location\",\"description\",\"requirements\"]].head(20)"
   ]
  },
  {
   "cell_type": "code",
   "execution_count": 16,
   "metadata": {},
   "outputs": [
    {
     "data": {
      "text/html": [
       "<div>\n",
       "<style scoped>\n",
       "    .dataframe tbody tr th:only-of-type {\n",
       "        vertical-align: middle;\n",
       "    }\n",
       "\n",
       "    .dataframe tbody tr th {\n",
       "        vertical-align: top;\n",
       "    }\n",
       "\n",
       "    .dataframe thead th {\n",
       "        text-align: right;\n",
       "    }\n",
       "</style>\n",
       "<table border=\"1\" class=\"dataframe\">\n",
       "  <thead>\n",
       "    <tr style=\"text-align: right;\">\n",
       "      <th></th>\n",
       "      <th>telecommuting</th>\n",
       "      <th>has_company_logo</th>\n",
       "      <th>has_questions</th>\n",
       "      <th>fraudulent</th>\n",
       "    </tr>\n",
       "  </thead>\n",
       "  <tbody>\n",
       "    <tr>\n",
       "      <th>count</th>\n",
       "      <td>8940.000000</td>\n",
       "      <td>8940.000000</td>\n",
       "      <td>8940.000000</td>\n",
       "      <td>8940.000000</td>\n",
       "    </tr>\n",
       "    <tr>\n",
       "      <th>mean</th>\n",
       "      <td>0.043736</td>\n",
       "      <td>0.794407</td>\n",
       "      <td>0.487248</td>\n",
       "      <td>0.051007</td>\n",
       "    </tr>\n",
       "    <tr>\n",
       "      <th>std</th>\n",
       "      <td>0.204519</td>\n",
       "      <td>0.404157</td>\n",
       "      <td>0.499865</td>\n",
       "      <td>0.220024</td>\n",
       "    </tr>\n",
       "    <tr>\n",
       "      <th>min</th>\n",
       "      <td>0.000000</td>\n",
       "      <td>0.000000</td>\n",
       "      <td>0.000000</td>\n",
       "      <td>0.000000</td>\n",
       "    </tr>\n",
       "    <tr>\n",
       "      <th>25%</th>\n",
       "      <td>0.000000</td>\n",
       "      <td>1.000000</td>\n",
       "      <td>0.000000</td>\n",
       "      <td>0.000000</td>\n",
       "    </tr>\n",
       "    <tr>\n",
       "      <th>50%</th>\n",
       "      <td>0.000000</td>\n",
       "      <td>1.000000</td>\n",
       "      <td>0.000000</td>\n",
       "      <td>0.000000</td>\n",
       "    </tr>\n",
       "    <tr>\n",
       "      <th>75%</th>\n",
       "      <td>0.000000</td>\n",
       "      <td>1.000000</td>\n",
       "      <td>1.000000</td>\n",
       "      <td>0.000000</td>\n",
       "    </tr>\n",
       "    <tr>\n",
       "      <th>max</th>\n",
       "      <td>1.000000</td>\n",
       "      <td>1.000000</td>\n",
       "      <td>1.000000</td>\n",
       "      <td>1.000000</td>\n",
       "    </tr>\n",
       "  </tbody>\n",
       "</table>\n",
       "</div>"
      ],
      "text/plain": [
       "       telecommuting  has_company_logo  has_questions   fraudulent\n",
       "count    8940.000000       8940.000000    8940.000000  8940.000000\n",
       "mean        0.043736          0.794407       0.487248     0.051007\n",
       "std         0.204519          0.404157       0.499865     0.220024\n",
       "min         0.000000          0.000000       0.000000     0.000000\n",
       "25%         0.000000          1.000000       0.000000     0.000000\n",
       "50%         0.000000          1.000000       0.000000     0.000000\n",
       "75%         0.000000          1.000000       1.000000     0.000000\n",
       "max         1.000000          1.000000       1.000000     1.000000"
      ]
     },
     "execution_count": 16,
     "metadata": {},
     "output_type": "execute_result"
    }
   ],
   "source": [
    "data.describe()"
   ]
  },
  {
   "cell_type": "code",
   "execution_count": 17,
   "metadata": {},
   "outputs": [],
   "source": [
    "#X=data.drop('fraudulent',axis=1)"
   ]
  },
  {
   "cell_type": "code",
   "execution_count": 18,
   "metadata": {},
   "outputs": [],
   "source": [
    "#X.head()"
   ]
  },
  {
   "cell_type": "code",
   "execution_count": 19,
   "metadata": {},
   "outputs": [],
   "source": [
    "Y=data['fraudulent']"
   ]
  },
  {
   "cell_type": "code",
   "execution_count": 20,
   "metadata": {},
   "outputs": [
    {
     "data": {
      "text/plain": [
       "0    0\n",
       "1    0\n",
       "2    0\n",
       "3    0\n",
       "4    0\n",
       "Name: fraudulent, dtype: int64"
      ]
     },
     "execution_count": 20,
     "metadata": {},
     "output_type": "execute_result"
    }
   ],
   "source": [
    "Y.head()"
   ]
  },
  {
   "cell_type": "code",
   "execution_count": 21,
   "metadata": {},
   "outputs": [],
   "source": [
    "data_withoutNaN=data.dropna()"
   ]
  },
  {
   "cell_type": "code",
   "execution_count": 22,
   "metadata": {},
   "outputs": [
    {
     "data": {
      "text/plain": [
       "title               0\n",
       "location            0\n",
       "description         0\n",
       "requirements        0\n",
       "telecommuting       0\n",
       "has_company_logo    0\n",
       "has_questions       0\n",
       "fraudulent          0\n",
       "dtype: int64"
      ]
     },
     "execution_count": 22,
     "metadata": {},
     "output_type": "execute_result"
    }
   ],
   "source": [
    "data_withoutNaN.isnull().sum()"
   ]
  },
  {
   "cell_type": "code",
   "execution_count": null,
   "metadata": {},
   "outputs": [],
   "source": []
  },
  {
   "cell_type": "code",
   "execution_count": 23,
   "metadata": {},
   "outputs": [
    {
     "data": {
      "text/html": [
       "<div>\n",
       "<style scoped>\n",
       "    .dataframe tbody tr th:only-of-type {\n",
       "        vertical-align: middle;\n",
       "    }\n",
       "\n",
       "    .dataframe tbody tr th {\n",
       "        vertical-align: top;\n",
       "    }\n",
       "\n",
       "    .dataframe thead th {\n",
       "        text-align: right;\n",
       "    }\n",
       "</style>\n",
       "<table border=\"1\" class=\"dataframe\">\n",
       "  <thead>\n",
       "    <tr style=\"text-align: right;\">\n",
       "      <th></th>\n",
       "      <th>title</th>\n",
       "      <th>location</th>\n",
       "      <th>description</th>\n",
       "      <th>requirements</th>\n",
       "      <th>telecommuting</th>\n",
       "      <th>has_company_logo</th>\n",
       "      <th>has_questions</th>\n",
       "      <th>fraudulent</th>\n",
       "    </tr>\n",
       "  </thead>\n",
       "  <tbody>\n",
       "    <tr>\n",
       "      <th>0</th>\n",
       "      <td>Architect (Middleware - MQ) - Kuwait</td>\n",
       "      <td>KW, KU,</td>\n",
       "      <td>On behalf of our client, a well known multinat...</td>\n",
       "      <td>-Working technical knowledge of IT systems and...</td>\n",
       "      <td>0</td>\n",
       "      <td>1</td>\n",
       "      <td>0</td>\n",
       "      <td>0</td>\n",
       "    </tr>\n",
       "    <tr>\n",
       "      <th>1</th>\n",
       "      <td>Interviewing Now for Sales Rep Positions -- wi...</td>\n",
       "      <td>US, TX, Corpus Christi</td>\n",
       "      <td>We are Argenta Field Solutions, a rapidly expa...</td>\n",
       "      <td>#NAME?</td>\n",
       "      <td>0</td>\n",
       "      <td>1</td>\n",
       "      <td>0</td>\n",
       "      <td>0</td>\n",
       "    </tr>\n",
       "    <tr>\n",
       "      <th>2</th>\n",
       "      <td>Process Controls Staff Engineer - Foxboro I/A ...</td>\n",
       "      <td>US, TX, USA Southwest</td>\n",
       "      <td>Experienced Process Controls Staff Engineer is...</td>\n",
       "      <td>At least 10 years of degreed professional expe...</td>\n",
       "      <td>0</td>\n",
       "      <td>0</td>\n",
       "      <td>0</td>\n",
       "      <td>0</td>\n",
       "    </tr>\n",
       "    <tr>\n",
       "      <th>3</th>\n",
       "      <td>Experienced Telemarketer Wanted - Digital Solu...</td>\n",
       "      <td>AU, NSW,</td>\n",
       "      <td>If you have a passion for people and love to s...</td>\n",
       "      <td>Responsibilities - Prospecting, following up a...</td>\n",
       "      <td>0</td>\n",
       "      <td>1</td>\n",
       "      <td>0</td>\n",
       "      <td>0</td>\n",
       "    </tr>\n",
       "    <tr>\n",
       "      <th>4</th>\n",
       "      <td>Senior Network Engineer</td>\n",
       "      <td>GB, ENG, London</td>\n",
       "      <td>As the successful Senior Network Engineer you ...</td>\n",
       "      <td>Essential skills:•Juniper switching/routing/se...</td>\n",
       "      <td>0</td>\n",
       "      <td>1</td>\n",
       "      <td>0</td>\n",
       "      <td>0</td>\n",
       "    </tr>\n",
       "  </tbody>\n",
       "</table>\n",
       "</div>"
      ],
      "text/plain": [
       "                                               title                location  \\\n",
       "0               Architect (Middleware - MQ) - Kuwait                KW, KU,    \n",
       "1  Interviewing Now for Sales Rep Positions -- wi...  US, TX, Corpus Christi   \n",
       "2  Process Controls Staff Engineer - Foxboro I/A ...   US, TX, USA Southwest   \n",
       "3  Experienced Telemarketer Wanted - Digital Solu...               AU, NSW,    \n",
       "4                            Senior Network Engineer         GB, ENG, London   \n",
       "\n",
       "                                         description  \\\n",
       "0  On behalf of our client, a well known multinat...   \n",
       "1  We are Argenta Field Solutions, a rapidly expa...   \n",
       "2  Experienced Process Controls Staff Engineer is...   \n",
       "3  If you have a passion for people and love to s...   \n",
       "4  As the successful Senior Network Engineer you ...   \n",
       "\n",
       "                                        requirements  telecommuting  \\\n",
       "0  -Working technical knowledge of IT systems and...              0   \n",
       "1                                             #NAME?              0   \n",
       "2  At least 10 years of degreed professional expe...              0   \n",
       "3  Responsibilities - Prospecting, following up a...              0   \n",
       "4  Essential skills:•Juniper switching/routing/se...              0   \n",
       "\n",
       "   has_company_logo  has_questions  fraudulent  \n",
       "0                 1              0           0  \n",
       "1                 1              0           0  \n",
       "2                 0              0           0  \n",
       "3                 1              0           0  \n",
       "4                 1              0           0  "
      ]
     },
     "execution_count": 23,
     "metadata": {},
     "output_type": "execute_result"
    }
   ],
   "source": [
    "data_withoutNaN.head(5)"
   ]
  },
  {
   "cell_type": "code",
   "execution_count": 24,
   "metadata": {},
   "outputs": [],
   "source": [
    "data_withoutNaN.reset_index(inplace=True)"
   ]
  },
  {
   "cell_type": "code",
   "execution_count": 25,
   "metadata": {},
   "outputs": [
    {
     "data": {
      "text/html": [
       "<div>\n",
       "<style scoped>\n",
       "    .dataframe tbody tr th:only-of-type {\n",
       "        vertical-align: middle;\n",
       "    }\n",
       "\n",
       "    .dataframe tbody tr th {\n",
       "        vertical-align: top;\n",
       "    }\n",
       "\n",
       "    .dataframe thead th {\n",
       "        text-align: right;\n",
       "    }\n",
       "</style>\n",
       "<table border=\"1\" class=\"dataframe\">\n",
       "  <thead>\n",
       "    <tr style=\"text-align: right;\">\n",
       "      <th></th>\n",
       "      <th>index</th>\n",
       "      <th>title</th>\n",
       "      <th>location</th>\n",
       "      <th>description</th>\n",
       "      <th>requirements</th>\n",
       "      <th>telecommuting</th>\n",
       "      <th>has_company_logo</th>\n",
       "      <th>has_questions</th>\n",
       "      <th>fraudulent</th>\n",
       "    </tr>\n",
       "  </thead>\n",
       "  <tbody>\n",
       "    <tr>\n",
       "      <th>0</th>\n",
       "      <td>0</td>\n",
       "      <td>Architect (Middleware - MQ) - Kuwait</td>\n",
       "      <td>KW, KU,</td>\n",
       "      <td>On behalf of our client, a well known multinat...</td>\n",
       "      <td>-Working technical knowledge of IT systems and...</td>\n",
       "      <td>0</td>\n",
       "      <td>1</td>\n",
       "      <td>0</td>\n",
       "      <td>0</td>\n",
       "    </tr>\n",
       "    <tr>\n",
       "      <th>1</th>\n",
       "      <td>1</td>\n",
       "      <td>Interviewing Now for Sales Rep Positions -- wi...</td>\n",
       "      <td>US, TX, Corpus Christi</td>\n",
       "      <td>We are Argenta Field Solutions, a rapidly expa...</td>\n",
       "      <td>#NAME?</td>\n",
       "      <td>0</td>\n",
       "      <td>1</td>\n",
       "      <td>0</td>\n",
       "      <td>0</td>\n",
       "    </tr>\n",
       "  </tbody>\n",
       "</table>\n",
       "</div>"
      ],
      "text/plain": [
       "   index                                              title  \\\n",
       "0      0               Architect (Middleware - MQ) - Kuwait   \n",
       "1      1  Interviewing Now for Sales Rep Positions -- wi...   \n",
       "\n",
       "                 location                                        description  \\\n",
       "0                KW, KU,   On behalf of our client, a well known multinat...   \n",
       "1  US, TX, Corpus Christi  We are Argenta Field Solutions, a rapidly expa...   \n",
       "\n",
       "                                        requirements  telecommuting  \\\n",
       "0  -Working technical knowledge of IT systems and...              0   \n",
       "1                                             #NAME?              0   \n",
       "\n",
       "   has_company_logo  has_questions  fraudulent  \n",
       "0                 1              0           0  \n",
       "1                 1              0           0  "
      ]
     },
     "execution_count": 25,
     "metadata": {},
     "output_type": "execute_result"
    }
   ],
   "source": [
    "data_withoutNaN.head(2)"
   ]
  },
  {
   "cell_type": "code",
   "execution_count": 26,
   "metadata": {},
   "outputs": [],
   "source": [
    "data['text']= data['title']+' '+data['location']+' '+data['description']+' '+data['requirements']\n",
    "#data=data.drop('title',axis=1)\n",
    "#data=data.drop('description',axis=1)\n",
    "#data=data.drop('requirements',axis=1)"
   ]
  },
  {
   "cell_type": "code",
   "execution_count": 27,
   "metadata": {},
   "outputs": [
    {
     "data": {
      "text/html": [
       "<div>\n",
       "<style scoped>\n",
       "    .dataframe tbody tr th:only-of-type {\n",
       "        vertical-align: middle;\n",
       "    }\n",
       "\n",
       "    .dataframe tbody tr th {\n",
       "        vertical-align: top;\n",
       "    }\n",
       "\n",
       "    .dataframe thead th {\n",
       "        text-align: right;\n",
       "    }\n",
       "</style>\n",
       "<table border=\"1\" class=\"dataframe\">\n",
       "  <thead>\n",
       "    <tr style=\"text-align: right;\">\n",
       "      <th></th>\n",
       "      <th>title</th>\n",
       "      <th>location</th>\n",
       "      <th>description</th>\n",
       "      <th>requirements</th>\n",
       "      <th>telecommuting</th>\n",
       "      <th>has_company_logo</th>\n",
       "      <th>has_questions</th>\n",
       "      <th>fraudulent</th>\n",
       "      <th>text</th>\n",
       "    </tr>\n",
       "  </thead>\n",
       "  <tbody>\n",
       "    <tr>\n",
       "      <th>0</th>\n",
       "      <td>Architect (Middleware - MQ) - Kuwait</td>\n",
       "      <td>KW, KU,</td>\n",
       "      <td>On behalf of our client, a well known multinat...</td>\n",
       "      <td>-Working technical knowledge of IT systems and...</td>\n",
       "      <td>0</td>\n",
       "      <td>1</td>\n",
       "      <td>0</td>\n",
       "      <td>0</td>\n",
       "      <td>Architect (Middleware - MQ) - Kuwait KW, KU,  ...</td>\n",
       "    </tr>\n",
       "    <tr>\n",
       "      <th>1</th>\n",
       "      <td>Interviewing Now for Sales Rep Positions -- wi...</td>\n",
       "      <td>US, TX, Corpus Christi</td>\n",
       "      <td>We are Argenta Field Solutions, a rapidly expa...</td>\n",
       "      <td>#NAME?</td>\n",
       "      <td>0</td>\n",
       "      <td>1</td>\n",
       "      <td>0</td>\n",
       "      <td>0</td>\n",
       "      <td>Interviewing Now for Sales Rep Positions -- wi...</td>\n",
       "    </tr>\n",
       "    <tr>\n",
       "      <th>2</th>\n",
       "      <td>Process Controls Staff Engineer - Foxboro I/A ...</td>\n",
       "      <td>US, TX, USA Southwest</td>\n",
       "      <td>Experienced Process Controls Staff Engineer is...</td>\n",
       "      <td>At least 10 years of degreed professional expe...</td>\n",
       "      <td>0</td>\n",
       "      <td>0</td>\n",
       "      <td>0</td>\n",
       "      <td>0</td>\n",
       "      <td>Process Controls Staff Engineer - Foxboro I/A ...</td>\n",
       "    </tr>\n",
       "    <tr>\n",
       "      <th>3</th>\n",
       "      <td>Experienced Telemarketer Wanted - Digital Solu...</td>\n",
       "      <td>AU, NSW,</td>\n",
       "      <td>If you have a passion for people and love to s...</td>\n",
       "      <td>Responsibilities - Prospecting, following up a...</td>\n",
       "      <td>0</td>\n",
       "      <td>1</td>\n",
       "      <td>0</td>\n",
       "      <td>0</td>\n",
       "      <td>Experienced Telemarketer Wanted - Digital Solu...</td>\n",
       "    </tr>\n",
       "    <tr>\n",
       "      <th>4</th>\n",
       "      <td>Senior Network Engineer</td>\n",
       "      <td>GB, ENG, London</td>\n",
       "      <td>As the successful Senior Network Engineer you ...</td>\n",
       "      <td>Essential skills:•Juniper switching/routing/se...</td>\n",
       "      <td>0</td>\n",
       "      <td>1</td>\n",
       "      <td>0</td>\n",
       "      <td>0</td>\n",
       "      <td>Senior Network Engineer GB, ENG, London As the...</td>\n",
       "    </tr>\n",
       "  </tbody>\n",
       "</table>\n",
       "</div>"
      ],
      "text/plain": [
       "                                               title                location  \\\n",
       "0               Architect (Middleware - MQ) - Kuwait                KW, KU,    \n",
       "1  Interviewing Now for Sales Rep Positions -- wi...  US, TX, Corpus Christi   \n",
       "2  Process Controls Staff Engineer - Foxboro I/A ...   US, TX, USA Southwest   \n",
       "3  Experienced Telemarketer Wanted - Digital Solu...               AU, NSW,    \n",
       "4                            Senior Network Engineer         GB, ENG, London   \n",
       "\n",
       "                                         description  \\\n",
       "0  On behalf of our client, a well known multinat...   \n",
       "1  We are Argenta Field Solutions, a rapidly expa...   \n",
       "2  Experienced Process Controls Staff Engineer is...   \n",
       "3  If you have a passion for people and love to s...   \n",
       "4  As the successful Senior Network Engineer you ...   \n",
       "\n",
       "                                        requirements  telecommuting  \\\n",
       "0  -Working technical knowledge of IT systems and...              0   \n",
       "1                                             #NAME?              0   \n",
       "2  At least 10 years of degreed professional expe...              0   \n",
       "3  Responsibilities - Prospecting, following up a...              0   \n",
       "4  Essential skills:•Juniper switching/routing/se...              0   \n",
       "\n",
       "   has_company_logo  has_questions  fraudulent  \\\n",
       "0                 1              0           0   \n",
       "1                 1              0           0   \n",
       "2                 0              0           0   \n",
       "3                 1              0           0   \n",
       "4                 1              0           0   \n",
       "\n",
       "                                                text  \n",
       "0  Architect (Middleware - MQ) - Kuwait KW, KU,  ...  \n",
       "1  Interviewing Now for Sales Rep Positions -- wi...  \n",
       "2  Process Controls Staff Engineer - Foxboro I/A ...  \n",
       "3  Experienced Telemarketer Wanted - Digital Solu...  \n",
       "4  Senior Network Engineer GB, ENG, London As the...  "
      ]
     },
     "execution_count": 27,
     "metadata": {},
     "output_type": "execute_result"
    }
   ],
   "source": [
    "data.head()"
   ]
  },
  {
   "cell_type": "code",
   "execution_count": 28,
   "metadata": {},
   "outputs": [],
   "source": [
    "data=data.drop(['title','description','requirements','location'],axis=1)"
   ]
  },
  {
   "cell_type": "code",
   "execution_count": 29,
   "metadata": {},
   "outputs": [
    {
     "data": {
      "text/html": [
       "<div>\n",
       "<style scoped>\n",
       "    .dataframe tbody tr th:only-of-type {\n",
       "        vertical-align: middle;\n",
       "    }\n",
       "\n",
       "    .dataframe tbody tr th {\n",
       "        vertical-align: top;\n",
       "    }\n",
       "\n",
       "    .dataframe thead th {\n",
       "        text-align: right;\n",
       "    }\n",
       "</style>\n",
       "<table border=\"1\" class=\"dataframe\">\n",
       "  <thead>\n",
       "    <tr style=\"text-align: right;\">\n",
       "      <th></th>\n",
       "      <th>telecommuting</th>\n",
       "      <th>has_company_logo</th>\n",
       "      <th>has_questions</th>\n",
       "      <th>fraudulent</th>\n",
       "      <th>text</th>\n",
       "    </tr>\n",
       "  </thead>\n",
       "  <tbody>\n",
       "    <tr>\n",
       "      <th>0</th>\n",
       "      <td>0</td>\n",
       "      <td>1</td>\n",
       "      <td>0</td>\n",
       "      <td>0</td>\n",
       "      <td>Architect (Middleware - MQ) - Kuwait KW, KU,  ...</td>\n",
       "    </tr>\n",
       "    <tr>\n",
       "      <th>1</th>\n",
       "      <td>0</td>\n",
       "      <td>1</td>\n",
       "      <td>0</td>\n",
       "      <td>0</td>\n",
       "      <td>Interviewing Now for Sales Rep Positions -- wi...</td>\n",
       "    </tr>\n",
       "    <tr>\n",
       "      <th>2</th>\n",
       "      <td>0</td>\n",
       "      <td>0</td>\n",
       "      <td>0</td>\n",
       "      <td>0</td>\n",
       "      <td>Process Controls Staff Engineer - Foxboro I/A ...</td>\n",
       "    </tr>\n",
       "    <tr>\n",
       "      <th>3</th>\n",
       "      <td>0</td>\n",
       "      <td>1</td>\n",
       "      <td>0</td>\n",
       "      <td>0</td>\n",
       "      <td>Experienced Telemarketer Wanted - Digital Solu...</td>\n",
       "    </tr>\n",
       "    <tr>\n",
       "      <th>4</th>\n",
       "      <td>0</td>\n",
       "      <td>1</td>\n",
       "      <td>0</td>\n",
       "      <td>0</td>\n",
       "      <td>Senior Network Engineer GB, ENG, London As the...</td>\n",
       "    </tr>\n",
       "  </tbody>\n",
       "</table>\n",
       "</div>"
      ],
      "text/plain": [
       "   telecommuting  has_company_logo  has_questions  fraudulent  \\\n",
       "0              0                 1              0           0   \n",
       "1              0                 1              0           0   \n",
       "2              0                 0              0           0   \n",
       "3              0                 1              0           0   \n",
       "4              0                 1              0           0   \n",
       "\n",
       "                                                text  \n",
       "0  Architect (Middleware - MQ) - Kuwait KW, KU,  ...  \n",
       "1  Interviewing Now for Sales Rep Positions -- wi...  \n",
       "2  Process Controls Staff Engineer - Foxboro I/A ...  \n",
       "3  Experienced Telemarketer Wanted - Digital Solu...  \n",
       "4  Senior Network Engineer GB, ENG, London As the...  "
      ]
     },
     "execution_count": 29,
     "metadata": {},
     "output_type": "execute_result"
    }
   ],
   "source": [
    "data.head()"
   ]
  },
  {
   "cell_type": "code",
   "execution_count": 30,
   "metadata": {},
   "outputs": [
    {
     "data": {
      "text/html": [
       "<div>\n",
       "<style scoped>\n",
       "    .dataframe tbody tr th:only-of-type {\n",
       "        vertical-align: middle;\n",
       "    }\n",
       "\n",
       "    .dataframe tbody tr th {\n",
       "        vertical-align: top;\n",
       "    }\n",
       "\n",
       "    .dataframe thead th {\n",
       "        text-align: right;\n",
       "    }\n",
       "</style>\n",
       "<table border=\"1\" class=\"dataframe\">\n",
       "  <thead>\n",
       "    <tr style=\"text-align: right;\">\n",
       "      <th></th>\n",
       "      <th>telecommuting</th>\n",
       "      <th>has_company_logo</th>\n",
       "      <th>fraudulent</th>\n",
       "      <th>text</th>\n",
       "    </tr>\n",
       "  </thead>\n",
       "  <tbody>\n",
       "    <tr>\n",
       "      <th>0</th>\n",
       "      <td>0</td>\n",
       "      <td>1</td>\n",
       "      <td>0</td>\n",
       "      <td>Architect (Middleware - MQ) - Kuwait KW, KU,  ...</td>\n",
       "    </tr>\n",
       "    <tr>\n",
       "      <th>1</th>\n",
       "      <td>0</td>\n",
       "      <td>1</td>\n",
       "      <td>0</td>\n",
       "      <td>Interviewing Now for Sales Rep Positions -- wi...</td>\n",
       "    </tr>\n",
       "    <tr>\n",
       "      <th>2</th>\n",
       "      <td>0</td>\n",
       "      <td>0</td>\n",
       "      <td>0</td>\n",
       "      <td>Process Controls Staff Engineer - Foxboro I/A ...</td>\n",
       "    </tr>\n",
       "    <tr>\n",
       "      <th>3</th>\n",
       "      <td>0</td>\n",
       "      <td>1</td>\n",
       "      <td>0</td>\n",
       "      <td>Experienced Telemarketer Wanted - Digital Solu...</td>\n",
       "    </tr>\n",
       "    <tr>\n",
       "      <th>4</th>\n",
       "      <td>0</td>\n",
       "      <td>1</td>\n",
       "      <td>0</td>\n",
       "      <td>Senior Network Engineer GB, ENG, London As the...</td>\n",
       "    </tr>\n",
       "  </tbody>\n",
       "</table>\n",
       "</div>"
      ],
      "text/plain": [
       "   telecommuting  has_company_logo  fraudulent  \\\n",
       "0              0                 1           0   \n",
       "1              0                 1           0   \n",
       "2              0                 0           0   \n",
       "3              0                 1           0   \n",
       "4              0                 1           0   \n",
       "\n",
       "                                                text  \n",
       "0  Architect (Middleware - MQ) - Kuwait KW, KU,  ...  \n",
       "1  Interviewing Now for Sales Rep Positions -- wi...  \n",
       "2  Process Controls Staff Engineer - Foxboro I/A ...  \n",
       "3  Experienced Telemarketer Wanted - Digital Solu...  \n",
       "4  Senior Network Engineer GB, ENG, London As the...  "
      ]
     },
     "execution_count": 30,
     "metadata": {},
     "output_type": "execute_result"
    }
   ],
   "source": [
    "#data.head()\n",
    "data=data.drop('has_questions',axis=1)\n",
    "data.head()"
   ]
  },
  {
   "cell_type": "code",
   "execution_count": 31,
   "metadata": {},
   "outputs": [
    {
     "data": {
      "text/html": [
       "<div>\n",
       "<style scoped>\n",
       "    .dataframe tbody tr th:only-of-type {\n",
       "        vertical-align: middle;\n",
       "    }\n",
       "\n",
       "    .dataframe tbody tr th {\n",
       "        vertical-align: top;\n",
       "    }\n",
       "\n",
       "    .dataframe thead th {\n",
       "        text-align: right;\n",
       "    }\n",
       "</style>\n",
       "<table border=\"1\" class=\"dataframe\">\n",
       "  <thead>\n",
       "    <tr style=\"text-align: right;\">\n",
       "      <th></th>\n",
       "      <th>telecommuting</th>\n",
       "      <th>has_company_logo</th>\n",
       "      <th>fraudulent</th>\n",
       "      <th>text</th>\n",
       "    </tr>\n",
       "  </thead>\n",
       "  <tbody>\n",
       "    <tr>\n",
       "      <th>0</th>\n",
       "      <td>0</td>\n",
       "      <td>false</td>\n",
       "      <td>real</td>\n",
       "      <td>Architect (Middleware - MQ) - Kuwait KW, KU,  ...</td>\n",
       "    </tr>\n",
       "    <tr>\n",
       "      <th>1</th>\n",
       "      <td>0</td>\n",
       "      <td>false</td>\n",
       "      <td>real</td>\n",
       "      <td>Interviewing Now for Sales Rep Positions -- wi...</td>\n",
       "    </tr>\n",
       "  </tbody>\n",
       "</table>\n",
       "</div>"
      ],
      "text/plain": [
       "   telecommuting has_company_logo fraudulent  \\\n",
       "0              0            false       real   \n",
       "1              0            false       real   \n",
       "\n",
       "                                                text  \n",
       "0  Architect (Middleware - MQ) - Kuwait KW, KU,  ...  \n",
       "1  Interviewing Now for Sales Rep Positions -- wi...  "
      ]
     },
     "execution_count": 31,
     "metadata": {},
     "output_type": "execute_result"
    }
   ],
   "source": [
    "data['has_company_logo'].replace({1:\"false\",0:\"true\"},inplace=True)\n",
    "data.head(2)\n",
    "data['fraudulent'].replace({1:\"fake\",0:\"real\"},inplace=True)\n",
    "data.head(2)"
   ]
  },
  {
   "cell_type": "code",
   "execution_count": null,
   "metadata": {},
   "outputs": [],
   "source": [
    "import gensim\n",
    "from gensim.utils import tokenize"
   ]
  },
  {
   "cell_type": "code",
   "execution_count": null,
   "metadata": {},
   "outputs": [],
   "source": [
    "#tokenize(data['text'])"
   ]
  },
  {
   "cell_type": "code",
   "execution_count": null,
   "metadata": {},
   "outputs": [],
   "source": [
    "data.fraudulent.value_counts()"
   ]
  },
  {
   "cell_type": "code",
   "execution_count": null,
   "metadata": {},
   "outputs": [],
   "source": [
    "data['text']=data['text']+' '+data['has_company_logo']\n",
    "data.head(3)"
   ]
  },
  {
   "cell_type": "code",
   "execution_count": null,
   "metadata": {},
   "outputs": [],
   "source": [
    "data=data.drop('has_company_logo',axis=1)\n",
    "data.head(3)"
   ]
  },
  {
   "cell_type": "code",
   "execution_count": null,
   "metadata": {},
   "outputs": [],
   "source": [
    "import sklearn\n",
    "from sklearn.feature_extraction.text import TfidfVectorizer\n",
    "from sklearn.model_selection import train_test_split"
   ]
  },
  {
   "cell_type": "code",
   "execution_count": null,
   "metadata": {},
   "outputs": [],
   "source": [
    "x_train,x_test,y_train,y_test=train_test_split(data['text'],data['fraudulent'],test_size=0.3,random_state=7,shuffle=True)\n",
    "#print(x_train)"
   ]
  },
  {
   "cell_type": "code",
   "execution_count": null,
   "metadata": {},
   "outputs": [],
   "source": [
    "tfidf=TfidfVectorizer(stop_words='english',max_df=0.75)\n",
    "print(tfidf)"
   ]
  },
  {
   "cell_type": "code",
   "execution_count": null,
   "metadata": {},
   "outputs": [],
   "source": [
    "#vector_for_train=tfidf.fit_transform(x_train.values.encode(utf-8))\n",
    "#this expects a unicode string"
   ]
  },
  {
   "cell_type": "code",
   "execution_count": null,
   "metadata": {},
   "outputs": [],
   "source": [
    "vector_for_train=tfidf.fit_transform(x_train.astype('U'))\n",
    "#print(vector_for_train)\n",
    "vector_for_testing=tfidf.transform(x_test.astype('U'))\n",
    "print(vector_for_testing)"
   ]
  },
  {
   "cell_type": "code",
   "execution_count": null,
   "metadata": {},
   "outputs": [],
   "source": [
    "plt.imshow(vector_for_testing, cmap=\"YlGnBu\")\n",
    "plt.colorbar()\n",
    "plt.xticks(range(len(vector_for_testing)),vector_for_testing.columns, rotation=20)\n",
    "plt.yticks(range(len(vector_for_testing)),vector_for_testing.index)\n",
    "plt.show("
   ]
  },
  {
   "cell_type": "code",
   "execution_count": null,
   "metadata": {},
   "outputs": [],
   "source": [
    "from sklearn.linear_model import PassiveAggressiveClassifier\n",
    "from sklearn.tree import DecisionTreeClassifier\n",
    "from sklearn import metrics\n",
    "predictions = []\n",
    "pred_proba = []\n",
    "tree=DecisionTreeClassifier(max_depth = 30) \n",
    "tree.fit(vector_for_train, y_train) \n",
    "predictions = tree.predict(vector_for_testing)\n",
    "pred_proba = tree.predict_proba(vector_for_testing)\n",
    "tree.score(vector_for_testing,y_test)\n",
    "print(metrics.classification_report(y_test, predictions))"
   ]
  },
  {
   "cell_type": "code",
   "execution_count": null,
   "metadata": {},
   "outputs": [],
   "source": [
    "classifier_model = DecisionTreeClassifier()"
   ]
  },
  {
   "cell_type": "code",
   "execution_count": null,
   "metadata": {},
   "outputs": [],
   "source": [
    "classifier_model.fit(vector_for_train,y_train)"
   ]
  },
  {
   "cell_type": "code",
   "execution_count": null,
   "metadata": {},
   "outputs": [],
   "source": [
    "pred_proba=classifier_model.predict(vector_for_testing)"
   ]
  },
  {
   "cell_type": "code",
   "execution_count": null,
   "metadata": {},
   "outputs": [],
   "source": [
    "print(pred_proba)"
   ]
  },
  {
   "cell_type": "code",
   "execution_count": null,
   "metadata": {},
   "outputs": [],
   "source": [
    "from sklearn.metrics import classification_report, accuracy_score\n",
    "print(f\"Test Set Accuracy : {accuracy_score(y_test, pred_proba) * 100} %\\n\\n\")"
   ]
  },
  {
   "cell_type": "code",
   "execution_count": null,
   "metadata": {},
   "outputs": [],
   "source": []
  }
 ],
 "metadata": {
  "kernelspec": {
   "display_name": "Python 3",
   "language": "python",
   "name": "python3"
  },
  "language_info": {
   "codemirror_mode": {
    "name": "ipython",
    "version": 3
   },
   "file_extension": ".py",
   "mimetype": "text/x-python",
   "name": "python",
   "nbconvert_exporter": "python",
   "pygments_lexer": "ipython3",
   "version": "3.8.5"
  }
 },
 "nbformat": 4,
 "nbformat_minor": 4
}
