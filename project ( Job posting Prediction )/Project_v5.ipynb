{
 "cells": [
  {
   "cell_type": "code",
   "execution_count": 1,
   "metadata": {},
   "outputs": [],
   "source": [
    "import pandas as pd\n",
    "import numpy as np"
   ]
  },
  {
   "cell_type": "code",
   "execution_count": 2,
   "metadata": {},
   "outputs": [
    {
     "name": "stdout",
     "output_type": "stream",
     "text": [
      "shape\n"
     ]
    },
    {
     "data": {
      "text/plain": [
       "(8940, 8)"
      ]
     },
     "execution_count": 2,
     "metadata": {},
     "output_type": "execute_result"
    }
   ],
   "source": [
    "data=pd.read_csv(\"../data/job_train.csv\")\n",
    "print(\"shape\")\n",
    "data.shape\n"
   ]
  },
  {
   "cell_type": "code",
   "execution_count": 3,
   "metadata": {},
   "outputs": [
    {
     "data": {
      "text/html": [
       "<div>\n",
       "<style scoped>\n",
       "    .dataframe tbody tr th:only-of-type {\n",
       "        vertical-align: middle;\n",
       "    }\n",
       "\n",
       "    .dataframe tbody tr th {\n",
       "        vertical-align: top;\n",
       "    }\n",
       "\n",
       "    .dataframe thead th {\n",
       "        text-align: right;\n",
       "    }\n",
       "</style>\n",
       "<table border=\"1\" class=\"dataframe\">\n",
       "  <thead>\n",
       "    <tr style=\"text-align: right;\">\n",
       "      <th></th>\n",
       "      <th>title</th>\n",
       "      <th>location</th>\n",
       "      <th>description</th>\n",
       "      <th>requirements</th>\n",
       "      <th>telecommuting</th>\n",
       "      <th>has_company_logo</th>\n",
       "      <th>has_questions</th>\n",
       "      <th>fraudulent</th>\n",
       "    </tr>\n",
       "  </thead>\n",
       "  <tbody>\n",
       "    <tr>\n",
       "      <th>0</th>\n",
       "      <td>Architect (Middleware - MQ) - Kuwait</td>\n",
       "      <td>KW, KU,</td>\n",
       "      <td>On behalf of our client, a well known multinat...</td>\n",
       "      <td>-Working technical knowledge of IT systems and...</td>\n",
       "      <td>0</td>\n",
       "      <td>1</td>\n",
       "      <td>0</td>\n",
       "      <td>0</td>\n",
       "    </tr>\n",
       "    <tr>\n",
       "      <th>1</th>\n",
       "      <td>Interviewing Now for Sales Rep Positions -- wi...</td>\n",
       "      <td>US, TX, Corpus Christi</td>\n",
       "      <td>We are Argenta Field Solutions, a rapidly expa...</td>\n",
       "      <td>#NAME?</td>\n",
       "      <td>0</td>\n",
       "      <td>1</td>\n",
       "      <td>0</td>\n",
       "      <td>0</td>\n",
       "    </tr>\n",
       "    <tr>\n",
       "      <th>2</th>\n",
       "      <td>Process Controls Staff Engineer - Foxboro I/A ...</td>\n",
       "      <td>US, TX, USA Southwest</td>\n",
       "      <td>Experienced Process Controls Staff Engineer is...</td>\n",
       "      <td>At least 10 years of degreed professional expe...</td>\n",
       "      <td>0</td>\n",
       "      <td>0</td>\n",
       "      <td>0</td>\n",
       "      <td>0</td>\n",
       "    </tr>\n",
       "  </tbody>\n",
       "</table>\n",
       "</div>"
      ],
      "text/plain": [
       "                                               title                location  \\\n",
       "0               Architect (Middleware - MQ) - Kuwait                KW, KU,    \n",
       "1  Interviewing Now for Sales Rep Positions -- wi...  US, TX, Corpus Christi   \n",
       "2  Process Controls Staff Engineer - Foxboro I/A ...   US, TX, USA Southwest   \n",
       "\n",
       "                                         description  \\\n",
       "0  On behalf of our client, a well known multinat...   \n",
       "1  We are Argenta Field Solutions, a rapidly expa...   \n",
       "2  Experienced Process Controls Staff Engineer is...   \n",
       "\n",
       "                                        requirements  telecommuting  \\\n",
       "0  -Working technical knowledge of IT systems and...              0   \n",
       "1                                             #NAME?              0   \n",
       "2  At least 10 years of degreed professional expe...              0   \n",
       "\n",
       "   has_company_logo  has_questions  fraudulent  \n",
       "0                 1              0           0  \n",
       "1                 1              0           0  \n",
       "2                 0              0           0  "
      ]
     },
     "execution_count": 3,
     "metadata": {},
     "output_type": "execute_result"
    }
   ],
   "source": [
    "data.head(3)"
   ]
  },
  {
   "cell_type": "code",
   "execution_count": 4,
   "metadata": {},
   "outputs": [
    {
     "name": "stdout",
     "output_type": "stream",
     "text": [
      "<class 'pandas.core.frame.DataFrame'>\n",
      "RangeIndex: 8940 entries, 0 to 8939\n",
      "Data columns (total 8 columns):\n",
      " #   Column            Non-Null Count  Dtype \n",
      "---  ------            --------------  ----- \n",
      " 0   title             8940 non-null   object\n",
      " 1   location          8783 non-null   object\n",
      " 2   description       8939 non-null   object\n",
      " 3   requirements      7614 non-null   object\n",
      " 4   telecommuting     8940 non-null   int64 \n",
      " 5   has_company_logo  8940 non-null   int64 \n",
      " 6   has_questions     8940 non-null   int64 \n",
      " 7   fraudulent        8940 non-null   int64 \n",
      "dtypes: int64(4), object(4)\n",
      "memory usage: 558.9+ KB\n"
     ]
    }
   ],
   "source": [
    "data.info()"
   ]
  },
  {
   "cell_type": "code",
   "execution_count": 5,
   "metadata": {},
   "outputs": [
    {
     "data": {
      "text/plain": [
       "title                  0\n",
       "location             157\n",
       "description            1\n",
       "requirements        1326\n",
       "telecommuting          0\n",
       "has_company_logo       0\n",
       "has_questions          0\n",
       "fraudulent             0\n",
       "dtype: int64"
      ]
     },
     "execution_count": 5,
     "metadata": {},
     "output_type": "execute_result"
    }
   ],
   "source": [
    "data.isnull().sum()"
   ]
  },
  {
   "cell_type": "code",
   "execution_count": 6,
   "metadata": {},
   "outputs": [
    {
     "data": {
      "text/html": [
       "<div>\n",
       "<style scoped>\n",
       "    .dataframe tbody tr th:only-of-type {\n",
       "        vertical-align: middle;\n",
       "    }\n",
       "\n",
       "    .dataframe tbody tr th {\n",
       "        vertical-align: top;\n",
       "    }\n",
       "\n",
       "    .dataframe thead th {\n",
       "        text-align: right;\n",
       "    }\n",
       "</style>\n",
       "<table border=\"1\" class=\"dataframe\">\n",
       "  <thead>\n",
       "    <tr style=\"text-align: right;\">\n",
       "      <th></th>\n",
       "      <th>location</th>\n",
       "      <th>description</th>\n",
       "      <th>requirements</th>\n",
       "    </tr>\n",
       "  </thead>\n",
       "  <tbody>\n",
       "    <tr>\n",
       "      <th>0</th>\n",
       "      <td>KW, KU,</td>\n",
       "      <td>On behalf of our client, a well known multinat...</td>\n",
       "      <td>-Working technical knowledge of IT systems and...</td>\n",
       "    </tr>\n",
       "    <tr>\n",
       "      <th>1</th>\n",
       "      <td>US, TX, Corpus Christi</td>\n",
       "      <td>We are Argenta Field Solutions, a rapidly expa...</td>\n",
       "      <td>#NAME?</td>\n",
       "    </tr>\n",
       "    <tr>\n",
       "      <th>2</th>\n",
       "      <td>US, TX, USA Southwest</td>\n",
       "      <td>Experienced Process Controls Staff Engineer is...</td>\n",
       "      <td>At least 10 years of degreed professional expe...</td>\n",
       "    </tr>\n",
       "    <tr>\n",
       "      <th>3</th>\n",
       "      <td>AU, NSW,</td>\n",
       "      <td>If you have a passion for people and love to s...</td>\n",
       "      <td>Responsibilities - Prospecting, following up a...</td>\n",
       "    </tr>\n",
       "    <tr>\n",
       "      <th>4</th>\n",
       "      <td>GB, ENG, London</td>\n",
       "      <td>As the successful Senior Network Engineer you ...</td>\n",
       "      <td>Essential skills:•Juniper switching/routing/se...</td>\n",
       "    </tr>\n",
       "    <tr>\n",
       "      <th>5</th>\n",
       "      <td>US, NY, New York</td>\n",
       "      <td>Energy/financial reporter needed in NYCDriven ...</td>\n",
       "      <td>The successful candidate should have a bachelo...</td>\n",
       "    </tr>\n",
       "    <tr>\n",
       "      <th>6</th>\n",
       "      <td>EG, C, Cairo</td>\n",
       "      <td>Role Summary:HR Talent Acquisition Lead will b...</td>\n",
       "      <td>Experienced females are preferred.Relevant exp...</td>\n",
       "    </tr>\n",
       "    <tr>\n",
       "      <th>7</th>\n",
       "      <td>US, IA, Cedar Rapids</td>\n",
       "      <td>Red Star Yeast Company LLC (RSYC), a leader in...</td>\n",
       "      <td>The ideal candidate will be currently enrolled...</td>\n",
       "    </tr>\n",
       "    <tr>\n",
       "      <th>8</th>\n",
       "      <td>DE, BE, Berlin</td>\n",
       "      <td>We are looking for freelance translators (m/f)...</td>\n",
       "      <td>Translation experiencePreferably also a backgr...</td>\n",
       "    </tr>\n",
       "    <tr>\n",
       "      <th>9</th>\n",
       "      <td>US, VA,</td>\n",
       "      <td>We now have a unique product that any physicia...</td>\n",
       "      <td>Proven History of SalesExperince in Medical Sa...</td>\n",
       "    </tr>\n",
       "    <tr>\n",
       "      <th>10</th>\n",
       "      <td>US, CA, Long Beach</td>\n",
       "      <td>Ruby on Rails Web Engineer (RoR)Now Hiring Rub...</td>\n",
       "      <td>NaN</td>\n",
       "    </tr>\n",
       "    <tr>\n",
       "      <th>11</th>\n",
       "      <td>US, OH, Cincinnati</td>\n",
       "      <td>Organizes item orders by editing for price, pr...</td>\n",
       "      <td>Documentation Skills, Data Entry Skills, Tele...</td>\n",
       "    </tr>\n",
       "    <tr>\n",
       "      <th>12</th>\n",
       "      <td>US, OH, Hilliard</td>\n",
       "      <td>Baesman Group is looking to hire motivated ind...</td>\n",
       "      <td>Must have knowledge of USPS postal regulations...</td>\n",
       "    </tr>\n",
       "    <tr>\n",
       "      <th>13</th>\n",
       "      <td>GB, ,</td>\n",
       "      <td>Join a fast growing technology education movem...</td>\n",
       "      <td>Requirements:Apps for Good is looking for peop...</td>\n",
       "    </tr>\n",
       "    <tr>\n",
       "      <th>14</th>\n",
       "      <td>US, NC, Charlotte</td>\n",
       "      <td>Title                       : SFDC Consultant ...</td>\n",
       "      <td>SFDC Design experience including  experience i...</td>\n",
       "    </tr>\n",
       "    <tr>\n",
       "      <th>15</th>\n",
       "      <td>GR, I, Athens</td>\n",
       "      <td>Roll the Clip is seeking a Senior iOS develope...</td>\n",
       "      <td>Expertise in Git, Objective-C programming, Coc...</td>\n",
       "    </tr>\n",
       "    <tr>\n",
       "      <th>16</th>\n",
       "      <td>US, TX, Austin, San Antonio, Houston</td>\n",
       "      <td>AimTruancy Solutions is a fast-growing company...</td>\n",
       "      <td>Core Competencies and Position Expectations:• ...</td>\n",
       "    </tr>\n",
       "    <tr>\n",
       "      <th>17</th>\n",
       "      <td>US, FL, Fort Lauderdale</td>\n",
       "      <td>This newly created role will be filled by a hi...</td>\n",
       "      <td>NaN</td>\n",
       "    </tr>\n",
       "    <tr>\n",
       "      <th>18</th>\n",
       "      <td>US, , New York</td>\n",
       "      <td>The Sr. Java Developer is a key team member of...</td>\n",
       "      <td>Qualifications:Bachelor’s degree in related fi...</td>\n",
       "    </tr>\n",
       "    <tr>\n",
       "      <th>19</th>\n",
       "      <td>NaN</td>\n",
       "      <td>Sounds like what you want to do? Then apply to...</td>\n",
       "      <td>NaN</td>\n",
       "    </tr>\n",
       "  </tbody>\n",
       "</table>\n",
       "</div>"
      ],
      "text/plain": [
       "                                location  \\\n",
       "0                               KW, KU,    \n",
       "1                 US, TX, Corpus Christi   \n",
       "2                  US, TX, USA Southwest   \n",
       "3                              AU, NSW,    \n",
       "4                        GB, ENG, London   \n",
       "5                       US, NY, New York   \n",
       "6                           EG, C, Cairo   \n",
       "7                   US, IA, Cedar Rapids   \n",
       "8                         DE, BE, Berlin   \n",
       "9                               US, VA,    \n",
       "10                    US, CA, Long Beach   \n",
       "11                    US, OH, Cincinnati   \n",
       "12                      US, OH, Hilliard   \n",
       "13                                GB, ,    \n",
       "14                     US, NC, Charlotte   \n",
       "15                         GR, I, Athens   \n",
       "16  US, TX, Austin, San Antonio, Houston   \n",
       "17               US, FL, Fort Lauderdale   \n",
       "18                        US, , New York   \n",
       "19                                   NaN   \n",
       "\n",
       "                                          description  \\\n",
       "0   On behalf of our client, a well known multinat...   \n",
       "1   We are Argenta Field Solutions, a rapidly expa...   \n",
       "2   Experienced Process Controls Staff Engineer is...   \n",
       "3   If you have a passion for people and love to s...   \n",
       "4   As the successful Senior Network Engineer you ...   \n",
       "5   Energy/financial reporter needed in NYCDriven ...   \n",
       "6   Role Summary:HR Talent Acquisition Lead will b...   \n",
       "7   Red Star Yeast Company LLC (RSYC), a leader in...   \n",
       "8   We are looking for freelance translators (m/f)...   \n",
       "9   We now have a unique product that any physicia...   \n",
       "10  Ruby on Rails Web Engineer (RoR)Now Hiring Rub...   \n",
       "11  Organizes item orders by editing for price, pr...   \n",
       "12  Baesman Group is looking to hire motivated ind...   \n",
       "13  Join a fast growing technology education movem...   \n",
       "14  Title                       : SFDC Consultant ...   \n",
       "15  Roll the Clip is seeking a Senior iOS develope...   \n",
       "16  AimTruancy Solutions is a fast-growing company...   \n",
       "17  This newly created role will be filled by a hi...   \n",
       "18  The Sr. Java Developer is a key team member of...   \n",
       "19  Sounds like what you want to do? Then apply to...   \n",
       "\n",
       "                                         requirements  \n",
       "0   -Working technical knowledge of IT systems and...  \n",
       "1                                              #NAME?  \n",
       "2   At least 10 years of degreed professional expe...  \n",
       "3   Responsibilities - Prospecting, following up a...  \n",
       "4   Essential skills:•Juniper switching/routing/se...  \n",
       "5   The successful candidate should have a bachelo...  \n",
       "6   Experienced females are preferred.Relevant exp...  \n",
       "7   The ideal candidate will be currently enrolled...  \n",
       "8   Translation experiencePreferably also a backgr...  \n",
       "9   Proven History of SalesExperince in Medical Sa...  \n",
       "10                                                NaN  \n",
       "11   Documentation Skills, Data Entry Skills, Tele...  \n",
       "12  Must have knowledge of USPS postal regulations...  \n",
       "13  Requirements:Apps for Good is looking for peop...  \n",
       "14  SFDC Design experience including  experience i...  \n",
       "15  Expertise in Git, Objective-C programming, Coc...  \n",
       "16  Core Competencies and Position Expectations:• ...  \n",
       "17                                                NaN  \n",
       "18  Qualifications:Bachelor’s degree in related fi...  \n",
       "19                                                NaN  "
      ]
     },
     "execution_count": 6,
     "metadata": {},
     "output_type": "execute_result"
    }
   ],
   "source": [
    "data[[\"location\",\"description\",\"requirements\"]].head(20)"
   ]
  },
  {
   "cell_type": "code",
   "execution_count": 7,
   "metadata": {},
   "outputs": [
    {
     "data": {
      "text/html": [
       "<div>\n",
       "<style scoped>\n",
       "    .dataframe tbody tr th:only-of-type {\n",
       "        vertical-align: middle;\n",
       "    }\n",
       "\n",
       "    .dataframe tbody tr th {\n",
       "        vertical-align: top;\n",
       "    }\n",
       "\n",
       "    .dataframe thead th {\n",
       "        text-align: right;\n",
       "    }\n",
       "</style>\n",
       "<table border=\"1\" class=\"dataframe\">\n",
       "  <thead>\n",
       "    <tr style=\"text-align: right;\">\n",
       "      <th></th>\n",
       "      <th>telecommuting</th>\n",
       "      <th>has_company_logo</th>\n",
       "      <th>has_questions</th>\n",
       "      <th>fraudulent</th>\n",
       "    </tr>\n",
       "  </thead>\n",
       "  <tbody>\n",
       "    <tr>\n",
       "      <th>count</th>\n",
       "      <td>8940.000000</td>\n",
       "      <td>8940.000000</td>\n",
       "      <td>8940.000000</td>\n",
       "      <td>8940.000000</td>\n",
       "    </tr>\n",
       "    <tr>\n",
       "      <th>mean</th>\n",
       "      <td>0.043736</td>\n",
       "      <td>0.794407</td>\n",
       "      <td>0.487248</td>\n",
       "      <td>0.051007</td>\n",
       "    </tr>\n",
       "    <tr>\n",
       "      <th>std</th>\n",
       "      <td>0.204519</td>\n",
       "      <td>0.404157</td>\n",
       "      <td>0.499865</td>\n",
       "      <td>0.220024</td>\n",
       "    </tr>\n",
       "    <tr>\n",
       "      <th>min</th>\n",
       "      <td>0.000000</td>\n",
       "      <td>0.000000</td>\n",
       "      <td>0.000000</td>\n",
       "      <td>0.000000</td>\n",
       "    </tr>\n",
       "    <tr>\n",
       "      <th>25%</th>\n",
       "      <td>0.000000</td>\n",
       "      <td>1.000000</td>\n",
       "      <td>0.000000</td>\n",
       "      <td>0.000000</td>\n",
       "    </tr>\n",
       "    <tr>\n",
       "      <th>50%</th>\n",
       "      <td>0.000000</td>\n",
       "      <td>1.000000</td>\n",
       "      <td>0.000000</td>\n",
       "      <td>0.000000</td>\n",
       "    </tr>\n",
       "    <tr>\n",
       "      <th>75%</th>\n",
       "      <td>0.000000</td>\n",
       "      <td>1.000000</td>\n",
       "      <td>1.000000</td>\n",
       "      <td>0.000000</td>\n",
       "    </tr>\n",
       "    <tr>\n",
       "      <th>max</th>\n",
       "      <td>1.000000</td>\n",
       "      <td>1.000000</td>\n",
       "      <td>1.000000</td>\n",
       "      <td>1.000000</td>\n",
       "    </tr>\n",
       "  </tbody>\n",
       "</table>\n",
       "</div>"
      ],
      "text/plain": [
       "       telecommuting  has_company_logo  has_questions   fraudulent\n",
       "count    8940.000000       8940.000000    8940.000000  8940.000000\n",
       "mean        0.043736          0.794407       0.487248     0.051007\n",
       "std         0.204519          0.404157       0.499865     0.220024\n",
       "min         0.000000          0.000000       0.000000     0.000000\n",
       "25%         0.000000          1.000000       0.000000     0.000000\n",
       "50%         0.000000          1.000000       0.000000     0.000000\n",
       "75%         0.000000          1.000000       1.000000     0.000000\n",
       "max         1.000000          1.000000       1.000000     1.000000"
      ]
     },
     "execution_count": 7,
     "metadata": {},
     "output_type": "execute_result"
    }
   ],
   "source": [
    "data.describe()"
   ]
  },
  {
   "cell_type": "code",
   "execution_count": 8,
   "metadata": {},
   "outputs": [
    {
     "data": {
      "text/plain": [
       "0    8484\n",
       "1     456\n",
       "Name: fraudulent, dtype: int64"
      ]
     },
     "execution_count": 8,
     "metadata": {},
     "output_type": "execute_result"
    }
   ],
   "source": [
    "data['fraudulent'].value_counts()"
   ]
  },
  {
   "cell_type": "code",
   "execution_count": 9,
   "metadata": {},
   "outputs": [
    {
     "name": "stdout",
     "output_type": "stream",
     "text": [
      "1    456\n",
      "0    456\n",
      "Name: fraudulent, dtype: int64\n"
     ]
    }
   ],
   "source": [
    "from sklearn.utils import resample \n",
    "\n",
    "fake = data[data.fraudulent == 1]\n",
    "real = data[data.fraudulent == 0]\n",
    "\n",
    "\n",
    "num_real, num_fake = data.fraudulent.value_counts()\n",
    "\n",
    "real_under = real.sample(num_fake)\n",
    "\n",
    "\n",
    "test_under = pd.concat([real_under, fake], axis=0)\n",
    "\n",
    "print(test_under.fraudulent.value_counts())\n"
   ]
  },
  {
   "cell_type": "code",
   "execution_count": 10,
   "metadata": {},
   "outputs": [
    {
     "data": {
      "text/plain": [
       "<AxesSubplot:xlabel='Fraudulent', ylabel='value counts'>"
      ]
     },
     "execution_count": 10,
     "metadata": {},
     "output_type": "execute_result"
    },
    {
     "data": {
      "image/png": "[encoded data removed]",
      "text/plain": [
       "<Figure size 432x288 with 1 Axes>"
      ]
     },
     "metadata": {
      "needs_background": "light"
     },
     "output_type": "display_data"
    }
   ],
   "source": [
    "import matplotlib.pyplot as plt\n",
    "plt.xlabel(\"Fraudulent\")\n",
    "plt.ylabel(\"value counts\")\n",
    "data_frame_undersample.fraudulent.value_counts().plot.bar()"
   ]
  },
  {
   "cell_type": "code",
   "execution_count": 11,
   "metadata": {},
   "outputs": [],
   "source": [
    "Y=test_under['fraudulent']"
   ]
  },
  {
   "cell_type": "code",
   "execution_count": 12,
   "metadata": {},
   "outputs": [
    {
     "data": {
      "text/plain": [
       "5257    0\n",
       "5388    0\n",
       "5198    0\n",
       "1773    0\n",
       "6476    0\n",
       "Name: fraudulent, dtype: int64"
      ]
     },
     "execution_count": 12,
     "metadata": {},
     "output_type": "execute_result"
    }
   ],
   "source": [
    "Y.head()"
   ]
  },
  {
   "cell_type": "code",
   "execution_count": 13,
   "metadata": {},
   "outputs": [],
   "source": [
    "data_withoutNaN=test_under.dropna()"
   ]
  },
  {
   "cell_type": "code",
   "execution_count": 14,
   "metadata": {},
   "outputs": [
    {
     "data": {
      "text/plain": [
       "title               0\n",
       "location            0\n",
       "description         0\n",
       "requirements        0\n",
       "telecommuting       0\n",
       "has_company_logo    0\n",
       "has_questions       0\n",
       "fraudulent          0\n",
       "dtype: int64"
      ]
     },
     "execution_count": 14,
     "metadata": {},
     "output_type": "execute_result"
    }
   ],
   "source": [
    "data_withoutNaN.isnull().sum()"
   ]
  },
  {
   "cell_type": "code",
   "execution_count": null,
   "metadata": {},
   "outputs": [],
   "source": []
  },
  {
   "cell_type": "code",
   "execution_count": 15,
   "metadata": {},
   "outputs": [
    {
     "data": {
      "text/html": [
       "<div>\n",
       "<style scoped>\n",
       "    .dataframe tbody tr th:only-of-type {\n",
       "        vertical-align: middle;\n",
       "    }\n",
       "\n",
       "    .dataframe tbody tr th {\n",
       "        vertical-align: top;\n",
       "    }\n",
       "\n",
       "    .dataframe thead th {\n",
       "        text-align: right;\n",
       "    }\n",
       "</style>\n",
       "<table border=\"1\" class=\"dataframe\">\n",
       "  <thead>\n",
       "    <tr style=\"text-align: right;\">\n",
       "      <th></th>\n",
       "      <th>title</th>\n",
       "      <th>location</th>\n",
       "      <th>description</th>\n",
       "      <th>requirements</th>\n",
       "      <th>telecommuting</th>\n",
       "      <th>has_company_logo</th>\n",
       "      <th>has_questions</th>\n",
       "      <th>fraudulent</th>\n",
       "    </tr>\n",
       "  </thead>\n",
       "  <tbody>\n",
       "    <tr>\n",
       "      <th>5257</th>\n",
       "      <td>Ruby on Rails Developers - All Experience Levels!</td>\n",
       "      <td>GB, LND, London</td>\n",
       "      <td>We are for looking Rails Developers with all t...</td>\n",
       "      <td>We expect:At least 3 years of web development ...</td>\n",
       "      <td>0</td>\n",
       "      <td>1</td>\n",
       "      <td>0</td>\n",
       "      <td>0</td>\n",
       "    </tr>\n",
       "    <tr>\n",
       "      <th>5388</th>\n",
       "      <td>Database Architect</td>\n",
       "      <td>BE, , Brussels</td>\n",
       "      <td>We currently have a vacancy for  a Database de...</td>\n",
       "      <td>Your skills:Minimum 14 years of relevant Univ...</td>\n",
       "      <td>0</td>\n",
       "      <td>1</td>\n",
       "      <td>0</td>\n",
       "      <td>0</td>\n",
       "    </tr>\n",
       "    <tr>\n",
       "      <th>5198</th>\n",
       "      <td>Software Engineer Backend</td>\n",
       "      <td>DE, BY, München</td>\n",
       "      <td>We love the idea of building a web service tha...</td>\n",
       "      <td>You have a keen eye for details and the drive ...</td>\n",
       "      <td>0</td>\n",
       "      <td>1</td>\n",
       "      <td>1</td>\n",
       "      <td>0</td>\n",
       "    </tr>\n",
       "    <tr>\n",
       "      <th>1773</th>\n",
       "      <td>Software Engineer</td>\n",
       "      <td>US, OH, Cincin</td>\n",
       "      <td>Are you an experienced software engineer ? We ...</td>\n",
       "      <td>Deep understanding of HTML5, CSS3 and JavaScri...</td>\n",
       "      <td>0</td>\n",
       "      <td>1</td>\n",
       "      <td>0</td>\n",
       "      <td>0</td>\n",
       "    </tr>\n",
       "    <tr>\n",
       "      <th>2524</th>\n",
       "      <td>Account Manager</td>\n",
       "      <td>US, CA, Burbank</td>\n",
       "      <td>THE COMPANY: CONNECTIVITY (#URL_1fddf30a8cda1e...</td>\n",
       "      <td>EDUCATION: BA/BS preferred or equivalent exper...</td>\n",
       "      <td>0</td>\n",
       "      <td>1</td>\n",
       "      <td>0</td>\n",
       "      <td>0</td>\n",
       "    </tr>\n",
       "  </tbody>\n",
       "</table>\n",
       "</div>"
      ],
      "text/plain": [
       "                                                  title         location  \\\n",
       "5257  Ruby on Rails Developers - All Experience Levels!  GB, LND, London   \n",
       "5388                                Database Architect    BE, , Brussels   \n",
       "5198                          Software Engineer Backend  DE, BY, München   \n",
       "1773                                  Software Engineer   US, OH, Cincin   \n",
       "2524                                   Account Manager   US, CA, Burbank   \n",
       "\n",
       "                                            description  \\\n",
       "5257  We are for looking Rails Developers with all t...   \n",
       "5388  We currently have a vacancy for  a Database de...   \n",
       "5198  We love the idea of building a web service tha...   \n",
       "1773  Are you an experienced software engineer ? We ...   \n",
       "2524  THE COMPANY: CONNECTIVITY (#URL_1fddf30a8cda1e...   \n",
       "\n",
       "                                           requirements  telecommuting  \\\n",
       "5257  We expect:At least 3 years of web development ...              0   \n",
       "5388   Your skills:Minimum 14 years of relevant Univ...              0   \n",
       "5198  You have a keen eye for details and the drive ...              0   \n",
       "1773  Deep understanding of HTML5, CSS3 and JavaScri...              0   \n",
       "2524  EDUCATION: BA/BS preferred or equivalent exper...              0   \n",
       "\n",
       "      has_company_logo  has_questions  fraudulent  \n",
       "5257                 1              0           0  \n",
       "5388                 1              0           0  \n",
       "5198                 1              1           0  \n",
       "1773                 1              0           0  \n",
       "2524                 1              0           0  "
      ]
     },
     "execution_count": 15,
     "metadata": {},
     "output_type": "execute_result"
    }
   ],
   "source": [
    "data_withoutNaN.head(5)"
   ]
  },
  {
   "cell_type": "code",
   "execution_count": 16,
   "metadata": {},
   "outputs": [],
   "source": [
    "data_withoutNaN.reset_index(inplace=True)"
   ]
  },
  {
   "cell_type": "code",
   "execution_count": 17,
   "metadata": {},
   "outputs": [
    {
     "data": {
      "text/html": [
       "<div>\n",
       "<style scoped>\n",
       "    .dataframe tbody tr th:only-of-type {\n",
       "        vertical-align: middle;\n",
       "    }\n",
       "\n",
       "    .dataframe tbody tr th {\n",
       "        vertical-align: top;\n",
       "    }\n",
       "\n",
       "    .dataframe thead th {\n",
       "        text-align: right;\n",
       "    }\n",
       "</style>\n",
       "<table border=\"1\" class=\"dataframe\">\n",
       "  <thead>\n",
       "    <tr style=\"text-align: right;\">\n",
       "      <th></th>\n",
       "      <th>index</th>\n",
       "      <th>title</th>\n",
       "      <th>location</th>\n",
       "      <th>description</th>\n",
       "      <th>requirements</th>\n",
       "      <th>telecommuting</th>\n",
       "      <th>has_company_logo</th>\n",
       "      <th>has_questions</th>\n",
       "      <th>fraudulent</th>\n",
       "    </tr>\n",
       "  </thead>\n",
       "  <tbody>\n",
       "    <tr>\n",
       "      <th>0</th>\n",
       "      <td>5257</td>\n",
       "      <td>Ruby on Rails Developers - All Experience Levels!</td>\n",
       "      <td>GB, LND, London</td>\n",
       "      <td>We are for looking Rails Developers with all t...</td>\n",
       "      <td>We expect:At least 3 years of web development ...</td>\n",
       "      <td>0</td>\n",
       "      <td>1</td>\n",
       "      <td>0</td>\n",
       "      <td>0</td>\n",
       "    </tr>\n",
       "    <tr>\n",
       "      <th>1</th>\n",
       "      <td>5388</td>\n",
       "      <td>Database Architect</td>\n",
       "      <td>BE, , Brussels</td>\n",
       "      <td>We currently have a vacancy for  a Database de...</td>\n",
       "      <td>Your skills:Minimum 14 years of relevant Univ...</td>\n",
       "      <td>0</td>\n",
       "      <td>1</td>\n",
       "      <td>0</td>\n",
       "      <td>0</td>\n",
       "    </tr>\n",
       "  </tbody>\n",
       "</table>\n",
       "</div>"
      ],
      "text/plain": [
       "   index                                              title         location  \\\n",
       "0   5257  Ruby on Rails Developers - All Experience Levels!  GB, LND, London   \n",
       "1   5388                                Database Architect    BE, , Brussels   \n",
       "\n",
       "                                         description  \\\n",
       "0  We are for looking Rails Developers with all t...   \n",
       "1  We currently have a vacancy for  a Database de...   \n",
       "\n",
       "                                        requirements  telecommuting  \\\n",
       "0  We expect:At least 3 years of web development ...              0   \n",
       "1   Your skills:Minimum 14 years of relevant Univ...              0   \n",
       "\n",
       "   has_company_logo  has_questions  fraudulent  \n",
       "0                 1              0           0  \n",
       "1                 1              0           0  "
      ]
     },
     "execution_count": 17,
     "metadata": {},
     "output_type": "execute_result"
    }
   ],
   "source": [
    "data_withoutNaN.head(2)"
   ]
  },
  {
   "cell_type": "code",
   "execution_count": 18,
   "metadata": {},
   "outputs": [],
   "source": [
    "test_under['text']= test_under['title']+' '+test_under['location']+' '+test_under['description']+' '+test_under['requirements']\n",
    "#data=data.drop('title',axis=1)\n",
    "#data=data.drop('description',axis=1)\n",
    "#data=data.drop('requirements',axis=1)"
   ]
  },
  {
   "cell_type": "code",
   "execution_count": 19,
   "metadata": {},
   "outputs": [
    {
     "data": {
      "text/html": [
       "<div>\n",
       "<style scoped>\n",
       "    .dataframe tbody tr th:only-of-type {\n",
       "        vertical-align: middle;\n",
       "    }\n",
       "\n",
       "    .dataframe tbody tr th {\n",
       "        vertical-align: top;\n",
       "    }\n",
       "\n",
       "    .dataframe thead th {\n",
       "        text-align: right;\n",
       "    }\n",
       "</style>\n",
       "<table border=\"1\" class=\"dataframe\">\n",
       "  <thead>\n",
       "    <tr style=\"text-align: right;\">\n",
       "      <th></th>\n",
       "      <th>title</th>\n",
       "      <th>location</th>\n",
       "      <th>description</th>\n",
       "      <th>requirements</th>\n",
       "      <th>telecommuting</th>\n",
       "      <th>has_company_logo</th>\n",
       "      <th>has_questions</th>\n",
       "      <th>fraudulent</th>\n",
       "      <th>text</th>\n",
       "    </tr>\n",
       "  </thead>\n",
       "  <tbody>\n",
       "    <tr>\n",
       "      <th>5257</th>\n",
       "      <td>Ruby on Rails Developers - All Experience Levels!</td>\n",
       "      <td>GB, LND, London</td>\n",
       "      <td>We are for looking Rails Developers with all t...</td>\n",
       "      <td>We expect:At least 3 years of web development ...</td>\n",
       "      <td>0</td>\n",
       "      <td>1</td>\n",
       "      <td>0</td>\n",
       "      <td>0</td>\n",
       "      <td>Ruby on Rails Developers - All Experience Leve...</td>\n",
       "    </tr>\n",
       "    <tr>\n",
       "      <th>5388</th>\n",
       "      <td>Database Architect</td>\n",
       "      <td>BE, , Brussels</td>\n",
       "      <td>We currently have a vacancy for  a Database de...</td>\n",
       "      <td>Your skills:Minimum 14 years of relevant Univ...</td>\n",
       "      <td>0</td>\n",
       "      <td>1</td>\n",
       "      <td>0</td>\n",
       "      <td>0</td>\n",
       "      <td>Database Architect  BE, , Brussels We currentl...</td>\n",
       "    </tr>\n",
       "    <tr>\n",
       "      <th>5198</th>\n",
       "      <td>Software Engineer Backend</td>\n",
       "      <td>DE, BY, München</td>\n",
       "      <td>We love the idea of building a web service tha...</td>\n",
       "      <td>You have a keen eye for details and the drive ...</td>\n",
       "      <td>0</td>\n",
       "      <td>1</td>\n",
       "      <td>1</td>\n",
       "      <td>0</td>\n",
       "      <td>Software Engineer Backend DE, BY, München We l...</td>\n",
       "    </tr>\n",
       "    <tr>\n",
       "      <th>1773</th>\n",
       "      <td>Software Engineer</td>\n",
       "      <td>US, OH, Cincin</td>\n",
       "      <td>Are you an experienced software engineer ? We ...</td>\n",
       "      <td>Deep understanding of HTML5, CSS3 and JavaScri...</td>\n",
       "      <td>0</td>\n",
       "      <td>1</td>\n",
       "      <td>0</td>\n",
       "      <td>0</td>\n",
       "      <td>Software Engineer US, OH, Cincin Are you an ex...</td>\n",
       "    </tr>\n",
       "    <tr>\n",
       "      <th>6476</th>\n",
       "      <td>Home Health Aide--Arvada, CO</td>\n",
       "      <td>US, CO, Arvada</td>\n",
       "      <td>Critical Nurse Staffing, Inc. is seeking HHA's...</td>\n",
       "      <td>NaN</td>\n",
       "      <td>0</td>\n",
       "      <td>1</td>\n",
       "      <td>0</td>\n",
       "      <td>0</td>\n",
       "      <td>NaN</td>\n",
       "    </tr>\n",
       "  </tbody>\n",
       "</table>\n",
       "</div>"
      ],
      "text/plain": [
       "                                                  title         location  \\\n",
       "5257  Ruby on Rails Developers - All Experience Levels!  GB, LND, London   \n",
       "5388                                Database Architect    BE, , Brussels   \n",
       "5198                          Software Engineer Backend  DE, BY, München   \n",
       "1773                                  Software Engineer   US, OH, Cincin   \n",
       "6476                       Home Health Aide--Arvada, CO   US, CO, Arvada   \n",
       "\n",
       "                                            description  \\\n",
       "5257  We are for looking Rails Developers with all t...   \n",
       "5388  We currently have a vacancy for  a Database de...   \n",
       "5198  We love the idea of building a web service tha...   \n",
       "1773  Are you an experienced software engineer ? We ...   \n",
       "6476  Critical Nurse Staffing, Inc. is seeking HHA's...   \n",
       "\n",
       "                                           requirements  telecommuting  \\\n",
       "5257  We expect:At least 3 years of web development ...              0   \n",
       "5388   Your skills:Minimum 14 years of relevant Univ...              0   \n",
       "5198  You have a keen eye for details and the drive ...              0   \n",
       "1773  Deep understanding of HTML5, CSS3 and JavaScri...              0   \n",
       "6476                                                NaN              0   \n",
       "\n",
       "      has_company_logo  has_questions  fraudulent  \\\n",
       "5257                 1              0           0   \n",
       "5388                 1              0           0   \n",
       "5198                 1              1           0   \n",
       "1773                 1              0           0   \n",
       "6476                 1              0           0   \n",
       "\n",
       "                                                   text  \n",
       "5257  Ruby on Rails Developers - All Experience Leve...  \n",
       "5388  Database Architect  BE, , Brussels We currentl...  \n",
       "5198  Software Engineer Backend DE, BY, München We l...  \n",
       "1773  Software Engineer US, OH, Cincin Are you an ex...  \n",
       "6476                                                NaN  "
      ]
     },
     "execution_count": 19,
     "metadata": {},
     "output_type": "execute_result"
    }
   ],
   "source": [
    "test_under.head()"
   ]
  },
  {
   "cell_type": "code",
   "execution_count": 20,
   "metadata": {},
   "outputs": [],
   "source": [
    "data=test_under.drop(['title','description','requirements','location'],axis=1)"
   ]
  },
  {
   "cell_type": "code",
   "execution_count": 21,
   "metadata": {},
   "outputs": [
    {
     "data": {
      "text/html": [
       "<div>\n",
       "<style scoped>\n",
       "    .dataframe tbody tr th:only-of-type {\n",
       "        vertical-align: middle;\n",
       "    }\n",
       "\n",
       "    .dataframe tbody tr th {\n",
       "        vertical-align: top;\n",
       "    }\n",
       "\n",
       "    .dataframe thead th {\n",
       "        text-align: right;\n",
       "    }\n",
       "</style>\n",
       "<table border=\"1\" class=\"dataframe\">\n",
       "  <thead>\n",
       "    <tr style=\"text-align: right;\">\n",
       "      <th></th>\n",
       "      <th>telecommuting</th>\n",
       "      <th>has_company_logo</th>\n",
       "      <th>has_questions</th>\n",
       "      <th>fraudulent</th>\n",
       "      <th>text</th>\n",
       "    </tr>\n",
       "  </thead>\n",
       "  <tbody>\n",
       "    <tr>\n",
       "      <th>5257</th>\n",
       "      <td>0</td>\n",
       "      <td>1</td>\n",
       "      <td>0</td>\n",
       "      <td>0</td>\n",
       "      <td>Ruby on Rails Developers - All Experience Leve...</td>\n",
       "    </tr>\n",
       "    <tr>\n",
       "      <th>5388</th>\n",
       "      <td>0</td>\n",
       "      <td>1</td>\n",
       "      <td>0</td>\n",
       "      <td>0</td>\n",
       "      <td>Database Architect  BE, , Brussels We currentl...</td>\n",
       "    </tr>\n",
       "    <tr>\n",
       "      <th>5198</th>\n",
       "      <td>0</td>\n",
       "      <td>1</td>\n",
       "      <td>1</td>\n",
       "      <td>0</td>\n",
       "      <td>Software Engineer Backend DE, BY, München We l...</td>\n",
       "    </tr>\n",
       "    <tr>\n",
       "      <th>1773</th>\n",
       "      <td>0</td>\n",
       "      <td>1</td>\n",
       "      <td>0</td>\n",
       "      <td>0</td>\n",
       "      <td>Software Engineer US, OH, Cincin Are you an ex...</td>\n",
       "    </tr>\n",
       "    <tr>\n",
       "      <th>6476</th>\n",
       "      <td>0</td>\n",
       "      <td>1</td>\n",
       "      <td>0</td>\n",
       "      <td>0</td>\n",
       "      <td>NaN</td>\n",
       "    </tr>\n",
       "  </tbody>\n",
       "</table>\n",
       "</div>"
      ],
      "text/plain": [
       "      telecommuting  has_company_logo  has_questions  fraudulent  \\\n",
       "5257              0                 1              0           0   \n",
       "5388              0                 1              0           0   \n",
       "5198              0                 1              1           0   \n",
       "1773              0                 1              0           0   \n",
       "6476              0                 1              0           0   \n",
       "\n",
       "                                                   text  \n",
       "5257  Ruby on Rails Developers - All Experience Leve...  \n",
       "5388  Database Architect  BE, , Brussels We currentl...  \n",
       "5198  Software Engineer Backend DE, BY, München We l...  \n",
       "1773  Software Engineer US, OH, Cincin Are you an ex...  \n",
       "6476                                                NaN  "
      ]
     },
     "execution_count": 21,
     "metadata": {},
     "output_type": "execute_result"
    }
   ],
   "source": [
    "data.head()"
   ]
  },
  {
   "cell_type": "code",
   "execution_count": 22,
   "metadata": {},
   "outputs": [
    {
     "data": {
      "text/html": [
       "<div>\n",
       "<style scoped>\n",
       "    .dataframe tbody tr th:only-of-type {\n",
       "        vertical-align: middle;\n",
       "    }\n",
       "\n",
       "    .dataframe tbody tr th {\n",
       "        vertical-align: top;\n",
       "    }\n",
       "\n",
       "    .dataframe thead th {\n",
       "        text-align: right;\n",
       "    }\n",
       "</style>\n",
       "<table border=\"1\" class=\"dataframe\">\n",
       "  <thead>\n",
       "    <tr style=\"text-align: right;\">\n",
       "      <th></th>\n",
       "      <th>telecommuting</th>\n",
       "      <th>has_company_logo</th>\n",
       "      <th>fraudulent</th>\n",
       "      <th>text</th>\n",
       "    </tr>\n",
       "  </thead>\n",
       "  <tbody>\n",
       "    <tr>\n",
       "      <th>5257</th>\n",
       "      <td>0</td>\n",
       "      <td>1</td>\n",
       "      <td>0</td>\n",
       "      <td>Ruby on Rails Developers - All Experience Leve...</td>\n",
       "    </tr>\n",
       "    <tr>\n",
       "      <th>5388</th>\n",
       "      <td>0</td>\n",
       "      <td>1</td>\n",
       "      <td>0</td>\n",
       "      <td>Database Architect  BE, , Brussels We currentl...</td>\n",
       "    </tr>\n",
       "    <tr>\n",
       "      <th>5198</th>\n",
       "      <td>0</td>\n",
       "      <td>1</td>\n",
       "      <td>0</td>\n",
       "      <td>Software Engineer Backend DE, BY, München We l...</td>\n",
       "    </tr>\n",
       "    <tr>\n",
       "      <th>1773</th>\n",
       "      <td>0</td>\n",
       "      <td>1</td>\n",
       "      <td>0</td>\n",
       "      <td>Software Engineer US, OH, Cincin Are you an ex...</td>\n",
       "    </tr>\n",
       "    <tr>\n",
       "      <th>6476</th>\n",
       "      <td>0</td>\n",
       "      <td>1</td>\n",
       "      <td>0</td>\n",
       "      <td>NaN</td>\n",
       "    </tr>\n",
       "  </tbody>\n",
       "</table>\n",
       "</div>"
      ],
      "text/plain": [
       "      telecommuting  has_company_logo  fraudulent  \\\n",
       "5257              0                 1           0   \n",
       "5388              0                 1           0   \n",
       "5198              0                 1           0   \n",
       "1773              0                 1           0   \n",
       "6476              0                 1           0   \n",
       "\n",
       "                                                   text  \n",
       "5257  Ruby on Rails Developers - All Experience Leve...  \n",
       "5388  Database Architect  BE, , Brussels We currentl...  \n",
       "5198  Software Engineer Backend DE, BY, München We l...  \n",
       "1773  Software Engineer US, OH, Cincin Are you an ex...  \n",
       "6476                                                NaN  "
      ]
     },
     "execution_count": 22,
     "metadata": {},
     "output_type": "execute_result"
    }
   ],
   "source": [
    "#data.head()\n",
    "data=data.drop('has_questions',axis=1)\n",
    "data.head()"
   ]
  },
  {
   "cell_type": "code",
   "execution_count": 23,
   "metadata": {},
   "outputs": [
    {
     "data": {
      "text/html": [
       "<div>\n",
       "<style scoped>\n",
       "    .dataframe tbody tr th:only-of-type {\n",
       "        vertical-align: middle;\n",
       "    }\n",
       "\n",
       "    .dataframe tbody tr th {\n",
       "        vertical-align: top;\n",
       "    }\n",
       "\n",
       "    .dataframe thead th {\n",
       "        text-align: right;\n",
       "    }\n",
       "</style>\n",
       "<table border=\"1\" class=\"dataframe\">\n",
       "  <thead>\n",
       "    <tr style=\"text-align: right;\">\n",
       "      <th></th>\n",
       "      <th>telecommuting</th>\n",
       "      <th>has_company_logo</th>\n",
       "      <th>fraudulent</th>\n",
       "      <th>text</th>\n",
       "    </tr>\n",
       "  </thead>\n",
       "  <tbody>\n",
       "    <tr>\n",
       "      <th>5257</th>\n",
       "      <td>0</td>\n",
       "      <td>true</td>\n",
       "      <td>Real</td>\n",
       "      <td>Ruby on Rails Developers - All Experience Leve...</td>\n",
       "    </tr>\n",
       "    <tr>\n",
       "      <th>5388</th>\n",
       "      <td>0</td>\n",
       "      <td>true</td>\n",
       "      <td>Real</td>\n",
       "      <td>Database Architect  BE, , Brussels We currentl...</td>\n",
       "    </tr>\n",
       "  </tbody>\n",
       "</table>\n",
       "</div>"
      ],
      "text/plain": [
       "      telecommuting has_company_logo fraudulent  \\\n",
       "5257              0             true       Real   \n",
       "5388              0             true       Real   \n",
       "\n",
       "                                                   text  \n",
       "5257  Ruby on Rails Developers - All Experience Leve...  \n",
       "5388  Database Architect  BE, , Brussels We currentl...  "
      ]
     },
     "execution_count": 23,
     "metadata": {},
     "output_type": "execute_result"
    }
   ],
   "source": [
    "data['has_company_logo'].replace({1:\"true\",0:\"false\"},inplace=True)\n",
    "data.head(2)\n",
    "data['fraudulent'].replace({0:\"Real\",1:\"Fake\"},inplace=True)\n",
    "data.head(2)"
   ]
  },
  {
   "cell_type": "code",
   "execution_count": 24,
   "metadata": {},
   "outputs": [],
   "source": [
    "spec_chars = [\"!\",'\"',\"#\",\"%\",\"&\",\"'\",\"(\",\")\",\n",
    "              \"*\",\"+\",\",\",\"-\",\".\",\"/\",\":\",\";\",\"<\",\n",
    "              \"=\",\">\",\"?\",\"@\",\"[\",\"\\\\\",\"]\",\"^\",\"_\",\n",
    "              \"`\",\"{\",\"|\",\"}\",\"~\",\"–\",\"•\"]\n",
    "\n",
    "for char in spec_chars:\n",
    "    data['text'] = data['text'].str.replace(char, ' ')\n",
    "    data['text'] = data['text'].str.split().str.join(\" \")"
   ]
  },
  {
   "cell_type": "code",
   "execution_count": 25,
   "metadata": {},
   "outputs": [],
   "source": [
    "import gensim\n",
    "from gensim.utils import tokenize"
   ]
  },
  {
   "cell_type": "code",
   "execution_count": 26,
   "metadata": {},
   "outputs": [],
   "source": [
    "#tokenize(data['text'])"
   ]
  },
  {
   "cell_type": "code",
   "execution_count": 27,
   "metadata": {},
   "outputs": [
    {
     "data": {
      "text/plain": [
       "Real    456\n",
       "Fake    456\n",
       "Name: fraudulent, dtype: int64"
      ]
     },
     "execution_count": 27,
     "metadata": {},
     "output_type": "execute_result"
    }
   ],
   "source": [
    "data.fraudulent.value_counts()"
   ]
  },
  {
   "cell_type": "code",
   "execution_count": 28,
   "metadata": {},
   "outputs": [
    {
     "data": {
      "text/html": [
       "<div>\n",
       "<style scoped>\n",
       "    .dataframe tbody tr th:only-of-type {\n",
       "        vertical-align: middle;\n",
       "    }\n",
       "\n",
       "    .dataframe tbody tr th {\n",
       "        vertical-align: top;\n",
       "    }\n",
       "\n",
       "    .dataframe thead th {\n",
       "        text-align: right;\n",
       "    }\n",
       "</style>\n",
       "<table border=\"1\" class=\"dataframe\">\n",
       "  <thead>\n",
       "    <tr style=\"text-align: right;\">\n",
       "      <th></th>\n",
       "      <th>telecommuting</th>\n",
       "      <th>has_company_logo</th>\n",
       "      <th>fraudulent</th>\n",
       "      <th>text</th>\n",
       "    </tr>\n",
       "  </thead>\n",
       "  <tbody>\n",
       "    <tr>\n",
       "      <th>5257</th>\n",
       "      <td>0</td>\n",
       "      <td>true</td>\n",
       "      <td>Real</td>\n",
       "      <td>Ruby on Rails Developers All Experience Levels...</td>\n",
       "    </tr>\n",
       "    <tr>\n",
       "      <th>5388</th>\n",
       "      <td>0</td>\n",
       "      <td>true</td>\n",
       "      <td>Real</td>\n",
       "      <td>Database Architect BE Brussels We currently ha...</td>\n",
       "    </tr>\n",
       "    <tr>\n",
       "      <th>5198</th>\n",
       "      <td>0</td>\n",
       "      <td>true</td>\n",
       "      <td>Real</td>\n",
       "      <td>Software Engineer Backend DE BY München We lov...</td>\n",
       "    </tr>\n",
       "  </tbody>\n",
       "</table>\n",
       "</div>"
      ],
      "text/plain": [
       "      telecommuting has_company_logo fraudulent  \\\n",
       "5257              0             true       Real   \n",
       "5388              0             true       Real   \n",
       "5198              0             true       Real   \n",
       "\n",
       "                                                   text  \n",
       "5257  Ruby on Rails Developers All Experience Levels...  \n",
       "5388  Database Architect BE Brussels We currently ha...  \n",
       "5198  Software Engineer Backend DE BY München We lov...  "
      ]
     },
     "execution_count": 28,
     "metadata": {},
     "output_type": "execute_result"
    }
   ],
   "source": [
    "data['text']=data['text']+' '+data['has_company_logo']\n",
    "data.head(3)"
   ]
  },
  {
   "cell_type": "code",
   "execution_count": 29,
   "metadata": {},
   "outputs": [
    {
     "data": {
      "text/html": [
       "<div>\n",
       "<style scoped>\n",
       "    .dataframe tbody tr th:only-of-type {\n",
       "        vertical-align: middle;\n",
       "    }\n",
       "\n",
       "    .dataframe tbody tr th {\n",
       "        vertical-align: top;\n",
       "    }\n",
       "\n",
       "    .dataframe thead th {\n",
       "        text-align: right;\n",
       "    }\n",
       "</style>\n",
       "<table border=\"1\" class=\"dataframe\">\n",
       "  <thead>\n",
       "    <tr style=\"text-align: right;\">\n",
       "      <th></th>\n",
       "      <th>telecommuting</th>\n",
       "      <th>fraudulent</th>\n",
       "      <th>text</th>\n",
       "    </tr>\n",
       "  </thead>\n",
       "  <tbody>\n",
       "    <tr>\n",
       "      <th>5257</th>\n",
       "      <td>0</td>\n",
       "      <td>Real</td>\n",
       "      <td>Ruby on Rails Developers All Experience Levels...</td>\n",
       "    </tr>\n",
       "    <tr>\n",
       "      <th>5388</th>\n",
       "      <td>0</td>\n",
       "      <td>Real</td>\n",
       "      <td>Database Architect BE Brussels We currently ha...</td>\n",
       "    </tr>\n",
       "    <tr>\n",
       "      <th>5198</th>\n",
       "      <td>0</td>\n",
       "      <td>Real</td>\n",
       "      <td>Software Engineer Backend DE BY München We lov...</td>\n",
       "    </tr>\n",
       "  </tbody>\n",
       "</table>\n",
       "</div>"
      ],
      "text/plain": [
       "      telecommuting fraudulent  \\\n",
       "5257              0       Real   \n",
       "5388              0       Real   \n",
       "5198              0       Real   \n",
       "\n",
       "                                                   text  \n",
       "5257  Ruby on Rails Developers All Experience Levels...  \n",
       "5388  Database Architect BE Brussels We currently ha...  \n",
       "5198  Software Engineer Backend DE BY München We lov...  "
      ]
     },
     "execution_count": 29,
     "metadata": {},
     "output_type": "execute_result"
    }
   ],
   "source": [
    "data=data.drop('has_company_logo',axis=1)\n",
    "data.head(3)"
   ]
  },
  {
   "cell_type": "code",
   "execution_count": 36,
   "metadata": {},
   "outputs": [],
   "source": [
    "import sklearn\n",
    "from sklearn.feature_extraction.text import TfidfVectorizer\n",
    "from sklearn.model_selection import train_test_split"
   ]
  },
  {
   "cell_type": "code",
   "execution_count": 37,
   "metadata": {},
   "outputs": [],
   "source": [
    "x_train,x_test,y_train,y_test=train_test_split(data['text'],data['fraudulent'],test_size=0.3,random_state=7,shuffle=True)\n",
    "#print(x_train)"
   ]
  },
  {
   "cell_type": "code",
   "execution_count": 38,
   "metadata": {},
   "outputs": [
    {
     "name": "stdout",
     "output_type": "stream",
     "text": [
      "TfidfVectorizer(max_df=0.75, stop_words='english')\n"
     ]
    }
   ],
   "source": [
    "tfidf=TfidfVectorizer(stop_words='english',max_df=0.75)\n",
    "print(tfidf)"
   ]
  },
  {
   "cell_type": "code",
   "execution_count": 39,
   "metadata": {},
   "outputs": [],
   "source": [
    "#vector_for_train=tfidf.fit_transform(x_train.values.encode(utf-8))\n",
    "#this expects a unicode string"
   ]
  },
  {
   "cell_type": "code",
   "execution_count": 40,
   "metadata": {},
   "outputs": [
    {
     "name": "stdout",
     "output_type": "stream",
     "text": [
      "  (0, 6422)\t1.0\n",
      "  (1, 6422)\t1.0\n",
      "  (2, 6422)\t1.0\n",
      "  (3, 10837)\t0.06603566413516271\n",
      "  (3, 10812)\t0.03318271833551071\n",
      "  (3, 10778)\t0.022685902719654902\n",
      "  (3, 10673)\t0.04015054511240248\n",
      "  (3, 10566)\t0.0663852857973966\n",
      "  (3, 10533)\t0.17218804120747208\n",
      "  (3, 10448)\t0.05958516399323861\n",
      "  (3, 10442)\t0.06240746954162789\n",
      "  (3, 10421)\t0.04085159342177448\n",
      "  (3, 10406)\t0.05739601373582402\n",
      "  (3, 10341)\t0.04729493037990244\n",
      "  (3, 10192)\t0.01635303598556688\n",
      "  (3, 10146)\t0.046618075675897326\n",
      "  (3, 10104)\t0.08712004743543791\n",
      "  (3, 10042)\t0.051629531481701185\n",
      "  (3, 10007)\t0.03724402872932442\n",
      "  (3, 9778)\t0.042007104129153934\n",
      "  (3, 9776)\t0.043317114124133735\n",
      "  (3, 9595)\t0.04598492038492264\n",
      "  (3, 9576)\t0.03859004060692462\n",
      "  (3, 9534)\t0.043317114124133735\n",
      "  (3, 9429)\t0.04085159342177448\n",
      "  :\t:\n",
      "  (273, 995)\t0.050360649898717864\n",
      "  (273, 986)\t0.03710822587640356\n",
      "  (273, 949)\t0.10820125383354065\n",
      "  (273, 926)\t0.0316207649047741\n",
      "  (273, 900)\t0.04166323003451427\n",
      "  (273, 831)\t0.050360649898717864\n",
      "  (273, 828)\t0.02762632981990776\n",
      "  (273, 819)\t0.03326459026012518\n",
      "  (273, 699)\t0.03296581017031067\n",
      "  (273, 472)\t0.03574773332258875\n",
      "  (273, 468)\t0.04259568684803304\n",
      "  (273, 442)\t0.03213169912746402\n",
      "  (273, 420)\t0.04808314781966251\n",
      "  (273, 408)\t0.07766907880738577\n",
      "  (273, 394)\t0.03761916009909349\n",
      "  (273, 374)\t0.028921740234889897\n",
      "  (273, 370)\t0.03761916009909349\n",
      "  (273, 369)\t0.03213169912746402\n",
      "  (273, 343)\t0.3513798443971815\n",
      "  (273, 282)\t0.02083360036404834\n",
      "  (273, 277)\t0.05243167441132572\n",
      "  (273, 122)\t0.04082911899166761\n",
      "  (273, 25)\t0.03816535822298898\n",
      "  (273, 24)\t0.03662827694857451\n",
      "  (273, 23)\t0.027930857084370916\n"
     ]
    }
   ],
   "source": [
    "vector_for_train=tfidf.fit_transform(x_train.astype('U'))\n",
    "#print(vector_for_train)\n",
    "vector_for_testing=tfidf.transform(x_test.astype('U'))\n",
    "print(vector_for_testing)"
   ]
  },
  {
   "cell_type": "code",
   "execution_count": null,
   "metadata": {},
   "outputs": [],
   "source": [
    "plt.imshow(vector_for_testing, cmap=\"YlGnBu\")\n",
    "plt.colorbar()\n",
    "plt.xticks(range(len(vector_for_testing)),vector_for_testing.columns, rotation=20)\n",
    "plt.yticks(range(len(vector_for_testing)),vector_for_testing.index)\n",
    "plt.show()"
   ]
  },
  {
   "cell_type": "code",
   "execution_count": 41,
   "metadata": {},
   "outputs": [
    {
     "name": "stdout",
     "output_type": "stream",
     "text": [
      "              precision    recall  f1-score   support\n",
      "\n",
      "        Fake       0.83      0.67      0.74       156\n",
      "        Real       0.65      0.81      0.72       118\n",
      "\n",
      "    accuracy                           0.73       274\n",
      "   macro avg       0.74      0.74      0.73       274\n",
      "weighted avg       0.75      0.73      0.73       274\n",
      "\n"
     ]
    }
   ],
   "source": [
    "from sklearn.linear_model import PassiveAggressiveClassifier\n",
    "from sklearn.tree import DecisionTreeClassifier\n",
    "from sklearn import metrics\n",
    "predictions = []\n",
    "pred_proba = []\n",
    "tree=DecisionTreeClassifier(max_depth = 15) \n",
    "tree.fit(vector_for_train, y_train) \n",
    "predictions = tree.predict(vector_for_testing)\n",
    "pred_proba = tree.predict_proba(vector_for_testing)\n",
    "tree.score(vector_for_testing,y_test)\n",
    "#print(f1_score(y_test,predictions))\n",
    "print(metrics.classification_report(y_test, predictions))"
   ]
  },
  {
   "cell_type": "code",
   "execution_count": 42,
   "metadata": {},
   "outputs": [
    {
     "name": "stdout",
     "output_type": "stream",
     "text": [
      "0.7664233576642335\n",
      "              precision    recall  f1-score   support\n",
      "\n",
      "        Fake       0.90      0.67      0.76       156\n",
      "        Real       0.67      0.90      0.77       118\n",
      "\n",
      "    accuracy                           0.77       274\n",
      "   macro avg       0.78      0.78      0.77       274\n",
      "weighted avg       0.80      0.77      0.77       274\n",
      "\n"
     ]
    }
   ],
   "source": [
    "pac = PassiveAggressiveClassifier(C = 0.2, random_state = 5)\n",
    "pac.fit(vector_for_train, y_train)\n",
    "predictions = pac.predict(vector_for_testing)\n",
    "print(pac.score(vector_for_testing,y_test))\n",
    "print(metrics.classification_report(y_test, predictions))"
   ]
  },
  {
   "cell_type": "code",
   "execution_count": 43,
   "metadata": {},
   "outputs": [
    {
     "name": "stdout",
     "output_type": "stream",
     "text": [
      "0.7554744525547445\n",
      "              precision    recall  f1-score   support\n",
      "\n",
      "        Fake       0.95      0.60      0.74       156\n",
      "        Real       0.65      0.96      0.77       118\n",
      "\n",
      "    accuracy                           0.76       274\n",
      "   macro avg       0.80      0.78      0.75       274\n",
      "weighted avg       0.82      0.76      0.75       274\n",
      "\n"
     ]
    }
   ],
   "source": [
    "from sklearn import svm\n",
    "model = svm.SVC()\n",
    "model.fit(vector_for_train, y_train)\n",
    "predictions = model.predict(vector_for_testing)\n",
    "print(model.score(vector_for_testing,y_test))\n",
    "print(metrics.classification_report(y_test, predictions))"
   ]
  },
  {
   "cell_type": "code",
   "execution_count": 44,
   "metadata": {},
   "outputs": [
    {
     "name": "stdout",
     "output_type": "stream",
     "text": [
      "0.7700729927007299\n",
      "              precision    recall  f1-score   support\n",
      "\n",
      "        Fake       0.86      0.71      0.78       156\n",
      "        Real       0.69      0.85      0.76       118\n",
      "\n",
      "    accuracy                           0.77       274\n",
      "   macro avg       0.78      0.78      0.77       274\n",
      "weighted avg       0.79      0.77      0.77       274\n",
      "\n"
     ]
    }
   ],
   "source": [
    "from sklearn.neighbors import KNeighborsClassifier\n",
    "\n",
    "knc = KNeighborsClassifier(n_neighbors = 3)\n",
    "knc.fit(vector_for_train, y_train)\n",
    "predictions = knc.predict(vector_for_testing)\n",
    "print(knc.score(vector_for_testing,y_test))\n",
    "print(metrics.classification_report(y_test, predictions))"
   ]
  }
 ],
 "metadata": {
  "kernelspec": {
   "display_name": "Python 3",
   "language": "python",
   "name": "python3"
  },
  "language_info": {
   "codemirror_mode": {
    "name": "ipython",
    "version": 3
   },
   "file_extension": ".py",
   "mimetype": "text/x-python",
   "name": "python",
   "nbconvert_exporter": "python",
   "pygments_lexer": "ipython3",
   "version": "3.8.5"
  }
 },
 "nbformat": 4,
 "nbformat_minor": 4
}
