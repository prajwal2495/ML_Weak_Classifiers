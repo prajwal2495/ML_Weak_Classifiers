{
 "cells": [
  {
   "cell_type": "code",
   "execution_count": 9,
   "metadata": {},
   "outputs": [],
   "source": [
    "import pandas as pd\n",
    "import numpy as np\n",
    "from copy import deepcopy\n",
    "from pdb import set_trace\n",
    "from sklearn.tree import DecisionTreeClassifier\n",
    "from sklearn.ensemble import AdaBoostClassifier"
   ]
  },
  {
   "cell_type": "code",
   "execution_count": 12,
   "metadata": {},
   "outputs": [
    {
     "name": "stdout",
     "output_type": "stream",
     "text": [
      "Iris-setosa\t0.389030\n",
      "Iris-setosa\t0.389030\n",
      "Iris-setosa\t0.389030\n",
      "Iris-setosa\t0.389030\n",
      "Iris-setosa\t0.389030\n",
      "Iris-versicolor\t0.379576\n",
      "Iris-versicolor\t0.379810\n",
      "Iris-versicolor\t0.364824\n",
      "Iris-versicolor\t0.379810\n",
      "Iris-versicolor\t0.364824\n",
      "Iris-virginica\t0.387201\n",
      "Iris-virginica\t0.365166\n",
      "Iris-virginica\t0.387201\n",
      "Iris-virginica\t0.387201\n",
      "Iris-virginica\t0.365166\n"
     ]
    }
   ],
   "source": [
    "#  Load training data\n",
    "data_train = pd.read_csv(\"../data/Iris_train.csv\")\n",
    "# Separate independent variables and dependent variables\n",
    "independent = [\"SepalLengthCm\",\t\"SepalWidthCm\",\t\"PetalLengthCm\",\t\"PetalWidthCm\"]\n",
    "X = data_train[independent]\n",
    "y = data_train[\"Species\"]\n",
    "# Train model\n",
    "base_estimator = AdaBoostClassifier(n_estimators=10, algorithm=\"SAMME\")\n",
    "#clf = my_AdaBoost(base_estimator=base_estimator, n_estimators = 10)\n",
    "base_estimator.fit(X, y)\n",
    "# Load testing data\n",
    "data_test = pd.read_csv(\"../data/Iris_test.csv\")\n",
    "X_test = data_test[independent]\n",
    "# Predict\n",
    "predictions = base_estimator.predict(X_test)\n",
    "#print(predictions)\n",
    "# Predict probabilities\n",
    "probs = base_estimator.predict_proba(X_test)\n",
    "#print(probs)\n",
    "# Print results\n",
    "for i,pred in enumerate(predictions):\n",
    "        print(\"%s\\t%f\" % (pred, np.max(probs[i])))"
   ]
  },
  {
   "cell_type": "code",
   "execution_count": null,
   "metadata": {},
   "outputs": [],
   "source": []
  }
 ],
 "metadata": {
  "kernelspec": {
   "display_name": "Python 3",
   "language": "python",
   "name": "python3"
  },
  "language_info": {
   "codemirror_mode": {
    "name": "ipython",
    "version": 3
   },
   "file_extension": ".py",
   "mimetype": "text/x-python",
   "name": "python",
   "nbconvert_exporter": "python",
   "pygments_lexer": "ipython3",
   "version": "3.8.2"
  }
 },
 "nbformat": 4,
 "nbformat_minor": 4
}
